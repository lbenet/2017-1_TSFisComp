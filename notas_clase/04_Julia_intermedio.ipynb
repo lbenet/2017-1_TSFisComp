{
 "cells": [
  {
   "cell_type": "markdown",
   "metadata": {},
   "source": [
    "# Julia nivel intermedio"
   ]
  },
  {
   "cell_type": "markdown",
   "metadata": {},
   "source": [
    "Hemos visto varias cosas:\n",
    "\n",
    "- asignación de variables, incluyendo diversos tipos numéricos(`Int64`, `Float64`, `BigFloat`, `Complex{Float64}`, `Rational{Int64}`, etc), cadenas, vectores, matrices\n",
    "\n",
    "- ciclos (`for`...`end`; `while`...`end`) y rangos (`a:b`)\n",
    "\n",
    "- diversas formas de condicionales\n",
    "\n",
    "- funciones simples\n",
    "\n",
    "Aquí seguiremos con esto, introduciendo ahora el concepto de funciones paramétricas, la forma de definir tipos arbitrarios y cómo escribir código que escribe o modifica código."
   ]
  },
  {
   "cell_type": "markdown",
   "metadata": {},
   "source": [
    "## Ejemplo: el método de Newton"
   ]
  },
  {
   "cell_type": "markdown",
   "metadata": {},
   "source": [
    "Como bien sabemos, el método de Newton es un método iterativo para encontrar los ceros, o raíces, de una ecuación $f(x)=0$. A partir de una aproximación $x_0$, y denotando la derivada de $f(x)$ como $f'(x)$, tenemos:\n",
    "\n",
    "\\begin{equation}\n",
    "x_{n+1} = x_n - \\frac{f(x_n)}{f'(x_n)} .\n",
    "\\end{equation}\n",
    "\n"
   ]
  },
  {
   "cell_type": "markdown",
   "metadata": {},
   "source": [
    "Para ejemplificar las cosas usaremos la función $f(x) = x^2-2$:"
   ]
  },
  {
   "cell_type": "code",
   "execution_count": 38,
   "metadata": {
    "collapsed": false
   },
   "outputs": [
    {
     "data": {
      "text/plain": [
       "f (generic function with 1 method)"
      ]
     },
     "execution_count": 38,
     "metadata": {},
     "output_type": "execute_result"
    }
   ],
   "source": [
    "f(x) = x^2 - 2.0"
   ]
  },
  {
   "cell_type": "markdown",
   "metadata": {},
   "source": [
    "... y su derivada:"
   ]
  },
  {
   "cell_type": "code",
   "execution_count": 39,
   "metadata": {
    "collapsed": false
   },
   "outputs": [
    {
     "data": {
      "text/plain": [
       "f´ (generic function with 1 method)"
      ]
     },
     "execution_count": 39,
     "metadata": {},
     "output_type": "execute_result"
    }
   ],
   "source": [
    "f´(x) = 2*x"
   ]
  },
  {
   "cell_type": "markdown",
   "metadata": {},
   "source": [
    "Entonces, el método de Newton vendría dado por el siguiente código:"
   ]
  },
  {
   "cell_type": "code",
   "execution_count": 40,
   "metadata": {
    "collapsed": false
   },
   "outputs": [
    {
     "name": "stdout",
     "output_type": "stream",
     "text": [
      "1\t1.8333333333333333\n",
      "2\t1.4621212121212122\n",
      "3\t1.4149984298948028\n",
      "4\t1.4142137800471977\n",
      "5\t1.4142135623731118\n",
      "6\t1.414213562373095\n",
      "7\t1.4142135623730951\n",
      "8\t1.414213562373095\n",
      "9\t1.4142135623730951\n",
      "10\t1.414213562373095\n"
     ]
    }
   ],
   "source": [
    "x_0 = 3.0\n",
    "\n",
    "for i in 1:10  # Consideramos 10 iteraciones del método\n",
    "    x_new = x_0 - f(x_0) / f´(x_0)\n",
    "    println(i, \"\\t\", x_new)\n",
    "    x_0 = x_new\n",
    "end\n",
    "x_0"
   ]
  },
  {
   "cell_type": "markdown",
   "metadata": {},
   "source": [
    "El error relativo es:"
   ]
  },
  {
   "cell_type": "code",
   "execution_count": 41,
   "metadata": {
    "collapsed": false
   },
   "outputs": [
    {
     "data": {
      "text/plain": [
       "1.4142135623730951"
      ]
     },
     "execution_count": 41,
     "metadata": {},
     "output_type": "execute_result"
    }
   ],
   "source": [
    "(ans-sqrt(2.0))/sqrt(2.0)"
   ]
  },
  {
   "cell_type": "markdown",
   "metadata": {},
   "source": [
    "Recordando la clase de cálculo I, el método de Newton converge si $x_0$ es *suficientemente* cercano a la raíz. Veamos qué pasa si *variamos* la condición inicial $x_0$."
   ]
  },
  {
   "cell_type": "code",
   "execution_count": 42,
   "metadata": {
    "collapsed": false
   },
   "outputs": [
    {
     "data": {
      "text/plain": [
       "-3.0:0.125:3.0"
      ]
     },
     "execution_count": 42,
     "metadata": {},
     "output_type": "execute_result"
    }
   ],
   "source": [
    "initial_guess = -3:0.125:3"
   ]
  },
  {
   "cell_type": "code",
   "execution_count": 43,
   "metadata": {
    "collapsed": false
   },
   "outputs": [
    {
     "data": {
      "text/plain": [
       "FloatRange{Float64} (constructor with 1 method)"
      ]
     },
     "execution_count": 43,
     "metadata": {},
     "output_type": "execute_result"
    }
   ],
   "source": [
    "typeof(initial_guess)"
   ]
  },
  {
   "cell_type": "code",
   "execution_count": 44,
   "metadata": {
    "collapsed": false
   },
   "outputs": [
    {
     "data": {
      "text/plain": [
       "49-element Array{Float64,1}:\n",
       " -3.0  \n",
       " -2.875\n",
       " -2.75 \n",
       " -2.625\n",
       " -2.5  \n",
       " -2.375\n",
       " -2.25 \n",
       " -2.125\n",
       " -2.0  \n",
       " -1.875\n",
       " -1.75 \n",
       " -1.625\n",
       " -1.5  \n",
       "  ⋮    \n",
       "  1.625\n",
       "  1.75 \n",
       "  1.875\n",
       "  2.0  \n",
       "  2.125\n",
       "  2.25 \n",
       "  2.375\n",
       "  2.5  \n",
       "  2.625\n",
       "  2.75 \n",
       "  2.875\n",
       "  3.0  "
      ]
     },
     "execution_count": 44,
     "metadata": {},
     "output_type": "execute_result"
    }
   ],
   "source": [
    "collect(initial_guess)   # use tab-completion <TAB> for long variable names!"
   ]
  },
  {
   "cell_type": "markdown",
   "metadata": {},
   "source": [
    "Defino el arreglo de salida que, entrada por entrada, corresponderá a las condiciones iniciales definidas en `initial_conditions`."
   ]
  },
  {
   "cell_type": "code",
   "execution_count": 45,
   "metadata": {
    "collapsed": false
   },
   "outputs": [
    {
     "data": {
      "text/plain": [
       "49-element Array{Float64,1}:\n",
       " 2.18202e-314\n",
       " 2.18202e-314\n",
       " 2.18183e-314\n",
       " 2.18203e-314\n",
       " 2.18198e-314\n",
       " 2.18196e-314\n",
       " 2.18189e-314\n",
       " 2.18196e-314\n",
       " 2.18197e-314\n",
       " 2.18183e-314\n",
       " 2.18196e-314\n",
       " 2.18203e-314\n",
       " 2.18196e-314\n",
       " ⋮           \n",
       " 0.0         \n",
       " 0.0         \n",
       " 0.0         \n",
       " 0.0         \n",
       " 0.0         \n",
       " 0.0         \n",
       " 0.0         \n",
       " 0.0         \n",
       " 0.0         \n",
       " 0.0         \n",
       " 0.0         \n",
       " 0.0         "
      ]
     },
     "execution_count": 45,
     "metadata": {},
     "output_type": "execute_result"
    }
   ],
   "source": [
    "roots = zeros(length(initial_guess))"
   ]
  },
  {
   "cell_type": "code",
   "execution_count": null,
   "metadata": {
    "collapsed": false
   },
   "outputs": [],
   "source": [
    "roots = similar(initial_guess)  # `similar` copy la estructura de `initial_guess` (tipo y \n",
    "                                # tamaño en `roots`"
   ]
  },
  {
   "cell_type": "markdown",
   "metadata": {},
   "source": [
    "El número de datos de `initial_guess` es precisamente 49:"
   ]
  },
  {
   "cell_type": "code",
   "execution_count": 46,
   "metadata": {
    "collapsed": false
   },
   "outputs": [
    {
     "data": {
      "text/plain": [
       "49"
      ]
     },
     "execution_count": 46,
     "metadata": {},
     "output_type": "execute_result"
    }
   ],
   "source": [
    "length(initial_guess)"
   ]
  },
  {
   "cell_type": "markdown",
   "metadata": {},
   "source": [
    "Ahora, implementamos todo junto; abajo, `enumerate(initial_conditions)` regresa una *tupla* con un enetero, que es el índice de la condición inicial (`j`), y su valor (`x_0`)"
   ]
  },
  {
   "cell_type": "code",
   "execution_count": 47,
   "metadata": {
    "collapsed": false
   },
   "outputs": [],
   "source": [
    "for (j, x_0) in enumerate(initial_guess)\n",
    "    x = x_0\n",
    "\n",
    "    # 100 iterates of Newton's method\n",
    "    for i in 1:100\n",
    "        x = x - f(x) / f´(x)\n",
    "    end\n",
    "    \n",
    "    roots[j] = x\n",
    "end"
   ]
  },
  {
   "cell_type": "markdown",
   "metadata": {},
   "source": [
    "Veamos los resultados:"
   ]
  },
  {
   "cell_type": "code",
   "execution_count": 48,
   "metadata": {
    "collapsed": false
   },
   "outputs": [
    {
     "name": "stdout",
     "output_type": "stream",
     "text": [
      "[-1.414213562373095,-1.4142135623730951,-1.4142135623730951,-1.414213562373095,-1.4142135623730951,-1.4142135623730951,-1.414213562373095,-1.414213562373095,-1.414213562373095,-1.4142135623730951,-1.4142135623730951,-1.4142135623730951,-1.4142135623730951,-1.4142135623730951,-1.4142135623730951,-1.4142135623730951,-1.414213562373095,-1.4142135623730951,-1.414213562373095,-1.4142135623730951,-1.4142135623730951,-1.4142135623730951,-1.414213562373095,-1.4142135623730951,NaN,1.4142135623730951,1.414213562373095,1.4142135623730951,1.4142135623730951,1.4142135623730951,1.414213562373095,1.4142135623730951,1.414213562373095,1.4142135623730951,1.4142135623730951,1.4142135623730951,1.4142135623730951,1.4142135623730951,1.4142135623730951,1.4142135623730951,1.414213562373095,1.414213562373095,1.414213562373095,1.4142135623730951,1.4142135623730951,1.414213562373095,1.4142135623730951,1.4142135623730951,1.414213562373095]"
     ]
    }
   ],
   "source": [
    "showall(roots)"
   ]
  },
  {
   "cell_type": "markdown",
   "metadata": {},
   "source": [
    "**Pregunta:** ¿Por qué hay un `NaN` entre las raíces obtenidas?"
   ]
  },
  {
   "cell_type": "code",
   "execution_count": 49,
   "metadata": {
    "collapsed": false
   },
   "outputs": [
    {
     "data": {
      "text/plain": [
       "NaN"
      ]
     },
     "execution_count": 49,
     "metadata": {},
     "output_type": "execute_result"
    }
   ],
   "source": [
    "roots[25]"
   ]
  },
  {
   "cell_type": "code",
   "execution_count": null,
   "metadata": {
    "collapsed": false
   },
   "outputs": [],
   "source": []
  },
  {
   "cell_type": "markdown",
   "metadata": {},
   "source": [
    "\n",
    "\n",
    "\n"
   ]
  },
  {
   "cell_type": "markdown",
   "metadata": {},
   "source": [
    "Ahora vamos a visualizar esto. Para eso usaremos el paquete \"PyPlot\", que es una interface para usar \"matplotlb\".\n",
    "\n",
    "Para instalarlo es necesario usar el siguiente comando:\n",
    "```julia\n",
    "    Pkg.add(\"PyPlot\")\n",
    "```\n",
    "\n",
    "Otros paquetes *registrados* se pueden encontrar [aquí](http://pkg.julialang.org/); la lista empieza a ser larga!"
   ]
  },
  {
   "cell_type": "markdown",
   "metadata": {},
   "source": [
    "Para empezar a usar un paquete ya instalado, en este caso \"PyPlot\", usamos el comando:\n",
    "\n",
    "```julia\n",
    "    using PyPlot\n",
    "```\n",
    "\n",
    "(Puede tardar un poco la primera vez que se utiliza.)"
   ]
  },
  {
   "cell_type": "code",
   "execution_count": 50,
   "metadata": {
    "collapsed": false
   },
   "outputs": [],
   "source": [
    "using PyPlot"
   ]
  },
  {
   "cell_type": "code",
   "execution_count": 51,
   "metadata": {
    "collapsed": false
   },
   "outputs": [
    {
     "data": {
      "image/png": "[encoded data removed]",
      "text/plain": [
       "Figure(PyObject <matplotlib.figure.Figure object at 0x113280590>)"
      ]
     },
     "metadata": {},
     "output_type": "display_data"
    },
    {
     "data": {
      "text/plain": [
       "1-element Array{Any,1}:\n",
       " PyObject <matplotlib.lines.Line2D object at 0x11369b090>"
      ]
     },
     "execution_count": 51,
     "metadata": {},
     "output_type": "execute_result"
    }
   ],
   "source": [
    "figure(figsize=(6,4)) # este comando define el tamaño de la figura\n",
    "\n",
    "plot(roots)           # este comando pinta las componentes \"y\" (`roots`); \n",
    "                      # en \"x\" se utiliza el índice del vector"
   ]
  },
  {
   "cell_type": "code",
   "execution_count": 52,
   "metadata": {
    "collapsed": false
   },
   "outputs": [
    {
     "data": {
      "image/png": "[encoded data removed]",
      "text/plain": [
       "Figure(PyObject <matplotlib.figure.Figure object at 0x1134a85d0>)"
      ]
     },
     "metadata": {},
     "output_type": "display_data"
    },
    {
     "data": {
      "text/plain": [
       "1-element Array{Any,1}:\n",
       " PyObject <matplotlib.lines.Line2D object at 0x1138085d0>"
      ]
     },
     "execution_count": 52,
     "metadata": {},
     "output_type": "execute_result"
    }
   ],
   "source": [
    "figure(figsize=(6,4)) # este comando define el tamaño de la figura\n",
    "\n",
    "plot(initial_guess, roots)    # este comando pinta las componentes \"y\" (`roots`); \n",
    "                              # en \"x\" se utiliza `initial_guess`\n",
    "\n",
    "title(L\"Convergencia del método de Newton para $f(x)=x^2-2$\", fontsize=10)\n",
    "\n",
    "xlabel(L\"$x_0$ (Condición inicial)\")\n",
    "ylabel(L\"$x_{100}$ (Iterado de Newton final)\")"
   ]
  },
  {
   "cell_type": "markdown",
   "metadata": {},
   "source": [
    "## Rendimiento"
   ]
  },
  {
   "cell_type": "markdown",
   "metadata": {},
   "source": [
    "La manera en que procedimos arriba **no** es la óptima para trabajar en Julia. Es **mucho** mejor poner código que será utilizado de manera repetida dentro de una función."
   ]
  },
  {
   "cell_type": "markdown",
   "metadata": {},
   "source": [
    "Entonces, lo anterior, lo empacamos dentro de una función."
   ]
  },
  {
   "cell_type": "code",
   "execution_count": 53,
   "metadata": {
    "collapsed": false
   },
   "outputs": [
    {
     "data": {
      "text/plain": [
       "compute_roots (generic function with 2 methods)"
      ]
     },
     "execution_count": 53,
     "metadata": {},
     "output_type": "execute_result"
    }
   ],
   "source": [
    "\"\"\"\n",
    "    compute_roots()\n",
    "\n",
    "This function computes the roots of `f(x)` (which must be defined before) \n",
    "for different initial iterates in the range [-20,20], and returns them \n",
    "packed in a vector.\n",
    "\"\"\"\n",
    "function compute_roots()\n",
    "    initial_conditions = -20:0.125:20\n",
    "    roots = similar(initial_conditions)\n",
    "\n",
    "    for (j, x_0) in enumerate(initial_conditions)\n",
    "        x = x_0\n",
    "\n",
    "        # 100 iterations of Newton's method\n",
    "        for i in 1:100\n",
    "            x = x - f(x) / f´(x)\n",
    "        end\n",
    "\n",
    "        roots[j] = x\n",
    "    end\n",
    "    \n",
    "    roots\n",
    "end"
   ]
  },
  {
   "cell_type": "markdown",
   "metadata": {},
   "source": [
    "Noten la salida de la definición de la función `compute_roots`:\n",
    "\n",
    "```\n",
    "    compute_roots (generic function with 1 method)\n",
    "```\n",
    "\n",
    "A esto volveremos más adelante..."
   ]
  },
  {
   "cell_type": "code",
   "execution_count": 54,
   "metadata": {
    "collapsed": false
   },
   "outputs": [
    {
     "name": "stdout",
     "output_type": "stream",
     "text": [
      "compute_roots (generic function with 2 methods)\n"
     ]
    }
   ],
   "source": [
    "?compute_roots"
   ]
  },
  {
   "cell_type": "markdown",
   "metadata": {},
   "source": [
    "**Ejercicio 1:** ¿Cuál es el tipo de `initial_conditions` y cual es el de `roots`?"
   ]
  },
  {
   "cell_type": "code",
   "execution_count": null,
   "metadata": {
    "collapsed": true
   },
   "outputs": [],
   "source": []
  },
  {
   "cell_type": "code",
   "execution_count": 55,
   "metadata": {
    "collapsed": false
   },
   "outputs": [],
   "source": [
    "# \";\" suprime la salida (el vector es demasiado largo)\n",
    "roots = compute_roots();"
   ]
  },
  {
   "cell_type": "markdown",
   "metadata": {},
   "source": [
    "¿Cuánto tiempo tardó esto?\n",
    "\n",
    "El *macro* `@time` (que usamos la clase pasada) permite precisamente medir el tiempo de ejecución.\n",
    "\n",
    "Julia *compila* cada función la primera vez que es utilizada. Es por eso que conviene compilar `@time`, y luego la ejecución de `@time` con la función que nos interesa medir. Así, para medir de manera consistente el tiempo de ejecución (modulo pequeñas fluctuaciones), es importante no incluir en esa medición la compilación de la función."
   ]
  },
  {
   "cell_type": "code",
   "execution_count": 56,
   "metadata": {
    "collapsed": false
   },
   "outputs": [
    {
     "name": "stdout",
     "output_type": "stream",
     "text": [
      "elapsed time: 1.86e-6 seconds (80 bytes allocated)\n"
     ]
    }
   ],
   "source": [
    "@time 1;"
   ]
  },
  {
   "cell_type": "code",
   "execution_count": 57,
   "metadata": {
    "collapsed": false
   },
   "outputs": [
    {
     "name": "stdout",
     "output_type": "stream",
     "text": [
      "elapsed time: 1.959e-6 seconds (80 bytes allocated)\n"
     ]
    }
   ],
   "source": [
    "@time 1;"
   ]
  },
  {
   "cell_type": "markdown",
   "metadata": {},
   "source": [
    "Las dos ejecuciones anteriores muestran que, al compilar (primer ejecución), julia utiliza espacio de memoria; una vez compiladas las cosas, el uso de memoria disminuye de manera importante. Incidentalmente, el uso exagerado de memoria muestra que las cosas pueden ser hechas de mejor manera..."
   ]
  },
  {
   "cell_type": "code",
   "execution_count": 58,
   "metadata": {
    "collapsed": false
   },
   "outputs": [
    {
     "name": "stdout",
     "output_type": "stream",
     "text": [
      "elapsed time: 0.000411674 seconds (2872 bytes allocated)\n"
     ]
    }
   ],
   "source": [
    "@time compute_roots();"
   ]
  },
  {
   "cell_type": "code",
   "execution_count": 59,
   "metadata": {
    "collapsed": false
   },
   "outputs": [
    {
     "name": "stdout",
     "output_type": "stream",
     "text": [
      "elapsed time: 0.000419439 seconds (2872 bytes allocated)\n"
     ]
    },
    {
     "data": {
      "text/plain": [
       "321-element Array{Float64,1}:\n",
       " -1.41421\n",
       " -1.41421\n",
       " -1.41421\n",
       " -1.41421\n",
       " -1.41421\n",
       " -1.41421\n",
       " -1.41421\n",
       " -1.41421\n",
       " -1.41421\n",
       " -1.41421\n",
       " -1.41421\n",
       " -1.41421\n",
       " -1.41421\n",
       "  ⋮      \n",
       "  1.41421\n",
       "  1.41421\n",
       "  1.41421\n",
       "  1.41421\n",
       "  1.41421\n",
       "  1.41421\n",
       "  1.41421\n",
       "  1.41421\n",
       "  1.41421\n",
       "  1.41421\n",
       "  1.41421\n",
       "  1.41421"
      ]
     },
     "execution_count": 59,
     "metadata": {},
     "output_type": "execute_result"
    }
   ],
   "source": [
    "@time compute_roots();  # como `compute_roots` ya está compilada, no hay mucho cambio en el\n",
    "                        # tiempo de ejecución o memoria usada"
   ]
  },
  {
   "cell_type": "markdown",
   "metadata": {},
   "source": [
    "¿Y si queremos calcular los ceros de otra función?\n",
    "\n",
    "- Habría que redefinir `f(x)` y `f'(x)`\n",
    "- Recompilar `compute_roots()`"
   ]
  },
  {
   "cell_type": "code",
   "execution_count": null,
   "metadata": {
    "collapsed": true
   },
   "outputs": [],
   "source": []
  },
  {
   "cell_type": "markdown",
   "metadata": {},
   "source": [
    "## Funciones genéricas"
   ]
  },
  {
   "cell_type": "markdown",
   "metadata": {},
   "source": [
    "Lo que hemos hecho hasta ahora está bien, pero *no* es muy genérico, en el sentido de que no es muy cómodo la implementación si queremos considerar distintas funciones `f(x)`.\n",
    "\n",
    "Para esto, *definimos* el siguiente *método* para la función `compute_roots`; noten que es el mismo nombre de la función que definimos antes."
   ]
  },
  {
   "cell_type": "code",
   "execution_count": 60,
   "metadata": {
    "collapsed": false
   },
   "outputs": [
    {
     "data": {
      "text/plain": [
       "compute_roots (generic function with 2 methods)"
      ]
     },
     "execution_count": 60,
     "metadata": {},
     "output_type": "execute_result"
    }
   ],
   "source": [
    "function compute_roots(f, f´)\n",
    "    initial_conditions = -20:0.125:20\n",
    "    roots = similar(initial_conditions)\n",
    "\n",
    "    for (j, x_0) in enumerate(initial_conditions)\n",
    "        x = x_0\n",
    "\n",
    "        # 100 iterations of Newton's method\n",
    "        for i in 1:100\n",
    "            x = x - f(x) / f´(x)\n",
    "        end\n",
    "\n",
    "        roots[j] = x\n",
    "    end\n",
    "    \n",
    "    roots\n",
    "end"
   ]
  },
  {
   "cell_type": "markdown",
   "metadata": {},
   "source": [
    "Es importante notar que, ahora, tenemos 2 métodos definidos para la *misma* función `compute_roots`. Esto es, **no** hemos sobreescrito la función `compute_roots`, sino que hemos creado un nuevo método. \n",
    "\n",
    "Los métodos se distinguen por el tipo de argumentos de la función: en un caso *no* hay ningún argumento, mientras que en el otro hay dos argumentos.\n",
    "\n",
    "La instrucción `methods` ayuda a saber cuántos métodos hay asociados a una función, incluyendo información sobre el tipo de los parámetros; esto último es la \"signatura de tipo\" (*type signature*)."
   ]
  },
  {
   "cell_type": "code",
   "execution_count": 61,
   "metadata": {
    "collapsed": false
   },
   "outputs": [
    {
     "data": {
      "text/html": [
       "2 methods for generic function <b>compute_roots</b>:<ul><li> compute_roots() at In[53]:9<li> compute_roots(f,f´) at In[60]:2</ul>"
      ],
      "text/plain": [
       "# 2 methods for generic function \"compute_roots\":\n",
       "compute_roots() at In[53]:9\n",
       "compute_roots(f,f´) at In[60]:2"
      ]
     },
     "execution_count": 61,
     "metadata": {},
     "output_type": "execute_result"
    }
   ],
   "source": [
    "methods(compute_roots)"
   ]
  },
  {
   "cell_type": "markdown",
   "metadata": {},
   "source": [
    "**Ejercicio 2:** ¿De qué tipo son las variables f y f´?"
   ]
  },
  {
   "cell_type": "code",
   "execution_count": null,
   "metadata": {
    "collapsed": true
   },
   "outputs": [],
   "source": []
  },
  {
   "cell_type": "markdown",
   "metadata": {},
   "source": [
    "Ejecutamos ahora la nueva implementación de las funciones:"
   ]
  },
  {
   "cell_type": "code",
   "execution_count": 62,
   "metadata": {
    "collapsed": false
   },
   "outputs": [
    {
     "name": "stdout",
     "output_type": "stream",
     "text": [
      "elapsed time: 0.020520096 seconds (2322588 bytes allocated)\n"
     ]
    }
   ],
   "source": [
    "@time compute_roots(f, f´);"
   ]
  },
  {
   "cell_type": "code",
   "execution_count": 63,
   "metadata": {
    "collapsed": false
   },
   "outputs": [
    {
     "name": "stdout",
     "output_type": "stream",
     "text": [
      "elapsed time: 0.004635294 seconds (2062408 bytes allocated)\n"
     ]
    }
   ],
   "source": [
    "@time compute_roots(f, f´);"
   ]
  },
  {
   "cell_type": "markdown",
   "metadata": {},
   "source": [
    "Vale la pena notar que, la vieja implementación es más rápida que la nueva, incluyendo un mejor uso de la memoria. Esto se debe a que Julia v0.4 *no* sabe cómo inferir el resultado de $f$ y $f'$, cuando son pasadas como argumento de una función; esto cambia y se vuelve más eficiente en Julia v0.5. "
   ]
  },
  {
   "cell_type": "markdown",
   "metadata": {},
   "source": [
    "Como vimos anteriormente, la manera de notar que `compute_roots(f,f´)` va a dar problemas se obtiene usando el macro `@code_warntype`. \n",
    "\n",
    "En las siguientes dos ejecuciones, vale la pena *notar* en el apartado de variables que la variable `x` en un caso es un `Float64` y en el otro es `Any`, respectivamente para `compute_roots()` y `compute_roots(f,f´)`; obtener `Any` es *mala señal*:"
   ]
  },
  {
   "cell_type": "code",
   "execution_count": 64,
   "metadata": {
    "collapsed": false
   },
   "outputs": [
    {
     "ename": "LoadError",
     "evalue": "@code_warntype not defined\nwhile loading In[64], in expression starting on line 1",
     "output_type": "error",
     "traceback": [
      "@code_warntype not defined\nwhile loading In[64], in expression starting on line 1",
      ""
     ]
    }
   ],
   "source": [
    "@code_warntype(compute_roots())"
   ]
  },
  {
   "cell_type": "code",
   "execution_count": 65,
   "metadata": {
    "collapsed": false
   },
   "outputs": [
    {
     "ename": "LoadError",
     "evalue": "@code_warntype not defined\nwhile loading In[65], in expression starting on line 1",
     "output_type": "error",
     "traceback": [
      "@code_warntype not defined\nwhile loading In[65], in expression starting on line 1",
      ""
     ]
    }
   ],
   "source": [
    "@code_warntype(compute_roots(f, f´))"
   ]
  },
  {
   "cell_type": "markdown",
   "metadata": {},
   "source": [
    "Otra manera de hacer esto mismo, pero usando funciones anónimas es la siguiente:"
   ]
  },
  {
   "cell_type": "code",
   "execution_count": 66,
   "metadata": {
    "collapsed": false
   },
   "outputs": [
    {
     "name": "stdout",
     "output_type": "stream",
     "text": [
      "elapsed time: 0.013241627 seconds (2578360 bytes allocated)\n"
     ]
    }
   ],
   "source": [
    "@time compute_roots(x->x^2-2, x->2x);"
   ]
  },
  {
   "cell_type": "code",
   "execution_count": 67,
   "metadata": {
    "collapsed": false
   },
   "outputs": [
    {
     "name": "stdout",
     "output_type": "stream",
     "text": [
      "elapsed time: 0.01363148 seconds (2578360 bytes allocated)\n"
     ]
    }
   ],
   "source": [
    "@time compute_roots(x->x^2-2, x->2x);"
   ]
  },
  {
   "cell_type": "markdown",
   "metadata": {},
   "source": [
    "¿Cómo le podemos hacer si queremos guardar el tiempo de ejecución?"
   ]
  },
  {
   "cell_type": "code",
   "execution_count": null,
   "metadata": {
    "collapsed": false
   },
   "outputs": [],
   "source": [
    "@elapsed compute_roots(x->x^2-2, x->2x)"
   ]
  },
  {
   "cell_type": "markdown",
   "metadata": {},
   "source": [
    "En este momento (versión 0.4 de Julia), las funciones anónimas son aún lentas, pero se pueden hacer trucos para que funcionen mejor. Esto tiene que ver con el hecho de que Julia no sabe el tipo de resultado de las funciones anónimas, en el momento de compilar la función.\n",
    "\n",
    "Hagamos otro ejemplo un poco más interesante:"
   ]
  },
  {
   "cell_type": "code",
   "execution_count": 68,
   "metadata": {
    "collapsed": false
   },
   "outputs": [
    {
     "name": "stdout",
     "output_type": "stream",
     "text": [
      "elapsed time: 0.029926578 seconds (8229192 bytes allocated)\n"
     ]
    }
   ],
   "source": [
    "@time roots = compute_roots( x -> (x-1)*(x-2)*(x-3), \n",
    "                             x->(x-2)*(x-3)+(x-1)*(x-3)+(x-1)*(x-2) );"
   ]
  },
  {
   "cell_type": "code",
   "execution_count": 69,
   "metadata": {
    "collapsed": false
   },
   "outputs": [
    {
     "name": "stdout",
     "output_type": "stream",
     "text": [
      "elapsed time: 0.029331508 seconds (8229192 bytes allocated)\n"
     ]
    }
   ],
   "source": [
    "@time roots = compute_roots( x -> (x-1)*(x-2)*(x-3), \n",
    "                             x->(x-2)*(x-3)+(x-1)*(x-3)+(x-1)*(x-2) );"
   ]
  },
  {
   "cell_type": "code",
   "execution_count": 70,
   "metadata": {
    "collapsed": false
   },
   "outputs": [
    {
     "data": {
      "image/png": "[encoded data removed]",
      "text/plain": [
       "Figure(PyObject <matplotlib.figure.Figure object at 0x1134c7490>)"
      ]
     },
     "metadata": {},
     "output_type": "display_data"
    },
    {
     "data": {
      "text/plain": [
       "(0,4)"
      ]
     },
     "execution_count": 70,
     "metadata": {},
     "output_type": "execute_result"
    }
   ],
   "source": [
    "figure(figsize=(6,4))\n",
    "plot(-20:0.125:20, roots)\n",
    "ylim(0,4)"
   ]
  },
  {
   "cell_type": "code",
   "execution_count": 71,
   "metadata": {
    "collapsed": false
   },
   "outputs": [
    {
     "data": {
      "image/png": "[encoded data removed]",
      "text/plain": [
       "Figure(PyObject <matplotlib.figure.Figure object at 0x1136a99d0>)"
      ]
     },
     "metadata": {},
     "output_type": "display_data"
    },
    {
     "data": {
      "text/plain": [
       "(1,3)"
      ]
     },
     "execution_count": 71,
     "metadata": {},
     "output_type": "execute_result"
    }
   ],
   "source": [
    "figure(figsize=(6,4))\n",
    "plot(-20:0.125:20, roots, \"g.-\")\n",
    "ylim(0,4)\n",
    "xlim(1,3)"
   ]
  },
  {
   "cell_type": "markdown",
   "metadata": {},
   "source": [
    "**Ejercicio 3:** Modificar y documentar (!) la función `compute_roots` de tal manera que la condición inicial sea un rango arbitrario que el usuario da a la entrada.\n",
    "\n",
    "Usando esta función, ¿cómo se ve las raíces a las que converge la iteración del método de Newton para $f(x) = (x-1)(x-2)(x-3)$? En este caso vale la pena concentrarse en valores $x_0\\in [1,3]$, usar muchos puntos y quizás hacer observar localmente la estructura."
   ]
  },
  {
   "cell_type": "code",
   "execution_count": null,
   "metadata": {
    "collapsed": false
   },
   "outputs": [],
   "source": [
    "function compute_roots(f, f´, initial_conditions)\n",
    "#     initial_conditions = -20:0.125:20\n",
    "    roots = similar(initial_conditions)\n",
    "\n",
    "    for (j, x_0) in enumerate(initial_conditions)\n",
    "        x = x_0\n",
    "\n",
    "        # 100 iterations of Newton's method\n",
    "        for i in 1:100\n",
    "            x = x - f(x) / f´(x)\n",
    "        end\n",
    "\n",
    "        roots[j] = x\n",
    "    end\n",
    "    \n",
    "    roots\n",
    "end"
   ]
  },
  {
   "cell_type": "code",
   "execution_count": null,
   "metadata": {
    "collapsed": false
   },
   "outputs": [],
   "source": [
    "figure(figsize=(6,4))\n",
    "myrange = 1.0:1/8:3.0\n",
    "\n",
    "plot(myrange, \n",
    "     compute_roots( x -> (x-1)*(x-2)*(x-3), \n",
    "            x->(x-2)*(x-3)+(x-1)*(x-3)+(x-1)*(x-2), \n",
    "            myrange ), \n",
    "    \"g.-\")\n",
    "\n",
    "\n",
    "ylim(0,4)\n",
    "xlim(1,3)"
   ]
  },
  {
   "cell_type": "code",
   "execution_count": null,
   "metadata": {
    "collapsed": false
   },
   "outputs": [],
   "source": [
    "figure(figsize=(6,4))\n",
    "myrange = 1.3:1/364:1.7\n",
    "\n",
    "plot(myrange, \n",
    "     compute_roots( x -> (x-1)*(x-2)*(x-3), \n",
    "            x->(x-2)*(x-3)+(x-1)*(x-3)+(x-1)*(x-2), \n",
    "            myrange ), \n",
    "    \"g.-\")\n",
    "\n",
    "\n",
    "ylim(0,4)\n"
   ]
  },
  {
   "cell_type": "code",
   "execution_count": null,
   "metadata": {
    "collapsed": false
   },
   "outputs": [],
   "source": [
    "figure(figsize=(6,4))\n",
    "myrange = 1.5:1/2^12:1.6\n",
    "\n",
    "plot(myrange, \n",
    "     compute_roots( x -> (x-1)*(x-2)*(x-3), \n",
    "            x->(x-2)*(x-3)+(x-1)*(x-3)+(x-1)*(x-2), \n",
    "            myrange ), \n",
    "    \"g.-\")\n",
    "\n",
    "\n",
    "ylim(0,4)\n"
   ]
  },
  {
   "cell_type": "code",
   "execution_count": null,
   "metadata": {
    "collapsed": false
   },
   "outputs": [],
   "source": [
    "figure(figsize=(6,4))\n",
    "myrange = 1.552:1/2^16:1.5552\n",
    "\n",
    "plot(myrange, \n",
    "     compute_roots( x -> (x-1)*(x-2)*(x-3), \n",
    "            x->(x-2)*(x-3)+(x-1)*(x-3)+(x-1)*(x-2), \n",
    "            myrange ), \n",
    "    \"g.-\")\n",
    "\n",
    "\n",
    "ylim(0,4)\n"
   ]
  },
  {
   "cell_type": "markdown",
   "metadata": {},
   "source": [
    "## Global scope"
   ]
  },
  {
   "cell_type": "markdown",
   "metadata": {},
   "source": [
    "Las variables (asignaciones) que uno define en el Jupyter notebook o en el REPL, por ejemplo, ejecutando\n",
    "```julia\n",
    "    x = 3\n",
    "```\n",
    "están definidas en lo que se llama el *global scope*. Las que uno define internamente en ciclos (por ejemplo, `for... x = 4 ... end`) o en funciones, están definidas en el *local scope*, del ciclo o de la función.\n",
    "\n",
    "Una cuestión **importante** es que Julia *penaliza* las variables definidas en el global scope; la razón es que dichas variables pueden eventualmente cambiar de tipo, por lo que deben ser guardadas como apuntadores.\n",
    "\n",
    "(Si las variables cambian de tipo en el local scope, ya vimos que esto está muy penalizado.)\n"
   ]
  },
  {
   "cell_type": "markdown",
   "metadata": {},
   "source": [
    "Si uno quiere usar, de manera eficiente, variables en el *global scope*, uno debe definirlas como *constantes*:\n",
    "```julia\n",
    "    const x = 3\n",
    "```\n",
    "\n",
    "La variable `x` será definida como de tipo `Int` en este ejemplo. Uno puede cambiarle el valor, pero no el tipo."
   ]
  },
  {
   "cell_type": "code",
   "execution_count": null,
   "metadata": {
    "collapsed": false
   },
   "outputs": [],
   "source": [
    "const var_globalscope = 3"
   ]
  },
  {
   "cell_type": "code",
   "execution_count": null,
   "metadata": {
    "collapsed": false
   },
   "outputs": [],
   "source": [
    "var_globalscope"
   ]
  },
  {
   "cell_type": "code",
   "execution_count": null,
   "metadata": {
    "collapsed": false
   },
   "outputs": [],
   "source": [
    "isconst(var_globalscope)"
   ]
  },
  {
   "cell_type": "code",
   "execution_count": null,
   "metadata": {
    "collapsed": false
   },
   "outputs": [],
   "source": [
    "isconst(:var_globalscope)"
   ]
  },
  {
   "cell_type": "code",
   "execution_count": null,
   "metadata": {
    "collapsed": false
   },
   "outputs": [],
   "source": [
    "var_globalscope = 0"
   ]
  },
  {
   "cell_type": "code",
   "execution_count": null,
   "metadata": {
    "collapsed": false
   },
   "outputs": [],
   "source": [
    "var_globalscope"
   ]
  },
  {
   "cell_type": "code",
   "execution_count": null,
   "metadata": {
    "collapsed": false
   },
   "outputs": [],
   "source": [
    "isconst(:var_globalscope)"
   ]
  },
  {
   "cell_type": "code",
   "execution_count": null,
   "metadata": {
    "collapsed": false
   },
   "outputs": [],
   "source": [
    "var_globalscope = 1.125"
   ]
  },
  {
   "cell_type": "code",
   "execution_count": null,
   "metadata": {
    "collapsed": false
   },
   "outputs": [],
   "source": [
    "const var_globalscope = 1.125"
   ]
  },
  {
   "cell_type": "markdown",
   "metadata": {},
   "source": [
    "## El método de Newton sobre los complejos"
   ]
  },
  {
   "cell_type": "markdown",
   "metadata": {},
   "source": [
    "Ahora, implementaremos el método de Newton, para alguna función modelo ($f(z) = z^3-1$), pero usaremos condiciones iniciales en los complejos.\n",
    "\n",
    "Las condiciones iniciales, igual que antes, las definiremos a partir de un `FloatRange{Float64}`, que usaremos tanto para la parte real como para la parte imaginaria de $z_0$."
   ]
  },
  {
   "cell_type": "markdown",
   "metadata": {},
   "source": [
    "A priori podríamos proceder como antes. Sin embargo, hay *sutilezas*, ya que la salida `roots` no será un vector, sino una matriz."
   ]
  },
  {
   "cell_type": "code",
   "execution_count": 72,
   "metadata": {
    "collapsed": false
   },
   "outputs": [
    {
     "data": {
      "text/plain": [
       "f´ (generic function with 1 method)"
      ]
     },
     "execution_count": 72,
     "metadata": {},
     "output_type": "execute_result"
    }
   ],
   "source": [
    "const cc = complex(1.0,0.0)\n",
    "\n",
    "f(z) = z^3 - cc\n",
    "f´(z) = 3*z^2"
   ]
  },
  {
   "cell_type": "markdown",
   "metadata": {},
   "source": [
    "**NOTA**: La siguiente función necesita las funciones $f$ y $f'$, lo que permite usarlas en contextos más generales. Esto, como vimos antes, tiene una penalización en la ejecución."
   ]
  },
  {
   "cell_type": "code",
   "execution_count": 73,
   "metadata": {
    "collapsed": false
   },
   "outputs": [
    {
     "data": {
      "text/plain": [
       "compute_complex_roots (generic function with 2 methods)"
      ]
     },
     "execution_count": 73,
     "metadata": {},
     "output_type": "execute_result"
    }
   ],
   "source": [
    "function compute_complex_roots(f, f´, range=-5.0:0.125:5.0)  # default value\n",
    "\n",
    "    L = length(range)\n",
    "    \n",
    "    ## Se define la matriz con todos los elementos inicialmente en cero\n",
    "    roots = zeros(Complex128, L, L)  # set a matrix of appropriate length to zero\n",
    "\n",
    "#     for (j, y) in enumerate(range)\n",
    "#         for (i, x) in enumerate(range)\n",
    "    for (j, y) in enumerate(range), (i, x) in enumerate(range)\n",
    "            \n",
    "            z = x + y*im\n",
    "            \n",
    "            for k in 1:1000\n",
    "                z = z - f(z) / f´(z)\n",
    "            end\n",
    "            \n",
    "            roots[i,j] = z\n",
    "            \n",
    "    end\n",
    "    \n",
    "    roots\n",
    "end"
   ]
  },
  {
   "cell_type": "code",
   "execution_count": 74,
   "metadata": {
    "collapsed": false
   },
   "outputs": [
    {
     "name": "stdout",
     "output_type": "stream",
     "text": [
      "elapsed time: 0.09648446 seconds (12201740 bytes allocated, 48.18% gc time)\n"
     ]
    }
   ],
   "source": [
    "@time compute_complex_roots(f, f´, -5.0:1.0:5.0);"
   ]
  },
  {
   "cell_type": "code",
   "execution_count": 75,
   "metadata": {
    "collapsed": false
   },
   "outputs": [
    {
     "name": "stdout",
     "output_type": "stream",
     "text": [
      "elapsed time: 33.759614839 seconds (9896058000 bytes allocated, 34.26% gc time)\n"
     ]
    }
   ],
   "source": [
    "@time croots = compute_complex_roots(f, f´, -5.0:1/32:5.0);"
   ]
  },
  {
   "cell_type": "markdown",
   "metadata": {},
   "source": [
    "**Ejercicio 4:** Encuentren la implementación más rápida de `compute_complex_roots` considerando las dos opciones relacionadas con el ´rden en que aparecen los índices (i,j)en el doble ciclo.\n",
    "\n",
    "¿Por qué `compute_complex_roots` tiene 2 métodos definidos?"
   ]
  },
  {
   "cell_type": "code",
   "execution_count": null,
   "metadata": {
    "collapsed": true
   },
   "outputs": [],
   "source": []
  },
  {
   "cell_type": "markdown",
   "metadata": {},
   "source": [
    "Visualicemos los resultados: para esto usaremos `imshow`, que sirve para visualizar una matriz, y el código de colores lo definiremos a partir de la parte imaginaria de `roots`."
   ]
  },
  {
   "cell_type": "code",
   "execution_count": 76,
   "metadata": {
    "collapsed": false
   },
   "outputs": [
    {
     "data": {
      "image/png": "[encoded data removed]",
      "text/plain": [
       "Figure(PyObject <matplotlib.figure.Figure object at 0x1136a98d0>)"
      ]
     },
     "metadata": {},
     "output_type": "display_data"
    },
    {
     "data": {
      "text/plain": [
       "PyObject <matplotlib.image.AxesImage object at 0x113e124d0>"
      ]
     },
     "execution_count": 76,
     "metadata": {},
     "output_type": "execute_result"
    }
   ],
   "source": [
    "imshow(imag(croots))"
   ]
  },
  {
   "cell_type": "markdown",
   "metadata": {},
   "source": [
    "**NOTA** La librería `PyPlot` está basada en `matplotlib`; en la red hay muchos recursos para usar `matplotlib` y generar diversos tipos de gráficas."
   ]
  },
  {
   "cell_type": "markdown",
   "metadata": {},
   "source": [
    "## Definición de nuevos tipos o estructuras"
   ]
  },
  {
   "cell_type": "markdown",
   "metadata": {},
   "source": [
    "Ahora veremos cómo crear nuevos tipos. Esto es algo impresionantemente útil, ya que permite definir un arreglo compacto de datos de interés. Dado que Julia se basa en el tipo, esto se traduce en velocidad."
   ]
  },
  {
   "cell_type": "markdown",
   "metadata": {},
   "source": [
    "A manera ilustrativa definiremos un nuevo tipo, que llamaremos `AuDiff`."
   ]
  },
  {
   "cell_type": "markdown",
   "metadata": {},
   "source": [
    "### Los campos de un `type`"
   ]
  },
  {
   "cell_type": "markdown",
   "metadata": {},
   "source": [
    "Para entender un poco más lo que significa definir un nuevo tipo, consideremos los números complejos:"
   ]
  },
  {
   "cell_type": "code",
   "execution_count": 77,
   "metadata": {
    "collapsed": false
   },
   "outputs": [
    {
     "data": {
      "text/plain": [
       "3 + 2im"
      ]
     },
     "execution_count": 77,
     "metadata": {},
     "output_type": "execute_result"
    }
   ],
   "source": [
    "z0 = complex(3,2) # z=3+2im"
   ]
  },
  {
   "cell_type": "code",
   "execution_count": 78,
   "metadata": {
    "collapsed": false
   },
   "outputs": [
    {
     "data": {
      "text/plain": [
       "Complex{Int64} (constructor with 1 method)"
      ]
     },
     "execution_count": 78,
     "metadata": {},
     "output_type": "execute_result"
    }
   ],
   "source": [
    "typeof(ans)"
   ]
  },
  {
   "cell_type": "markdown",
   "metadata": {},
   "source": [
    "La instrucción `fieldnames` da los campos internos de un tipo; vale la pena notar que el resultado consiste en un vector de *símbolos*. Estos símbolos son los nombres de los campos internos del tipo."
   ]
  },
  {
   "cell_type": "code",
   "execution_count": 79,
   "metadata": {
    "collapsed": false
   },
   "outputs": [
    {
     "data": {
      "text/plain": [
       "2-element Array{Symbol,1}:\n",
       " :re\n",
       " :im"
      ]
     },
     "execution_count": 79,
     "metadata": {},
     "output_type": "execute_result"
    }
   ],
   "source": [
    "fieldnames(z0)"
   ]
  },
  {
   "cell_type": "code",
   "execution_count": 80,
   "metadata": {
    "collapsed": false
   },
   "outputs": [
    {
     "data": {
      "text/plain": [
       "(3,2)"
      ]
     },
     "execution_count": 80,
     "metadata": {},
     "output_type": "execute_result"
    }
   ],
   "source": [
    "z0.re, z0.im"
   ]
  },
  {
   "cell_type": "code",
   "execution_count": 81,
   "metadata": {
    "collapsed": false
   },
   "outputs": [
    {
     "data": {
      "text/plain": [
       "(Int64,Int64)"
      ]
     },
     "execution_count": 81,
     "metadata": {},
     "output_type": "execute_result"
    }
   ],
   "source": [
    "typeof(ans)"
   ]
  },
  {
   "cell_type": "code",
   "execution_count": null,
   "metadata": {
    "collapsed": false
   },
   "outputs": [],
   "source": [
    "BigInt(1)//2"
   ]
  },
  {
   "cell_type": "code",
   "execution_count": null,
   "metadata": {
    "collapsed": false
   },
   "outputs": [],
   "source": [
    "typeof(ans)"
   ]
  },
  {
   "cell_type": "code",
   "execution_count": null,
   "metadata": {
    "collapsed": false
   },
   "outputs": [],
   "source": [
    "fieldnames(BigInt(1)//2)"
   ]
  },
  {
   "cell_type": "markdown",
   "metadata": {},
   "source": [
    "### Definición del tipo `AuDiff`"
   ]
  },
  {
   "cell_type": "markdown",
   "metadata": {},
   "source": [
    "La sintáxis básica para definir nuevos tipos es:"
   ]
  },
  {
   "cell_type": "code",
   "execution_count": 82,
   "metadata": {
    "collapsed": true
   },
   "outputs": [],
   "source": [
    "type AuDiff\n",
    "    fun :: Float64\n",
    "    der :: Float64\n",
    "end"
   ]
  },
  {
   "cell_type": "markdown",
   "metadata": {},
   "source": [
    "En la celda anterior, el doble dos-puntos `::` sirve para *anotar* el tipo de las variables internas. Esto es, `AuDiff` constará de dos componentes, `fun` y `der`, ambas del tipo `Float64`."
   ]
  },
  {
   "cell_type": "markdown",
   "metadata": {},
   "source": [
    "Por **convención**, las estructuras de tipo empiezan con una *mayúscula*; las funciones empiezan en *minúsculas*."
   ]
  },
  {
   "cell_type": "markdown",
   "metadata": {},
   "source": [
    "Veamos cuántos métodos hemos definido en torno a `AuDiff`:"
   ]
  },
  {
   "cell_type": "code",
   "execution_count": 83,
   "metadata": {
    "collapsed": false
   },
   "outputs": [
    {
     "data": {
      "text/html": [
       "2 methods for generic function <b>AuDiff</b>:<ul><li> AuDiff(fun::<b>Float64</b>,der::<b>Float64</b>)<li> AuDiff(fun,der)</ul>"
      ],
      "text/plain": [
       "# 2 methods for generic function \"AuDiff\":\n",
       "AuDiff(fun::Float64,der::Float64)\n",
       "AuDiff(fun,der)"
      ]
     },
     "execution_count": 83,
     "metadata": {},
     "output_type": "execute_result"
    }
   ],
   "source": [
    "methods(AuDiff)"
   ]
  },
  {
   "cell_type": "markdown",
   "metadata": {},
   "source": [
    "Usando el resultado de `methods`, probamos con la función `call`:"
   ]
  },
  {
   "cell_type": "code",
   "execution_count": 84,
   "metadata": {
    "collapsed": false
   },
   "outputs": [
    {
     "ename": "LoadError",
     "evalue": "call not defined\nwhile loading In[84], in expression starting on line 1",
     "output_type": "error",
     "traceback": [
      "call not defined\nwhile loading In[84], in expression starting on line 1",
      ""
     ]
    }
   ],
   "source": [
    "call(AuDiff, 1.0, 2.0)"
   ]
  },
  {
   "cell_type": "code",
   "execution_count": 85,
   "metadata": {
    "collapsed": false
   },
   "outputs": [
    {
     "ename": "LoadError",
     "evalue": "call not defined\nwhile loading In[85], in expression starting on line 1",
     "output_type": "error",
     "traceback": [
      "call not defined\nwhile loading In[85], in expression starting on line 1",
      ""
     ]
    }
   ],
   "source": [
    "call(AuDiff, 1, 2)"
   ]
  },
  {
   "cell_type": "code",
   "execution_count": 86,
   "metadata": {
    "collapsed": false
   },
   "outputs": [
    {
     "ename": "LoadError",
     "evalue": "call not defined\nwhile loading In[86], in expression starting on line 1",
     "output_type": "error",
     "traceback": [
      "call not defined\nwhile loading In[86], in expression starting on line 1",
      ""
     ]
    }
   ],
   "source": [
    "call(AuDiff, (1, 2)...) # \"...\" es el 'splat' operator"
   ]
  },
  {
   "cell_type": "markdown",
   "metadata": {},
   "source": [
    "Los puntos suspensivos `...` implican que la *tupla* (1,2) será separada en sus componentes individuales, cada una considerada como un parámetro independiente."
   ]
  },
  {
   "cell_type": "markdown",
   "metadata": {},
   "source": [
    "**NOTA:** La función `call` de hecho es la forma genérica de crear cualquier tipo en Julia v0.4, pero se tornará obsoleta, por lo que no la usaremos. En cambio, usaremos la forma más explícita:"
   ]
  },
  {
   "cell_type": "code",
   "execution_count": 87,
   "metadata": {
    "collapsed": false
   },
   "outputs": [
    {
     "data": {
      "text/plain": [
       "AuDiff(1.0,4.0)"
      ]
     },
     "execution_count": 87,
     "metadata": {},
     "output_type": "execute_result"
    }
   ],
   "source": [
    "x = AuDiff(1, 4)"
   ]
  },
  {
   "cell_type": "code",
   "execution_count": 88,
   "metadata": {
    "collapsed": false
   },
   "outputs": [
    {
     "data": {
      "text/plain": [
       "AuDiff(5.0,6.0)"
      ]
     },
     "execution_count": 88,
     "metadata": {},
     "output_type": "execute_result"
    }
   ],
   "source": [
    "y = AuDiff(5, 6)"
   ]
  },
  {
   "cell_type": "code",
   "execution_count": 89,
   "metadata": {
    "collapsed": false
   },
   "outputs": [
    {
     "data": {
      "text/plain": [
       "2-element Array{Symbol,1}:\n",
       " :fun\n",
       " :der"
      ]
     },
     "execution_count": 89,
     "metadata": {},
     "output_type": "execute_result"
    }
   ],
   "source": [
    "fieldnames(AuDiff)"
   ]
  },
  {
   "cell_type": "code",
   "execution_count": 90,
   "metadata": {
    "collapsed": false
   },
   "outputs": [
    {
     "data": {
      "text/plain": [
       "1.0"
      ]
     },
     "execution_count": 90,
     "metadata": {},
     "output_type": "execute_result"
    }
   ],
   "source": [
    "x.fun"
   ]
  },
  {
   "cell_type": "markdown",
   "metadata": {},
   "source": [
    "Vale la pena notar que uno puede modificar los campos internos de un tipo:"
   ]
  },
  {
   "cell_type": "code",
   "execution_count": 91,
   "metadata": {
    "collapsed": false
   },
   "outputs": [
    {
     "data": {
      "text/plain": [
       "3.0"
      ]
     },
     "execution_count": 91,
     "metadata": {},
     "output_type": "execute_result"
    }
   ],
   "source": [
    "x.fun = 3"
   ]
  },
  {
   "cell_type": "code",
   "execution_count": 92,
   "metadata": {
    "collapsed": false
   },
   "outputs": [
    {
     "data": {
      "text/plain": [
       "AuDiff(3.0,4.0)"
      ]
     },
     "execution_count": 92,
     "metadata": {},
     "output_type": "execute_result"
    }
   ],
   "source": [
    "x"
   ]
  },
  {
   "cell_type": "markdown",
   "metadata": {},
   "source": [
    "**NOTA:** Uno también puede definir estructuras en que **no** sea posible modificar los valores internos; un ejemplo es `Rational`."
   ]
  },
  {
   "cell_type": "markdown",
   "metadata": {},
   "source": [
    "Sin importar mucho el significado de cada componente, la pregunta es si podemos sumar dos de ellos. Problemos:"
   ]
  },
  {
   "cell_type": "code",
   "execution_count": 93,
   "metadata": {
    "collapsed": false
   },
   "outputs": [
    {
     "ename": "LoadError",
     "evalue": "`+` has no method matching +(::AuDiff, ::AuDiff)\nwhile loading In[93], in expression starting on line 1",
     "output_type": "error",
     "traceback": [
      "`+` has no method matching +(::AuDiff, ::AuDiff)\nwhile loading In[93], in expression starting on line 1",
      ""
     ]
    }
   ],
   "source": [
    "x + y"
   ]
  },
  {
   "cell_type": "markdown",
   "metadata": {},
   "source": [
    "Julia nos arroja un error ya que *no* está definida la función `+` para los argumentos de tipo `AuDiff`; el mensaje de la primer línea es perfectamente claro.\n",
    "\n",
    "Entonces, dado que *no* está definido, y nos interesa usarlo, podemos simplemente definirlo. Por ejemplo, usando la siguiente definición:"
   ]
  },
  {
   "cell_type": "code",
   "execution_count": 94,
   "metadata": {
    "collapsed": false
   },
   "outputs": [
    {
     "data": {
      "text/plain": [
       "+ (generic function with 144 methods)"
      ]
     },
     "execution_count": 94,
     "metadata": {},
     "output_type": "execute_result"
    }
   ],
   "source": [
    "+(a::AuDiff, b::AuDiff) = AuDiff( a.fun+b.fun, a.der+b.der )"
   ]
  },
  {
   "cell_type": "code",
   "execution_count": 95,
   "metadata": {
    "collapsed": false
   },
   "outputs": [
    {
     "data": {
      "text/plain": [
       "AuDiff(8.0,10.0)"
      ]
     },
     "execution_count": 95,
     "metadata": {},
     "output_type": "execute_result"
    }
   ],
   "source": [
    "x + y"
   ]
  },
  {
   "cell_type": "markdown",
   "metadata": {},
   "source": [
    "De igual manera procedemos con las demás operaciones. Para evitar el mensaje, importaremos primero las funciones desde `Base` y luego las definiremos."
   ]
  },
  {
   "cell_type": "code",
   "execution_count": 96,
   "metadata": {
    "collapsed": false
   },
   "outputs": [
    {
     "data": {
      "text/plain": [
       "- (generic function with 156 methods)"
      ]
     },
     "execution_count": 96,
     "metadata": {},
     "output_type": "execute_result"
    }
   ],
   "source": [
    "import Base.- # \"import + from Base\"\n",
    "\n",
    "-(a::AuDiff, b::AuDiff) = AuDiff(a.fun-b.fun, a.der-b.der)"
   ]
  },
  {
   "cell_type": "code",
   "execution_count": 97,
   "metadata": {
    "collapsed": false
   },
   "outputs": [
    {
     "data": {
      "text/plain": [
       "^ (generic function with 46 methods)"
      ]
     },
     "execution_count": 97,
     "metadata": {},
     "output_type": "execute_result"
    }
   ],
   "source": [
    "x - y"
   ]
  },
  {
   "cell_type": "code",
   "execution_count": null,
   "metadata": {
    "collapsed": false
   },
   "outputs": [],
   "source": [
    "x * y"
   ]
  },
  {
   "cell_type": "code",
   "execution_count": null,
   "metadata": {
    "collapsed": false
   },
   "outputs": [],
   "source": [
    "import Base: *, /, ^\n",
    "\n",
    "*(a::AuDiff, b::AuDiff) = AuDiff( a.fun*b.fun, a.fun*b.der+a.der*b.fun )\n",
    "\n",
    "function /(a::AuDiff, b::AuDiff)\n",
    "    nn = a.fun/b.fun\n",
    "    dd = (a.der - nn*b.der)/b.fun\n",
    "    return AuDiff(nn, dd)\n",
    "end\n",
    "\n",
    "^(a::AuDiff, n::Int) = AuDiff(a.fun^n, n * a.der * a.fun^(n-1))"
   ]
  },
  {
   "cell_type": "markdown",
   "metadata": {},
   "source": [
    "Veamos algunos ejemplos:"
   ]
  },
  {
   "cell_type": "code",
   "execution_count": 98,
   "metadata": {
    "collapsed": false
   },
   "outputs": [
    {
     "data": {
      "text/plain": [
       "AuDiff(8.0,10.0)"
      ]
     },
     "execution_count": 98,
     "metadata": {},
     "output_type": "execute_result"
    }
   ],
   "source": [
    "x + y"
   ]
  },
  {
   "cell_type": "code",
   "execution_count": 99,
   "metadata": {
    "collapsed": false
   },
   "outputs": [
    {
     "data": {
      "text/plain": [
       "AuDiff(-2.0,-2.0)"
      ]
     },
     "execution_count": 99,
     "metadata": {},
     "output_type": "execute_result"
    }
   ],
   "source": [
    "x - y"
   ]
  },
  {
   "cell_type": "code",
   "execution_count": 100,
   "metadata": {
    "collapsed": false
   },
   "outputs": [
    {
     "data": {
      "text/plain": [
       "AuDiff(15.0,38.0)"
      ]
     },
     "execution_count": 100,
     "metadata": {},
     "output_type": "execute_result"
    }
   ],
   "source": [
    "x * y"
   ]
  },
  {
   "cell_type": "code",
   "execution_count": 101,
   "metadata": {
    "collapsed": false
   },
   "outputs": [
    {
     "data": {
      "text/plain": [
       "AuDiff(0.6,0.08000000000000007)"
      ]
     },
     "execution_count": 101,
     "metadata": {},
     "output_type": "execute_result"
    }
   ],
   "source": [
    "x / y"
   ]
  },
  {
   "cell_type": "markdown",
   "metadata": {},
   "source": [
    "Y, si tengo funciones, esto jala de maravilla:"
   ]
  },
  {
   "cell_type": "code",
   "execution_count": null,
   "metadata": {
    "collapsed": false
   },
   "outputs": [],
   "source": [
    "g(x,y) = x^2-y^3"
   ]
  },
  {
   "cell_type": "code",
   "execution_count": null,
   "metadata": {
    "collapsed": false
   },
   "outputs": [],
   "source": [
    "g(x,y)"
   ]
  },
  {
   "cell_type": "markdown",
   "metadata": {},
   "source": [
    "### Tipos parametrizados"
   ]
  },
  {
   "cell_type": "markdown",
   "metadata": {},
   "source": [
    "El tipo `AuDiff` que definimos arriba funciona, pero es rígido en el sentido de que sus campos son *siempre* `Float64`. Por ejemplo:"
   ]
  },
  {
   "cell_type": "code",
   "execution_count": 102,
   "metadata": {
    "collapsed": false
   },
   "outputs": [
    {
     "data": {
      "text/plain": [
       "AuDiff(0.8333333333333333,2.0)"
      ]
     },
     "execution_count": 102,
     "metadata": {},
     "output_type": "execute_result"
    }
   ],
   "source": [
    "AuDiff(1//2, 1//1) + AuDiff(1//3, 1//1)"
   ]
  },
  {
   "cell_type": "code",
   "execution_count": 103,
   "metadata": {
    "collapsed": false
   },
   "outputs": [
    {
     "ename": "LoadError",
     "evalue": "InexactError()\nwhile loading In[103], in expression starting on line 1",
     "output_type": "error",
     "traceback": [
      "InexactError()\nwhile loading In[103], in expression starting on line 1",
      "",
      " in AuDiff at no file"
     ]
    }
   ],
   "source": [
    "AuDiff(complex(1,2), complex(1,1))"
   ]
  },
  {
   "cell_type": "markdown",
   "metadata": {},
   "source": [
    "Hay situaciones en que nos interesa tener un tipo y que éste funcione para distintos tipos de signatura de los parámetros internos, por ejemplo, con `Complex` o `Rational` u otras cosas del estilo. Por ejemplo, cosas tipo:"
   ]
  },
  {
   "cell_type": "code",
   "execution_count": 104,
   "metadata": {
    "collapsed": false
   },
   "outputs": [
    {
     "data": {
      "text/plain": [
       "Complex{Float64} (constructor with 1 method)"
      ]
     },
     "execution_count": 104,
     "metadata": {},
     "output_type": "execute_result"
    }
   ],
   "source": [
    "typeof(complex(1.0,2.0))"
   ]
  },
  {
   "cell_type": "code",
   "execution_count": 105,
   "metadata": {
    "collapsed": false
   },
   "outputs": [
    {
     "data": {
      "text/plain": [
       "Complex{Int64} (constructor with 1 method)"
      ]
     },
     "execution_count": 105,
     "metadata": {},
     "output_type": "execute_result"
    }
   ],
   "source": [
    "typeof(complex(1,2))"
   ]
  },
  {
   "cell_type": "code",
   "execution_count": 106,
   "metadata": {
    "collapsed": false
   },
   "outputs": [
    {
     "data": {
      "text/plain": [
       "Array{Float64,1}"
      ]
     },
     "execution_count": 106,
     "metadata": {},
     "output_type": "execute_result"
    }
   ],
   "source": [
    "typeof( [1, 2.1] )"
   ]
  },
  {
   "cell_type": "markdown",
   "metadata": {},
   "source": [
    "Noten arriba que el entero \"1\" es *promovido* a Float64 \"1.0\", que es el tipo del segundo elemento."
   ]
  },
  {
   "cell_type": "markdown",
   "metadata": {},
   "source": [
    "Trataremos de hacer esto; sin embargo, Julia **no** permite redefinir las estructuras. Por esto, borraremos **todos** los nombres que tenemos definidos, e iniciaremos de nuevo."
   ]
  },
  {
   "cell_type": "code",
   "execution_count": 107,
   "metadata": {
    "collapsed": true
   },
   "outputs": [],
   "source": [
    "workspace()"
   ]
  },
  {
   "cell_type": "code",
   "execution_count": 108,
   "metadata": {
    "collapsed": false
   },
   "outputs": [],
   "source": [
    "x"
   ]
  },
  {
   "cell_type": "code",
   "execution_count": null,
   "metadata": {
    "collapsed": true
   },
   "outputs": [],
   "source": [
    "type AuDiff{T}\n",
    "    fun :: T\n",
    "    der :: T\n",
    "end"
   ]
  },
  {
   "cell_type": "markdown",
   "metadata": {},
   "source": [
    "En la definición de `AuDiff`, `T` representa el tipo de la estructura que creamos y *parametriza* a `AuDiff` lo que se indica con `{T}`. Dada esta definición, ambas componentes `x` y `y` tienen que ser del (mismo) tipo `T`."
   ]
  },
  {
   "cell_type": "code",
   "execution_count": 109,
   "metadata": {
    "collapsed": false
   },
   "outputs": [
    {
     "name": "stdout",
     "output_type": "stream",
     "text": [
      "x => AuDiff{Int64}(1,3)\n",
      "y => AuDiff{Float64}(2.0,3.5)\n"
     ]
    },
    {
     "data": {
      "text/plain": [
       "AuDiff{Float64}(2.0,3.5)"
      ]
     },
     "execution_count": 109,
     "metadata": {},
     "output_type": "execute_result"
    }
   ],
   "source": [
    "x = AuDiff(1,3)\n",
    "\n",
    "y = AuDiff(2.0,3.5)\n",
    "\n",
    "@show(x, y)"
   ]
  },
  {
   "cell_type": "markdown",
   "metadata": {},
   "source": [
    "El definir una estructura parametrizada hace que, por default, si los parámetros **no** cumplen la signatura del tipo, haya un error:"
   ]
  },
  {
   "cell_type": "code",
   "execution_count": 110,
   "metadata": {
    "collapsed": false
   },
   "outputs": [
    {
     "ename": "LoadError",
     "evalue": "`AuDiff{T}` has no method matching AuDiff{T}(::Int64, ::Float64)\nwhile loading In[110], in expression starting on line 1",
     "output_type": "error",
     "traceback": [
      "`AuDiff{T}` has no method matching AuDiff{T}(::Int64, ::Float64)\nwhile loading In[110], in expression starting on line 1",
      ""
     ]
    }
   ],
   "source": [
    "AuDiff(1, 2.3)"
   ]
  },
  {
   "cell_type": "markdown",
   "metadata": {},
   "source": [
    "Noten que la actual definición de `AuDiff{T}` (parametrizada) es *demasiado* flexible, esto es, permite definir ciertos tipos que, quizás, no nos interesa considerar."
   ]
  },
  {
   "cell_type": "code",
   "execution_count": 111,
   "metadata": {
    "collapsed": false
   },
   "outputs": [
    {
     "data": {
      "text/plain": [
       "AuDiff{ASCIIString}(\"Soy\",\"Luis\")"
      ]
     },
     "execution_count": 111,
     "metadata": {},
     "output_type": "execute_result"
    }
   ],
   "source": [
    "AuDiff(\"Soy\", \"Luis\")"
   ]
  },
  {
   "cell_type": "markdown",
   "metadata": {},
   "source": [
    "Las funciones, de hecho, también pueden ser parametrizadas:"
   ]
  },
  {
   "cell_type": "code",
   "execution_count": 112,
   "metadata": {
    "collapsed": false
   },
   "outputs": [
    {
     "data": {
      "text/plain": [
       "+ (generic function with 145 methods)"
      ]
     },
     "execution_count": 112,
     "metadata": {},
     "output_type": "execute_result"
    }
   ],
   "source": [
    "import Base.+\n",
    "\n",
    "+{T}(a::AuDiff{T}, b::AuDiff{T}) = AuDiff{T}(a.fun+b.fun, a.der+b.der)"
   ]
  },
  {
   "cell_type": "markdown",
   "metadata": {},
   "source": [
    "Noten arriba que la función, de hecho, está parametrizada, y que el parámetro está relacionado con el parámetros del tipo de los argumentos. \n",
    "\n"
   ]
  },
  {
   "cell_type": "code",
   "execution_count": 113,
   "metadata": {
    "collapsed": false
   },
   "outputs": [
    {
     "data": {
      "text/plain": [
       "AuDiff{Int64}(0,5)"
      ]
     },
     "execution_count": 113,
     "metadata": {},
     "output_type": "execute_result"
    }
   ],
   "source": [
    "AuDiff(1,3) + AuDiff(-1,2)"
   ]
  },
  {
   "cell_type": "code",
   "execution_count": 114,
   "metadata": {
    "collapsed": false
   },
   "outputs": [
    {
     "ename": "LoadError",
     "evalue": "`+` has no method matching +(::AuDiff{Int64}, ::AuDiff{Rational{Int64}})\nwhile loading In[114], in expression starting on line 1",
     "output_type": "error",
     "traceback": [
      "`+` has no method matching +(::AuDiff{Int64}, ::AuDiff{Rational{Int64}})\nwhile loading In[114], in expression starting on line 1",
      ""
     ]
    }
   ],
   "source": [
    "AuDiff(1,3) + AuDiff(-1//2,2//2)"
   ]
  },
  {
   "cell_type": "markdown",
   "metadata": {},
   "source": [
    "El error es claro: no hemos definido cómo sumar `AuDiff{Int64}` con `AuDiff{Rational{Int64}}`; únicamente hemos definido la suma de dos `AuDiff{Int64}` o de dos `AuDiff{Rational{Int64}}`, pero ambos deben ser del mismo tipo, incluyendo sus parametrizaciones."
   ]
  },
  {
   "cell_type": "markdown",
   "metadata": {},
   "source": [
    "Uno, de hecho, podría haber definido la misma operación sin incluir la parte paramétrica; esto tiene consecuencias interesantes, que de hecho, a veces son deseables. Así, tenemos:"
   ]
  },
  {
   "cell_type": "code",
   "execution_count": 115,
   "metadata": {
    "collapsed": false
   },
   "outputs": [
    {
     "data": {
      "text/plain": [
       "- (generic function with 157 methods)"
      ]
     },
     "execution_count": 115,
     "metadata": {},
     "output_type": "execute_result"
    }
   ],
   "source": [
    "import Base.-\n",
    "-(a::AuDiff, b::AuDiff) = AuDiff(a.fun-b.fun, a.der-b.der)"
   ]
  },
  {
   "cell_type": "code",
   "execution_count": 116,
   "metadata": {
    "collapsed": false
   },
   "outputs": [
    {
     "data": {
      "text/plain": [
       "AuDiff{Int64}(2,1)"
      ]
     },
     "execution_count": 116,
     "metadata": {},
     "output_type": "execute_result"
    }
   ],
   "source": [
    "AuDiff(1,3) - AuDiff(-1,2)"
   ]
  },
  {
   "cell_type": "code",
   "execution_count": 117,
   "metadata": {
    "collapsed": false
   },
   "outputs": [
    {
     "data": {
      "text/plain": [
       "AuDiff{Float64}(-2.0,1.9)"
      ]
     },
     "execution_count": 117,
     "metadata": {},
     "output_type": "execute_result"
    }
   ],
   "source": [
    "AuDiff(1,3) - AuDiff(3.0,1.1)"
   ]
  },
  {
   "cell_type": "code",
   "execution_count": 118,
   "metadata": {
    "collapsed": false
   },
   "outputs": [
    {
     "ename": "LoadError",
     "evalue": "`-` has no method matching -(::Int64, ::ASCIIString)\nwhile loading In[118], in expression starting on line 1",
     "output_type": "error",
     "traceback": [
      "`-` has no method matching -(::Int64, ::ASCIIString)\nwhile loading In[118], in expression starting on line 1",
      "",
      " in - at In[115]:2"
     ]
    }
   ],
   "source": [
    "AuDiff(1,3) - AuDiff(\"Soy\", \"Luis\")"
   ]
  },
  {
   "cell_type": "markdown",
   "metadata": {},
   "source": [
    "Gracias a que *no* impusimos que `a` y `b` sean *ambos* `AuDiff{T}`, julia puede restarlos."
   ]
  },
  {
   "cell_type": "markdown",
   "metadata": {},
   "source": [
    "### Promotion and convertion"
   ]
  },
  {
   "cell_type": "markdown",
   "metadata": {},
   "source": [
    "La pregunta es, cómo conseguir que *no* nos de un error la instrucción `Vector2D(1, 3.2)`. La respuesta tiene que ver con definir reglas de conversión y promoción. (En este caso concreto, como veremos abajo, una regla de promoción es suficiente.)"
   ]
  },
  {
   "cell_type": "markdown",
   "metadata": {},
   "source": [
    "Convertir entre tipos (donde esto tenga sentido) se logra usando `convert`:"
   ]
  },
  {
   "cell_type": "code",
   "execution_count": 119,
   "metadata": {
    "collapsed": false
   },
   "outputs": [
    {
     "data": {
      "text/plain": [
       "0.5"
      ]
     },
     "execution_count": 119,
     "metadata": {},
     "output_type": "execute_result"
    }
   ],
   "source": [
    "convert(Float64, 1//2)"
   ]
  },
  {
   "cell_type": "code",
   "execution_count": 120,
   "metadata": {
    "collapsed": false
   },
   "outputs": [
    {
     "data": {
      "text/plain": [
       "2-element Array{Float64,1}:\n",
       " 0.5     \n",
       " 0.333333"
      ]
     },
     "execution_count": 120,
     "metadata": {},
     "output_type": "execute_result"
    }
   ],
   "source": [
    "convert(Array{Float64,1}, [1//2, 1//3])"
   ]
  },
  {
   "cell_type": "code",
   "execution_count": 121,
   "metadata": {
    "collapsed": false
   },
   "outputs": [
    {
     "data": {
      "text/plain": [
       "1//2"
      ]
     },
     "execution_count": 121,
     "metadata": {},
     "output_type": "execute_result"
    }
   ],
   "source": [
    "x = convert(Rational{Int128}, 0.5)"
   ]
  },
  {
   "cell_type": "code",
   "execution_count": 122,
   "metadata": {
    "collapsed": false
   },
   "outputs": [
    {
     "data": {
      "text/plain": [
       "Rational{Int128} (constructor with 1 method)"
      ]
     },
     "execution_count": 122,
     "metadata": {},
     "output_type": "execute_result"
    }
   ],
   "source": [
    "typeof(x)"
   ]
  },
  {
   "cell_type": "markdown",
   "metadata": {},
   "source": [
    "La operación de conversión debe tener sentido; por ejemplo, ¿qué esperamos que nos de `convert(Int64, 0.6)`?"
   ]
  },
  {
   "cell_type": "code",
   "execution_count": 123,
   "metadata": {
    "collapsed": false
   },
   "outputs": [
    {
     "ename": "LoadError",
     "evalue": "InexactError()\nwhile loading In[123], in expression starting on line 1",
     "output_type": "error",
     "traceback": [
      "InexactError()\nwhile loading In[123], in expression starting on line 1",
      "",
      " in convert at int.jl:299"
     ]
    }
   ],
   "source": [
    "convert(Int64, 0.6)"
   ]
  },
  {
   "cell_type": "markdown",
   "metadata": {},
   "source": [
    "También, existe la promoción de varios objetos a un tipo común:"
   ]
  },
  {
   "cell_type": "code",
   "execution_count": 124,
   "metadata": {
    "collapsed": false
   },
   "outputs": [
    {
     "data": {
      "text/plain": [
       "(1//1,1//2,2//1)"
      ]
     },
     "execution_count": 124,
     "metadata": {},
     "output_type": "execute_result"
    }
   ],
   "source": [
    "tup = promote(1, 1//2, BigInt(2))"
   ]
  },
  {
   "cell_type": "code",
   "execution_count": 125,
   "metadata": {
    "collapsed": false
   },
   "outputs": [
    {
     "data": {
      "text/plain": [
       "(Rational{BigInt},Rational{BigInt},Rational{BigInt})"
      ]
     },
     "execution_count": 125,
     "metadata": {},
     "output_type": "execute_result"
    }
   ],
   "source": [
    "typeof(tup)"
   ]
  },
  {
   "cell_type": "markdown",
   "metadata": {},
   "source": [
    "Como vimos, Julia define un árbol jerárquico en la organización de los tipos. Para entender esto veamos dos casos:"
   ]
  },
  {
   "cell_type": "code",
   "execution_count": 126,
   "metadata": {
    "collapsed": false
   },
   "outputs": [
    {
     "name": "stdout",
     "output_type": "stream",
     "text": [
      "DataType   : Int64\n",
      "  supertype: Signed\n"
     ]
    }
   ],
   "source": [
    "? Int64"
   ]
  },
  {
   "cell_type": "code",
   "execution_count": 127,
   "metadata": {
    "collapsed": false
   },
   "outputs": [
    {
     "name": "stdout",
     "output_type": "stream",
     "text": [
      "DataType   : Rational{T<:Integer} (constructor with 3 methods)\n",
      "  supertype: Real\n",
      "  fields   : (:num,:den)\n"
     ]
    }
   ],
   "source": [
    "? Rational"
   ]
  },
  {
   "cell_type": "code",
   "execution_count": 128,
   "metadata": {
    "collapsed": false
   },
   "outputs": [
    {
     "name": "stdout",
     "output_type": "stream",
     "text": [
      "DataType   : Signed\n",
      "  supertype: Integer\n",
      "  subtypes : {Int128,Int16,Int32,Int64,Int8}\n"
     ]
    }
   ],
   "source": [
    "? Signed"
   ]
  },
  {
   "cell_type": "markdown",
   "metadata": {},
   "source": [
    "Esto muestra que hay ciertos tipos *concretos* (como `Int64`, `Float64`) y *otros* que son abstractos; los segundos en algún sentido agrupan varios tipos distintos."
   ]
  },
  {
   "cell_type": "markdown",
   "metadata": {},
   "source": [
    "La instrucción `super` permite ver qué tipo está directamente arriba en la estructura del árbol:"
   ]
  },
  {
   "cell_type": "code",
   "execution_count": 129,
   "metadata": {
    "collapsed": false
   },
   "outputs": [
    {
     "data": {
      "text/plain": [
       "FloatingPoint"
      ]
     },
     "execution_count": 129,
     "metadata": {},
     "output_type": "execute_result"
    }
   ],
   "source": [
    "super(Float64)"
   ]
  },
  {
   "cell_type": "code",
   "execution_count": 130,
   "metadata": {
    "collapsed": false
   },
   "outputs": [
    {
     "ename": "LoadError",
     "evalue": "AbstractFloat not defined\nwhile loading In[130], in expression starting on line 1",
     "output_type": "error",
     "traceback": [
      "AbstractFloat not defined\nwhile loading In[130], in expression starting on line 1",
      ""
     ]
    }
   ],
   "source": [
    "super(AbstractFloat)"
   ]
  },
  {
   "cell_type": "code",
   "execution_count": 131,
   "metadata": {
    "collapsed": false
   },
   "outputs": [
    {
     "data": {
      "text/plain": [
       "Number"
      ]
     },
     "execution_count": 131,
     "metadata": {},
     "output_type": "execute_result"
    }
   ],
   "source": [
    "super(Real)"
   ]
  },
  {
   "cell_type": "markdown",
   "metadata": {},
   "source": [
    "... y la instrucción subtypes, qué está por debajo:"
   ]
  },
  {
   "cell_type": "code",
   "execution_count": 132,
   "metadata": {
    "collapsed": false
   },
   "outputs": [
    {
     "data": {
      "text/plain": [
       "5-element Array{Any,1}:\n",
       " FixedPoint          \n",
       " FloatingPoint       \n",
       " Integer             \n",
       " MathConst{sym}      \n",
       " Rational{T<:Integer}"
      ]
     },
     "execution_count": 132,
     "metadata": {},
     "output_type": "execute_result"
    }
   ],
   "source": [
    "subtypes(Real)"
   ]
  },
  {
   "cell_type": "code",
   "execution_count": 133,
   "metadata": {
    "collapsed": false
   },
   "outputs": [
    {
     "data": {
      "text/plain": [
       "2-element Array{Any,1}:\n",
       " Complex{T<:Real}\n",
       " Real            "
      ]
     },
     "execution_count": 133,
     "metadata": {},
     "output_type": "execute_result"
    }
   ],
   "source": [
    "subtypes(Number)"
   ]
  },
  {
   "cell_type": "markdown",
   "metadata": {},
   "source": [
    "La estructura de árbol tiene un tope *por arriba*, `Any`:"
   ]
  },
  {
   "cell_type": "code",
   "execution_count": 134,
   "metadata": {
    "collapsed": false
   },
   "outputs": [
    {
     "data": {
      "text/plain": [
       "Any"
      ]
     },
     "execution_count": 134,
     "metadata": {},
     "output_type": "execute_result"
    }
   ],
   "source": [
    "super(Number)"
   ]
  },
  {
   "cell_type": "code",
   "execution_count": 135,
   "metadata": {
    "collapsed": false
   },
   "outputs": [
    {
     "data": {
      "text/plain": [
       "Any"
      ]
     },
     "execution_count": 135,
     "metadata": {},
     "output_type": "execute_result"
    }
   ],
   "source": [
    "super(Any)"
   ]
  },
  {
   "cell_type": "code",
   "execution_count": 136,
   "metadata": {
    "collapsed": false
   },
   "outputs": [
    {
     "data": {
      "text/plain": [
       "257-element Array{Any,1}:\n",
       " AbstractArray{T,N}                                                                                                                    \n",
       " AbstractCmd                                                                                                                           \n",
       " AbstractEntry                                                                                                                         \n",
       " AbstractExcludeLast{ContainerType<:Union(SortedSet{K,Ord<:Ordering},SortedDict{K,D,Ord<:Ordering},SortedMultiDict{K,D,Ord<:Ordering})}\n",
       " AbstractFormatter                                                                                                                     \n",
       " AbstractHeap{VT}                                                                                                                      \n",
       " AbstractIncludeLast{ContainerType<:Union(SortedSet{K,Ord<:Ordering},SortedDict{K,D,Ord<:Ordering},SortedMultiDict{K,D,Ord<:Ordering})}\n",
       " AbstractREPL                                                                                                                          \n",
       " AbstractRNG                                                                                                                           \n",
       " AbstractSemiToken                                                                                                                     \n",
       " AbstractTime                                                                                                                          \n",
       " Accumulator{T,V<:Number}                                                                                                              \n",
       " Algorithm                                                                                                                             \n",
       " ⋮                                                                                                                                     \n",
       " VersionNumber                                                                                                                         \n",
       " VersionSet                                                                                                                            \n",
       " VersionWeight                                                                                                                         \n",
       " WeakRef                                                                                                                               \n",
       " Worker                                                                                                                                \n",
       " ZeroOffsetVector                                                                                                                      \n",
       " Zip2{I1,I2}                                                                                                                           \n",
       " Zip{I<:(Any...,)}                                                                                                                     \n",
       " c_CholmodDense{T<:Union(Float64,Complex{Float64})}                                                                                    \n",
       " c_CholmodFactor{Tv<:Union(Float64,Complex{Float64}),Ti<:Union(Int32,Int64)}                                                           \n",
       " c_CholmodSparse{Tv<:Union(Float64,Complex{Float64}),Ti<:Union(Int32,Int64)}                                                           \n",
       " c_CholmodTriplet{Tv<:Union(Float64,Complex{Float64}),Ti<:Union(Int32,Int64)}                                                          "
      ]
     },
     "execution_count": 136,
     "metadata": {},
     "output_type": "execute_result"
    }
   ],
   "source": [
    "subtypes(Any)"
   ]
  },
  {
   "cell_type": "markdown",
   "metadata": {},
   "source": [
    "Vale la pena notar que existe, entre varias cosas, el tipo `Void` (antes `Nothing`)"
   ]
  },
  {
   "cell_type": "code",
   "execution_count": 137,
   "metadata": {
    "collapsed": false
   },
   "outputs": [
    {
     "name": "stdout",
     "output_type": "stream",
     "text": [
      "None is of type\n",
      "DataType   : UnionType\n",
      "  supertype: Type{T<:Top}\n",
      "  fields   : (:types,)\n"
     ]
    }
   ],
   "source": [
    "? Void"
   ]
  },
  {
   "cell_type": "markdown",
   "metadata": {},
   "source": [
    "Volviendo al punto de cómo hacer para que `Vector2D{1, 3.2}` funcione, podemos definir un nuevo *método*, para la creación del tipo `Vector2D`, que involucre una promoción de tipos, de la siguiente manera:"
   ]
  },
  {
   "cell_type": "code",
   "execution_count": 138,
   "metadata": {
    "collapsed": false
   },
   "outputs": [
    {
     "data": {
      "text/plain": [
       "AuDiff{T} (constructor with 2 methods)"
      ]
     },
     "execution_count": 138,
     "metadata": {},
     "output_type": "execute_result"
    }
   ],
   "source": [
    "AuDiff(a, b) = AuDiff(promote(a,b)...)"
   ]
  },
  {
   "cell_type": "code",
   "execution_count": 139,
   "metadata": {
    "collapsed": false
   },
   "outputs": [
    {
     "data": {
      "text/html": [
       "2 methods for generic function <b>AuDiff</b>:<ul><li> AuDiff<i>{T}</i>(fun::<b>T</b>,der::<b>T</b>)<li> AuDiff(a,b) at In[138]:1</ul>"
      ],
      "text/plain": [
       "# 2 methods for generic function \"AuDiff\":\n",
       "AuDiff{T}(fun::T,der::T)\n",
       "AuDiff(a,b) at In[138]:1"
      ]
     },
     "execution_count": 139,
     "metadata": {},
     "output_type": "execute_result"
    }
   ],
   "source": [
    "methods(AuDiff)"
   ]
  },
  {
   "cell_type": "code",
   "execution_count": 140,
   "metadata": {
    "collapsed": false
   },
   "outputs": [
    {
     "data": {
      "text/plain": [
       "AuDiff{Float64}(1.0,3.2)"
      ]
     },
     "execution_count": 140,
     "metadata": {},
     "output_type": "execute_result"
    }
   ],
   "source": [
    "AuDiff(1, 3.2)"
   ]
  },
  {
   "cell_type": "markdown",
   "metadata": {},
   "source": [
    "Obviamente, esto sólo tendrá sentido cuando la promoción tiene sentido; cuando no la tiene, arrojará un error:"
   ]
  },
  {
   "cell_type": "code",
   "execution_count": 141,
   "metadata": {
    "collapsed": false
   },
   "outputs": [
    {
     "ename": "LoadError",
     "evalue": "stack overflow\nwhile loading In[141], in expression starting on line 1",
     "output_type": "error",
     "traceback": [
      "stack overflow\nwhile loading In[141], in expression starting on line 1",
      "",
      " in AuDiff at In[138]:1 (repeats 80000 times)"
     ]
    }
   ],
   "source": [
    "AuDiff(\"Hola\", 3.2)"
   ]
  },
  {
   "cell_type": "markdown",
   "metadata": {},
   "source": [
    "Por último, uno puede restringir el tipo de parámetros de una estructura, usando la notación ` T <: R` que significa que el parámetro `T` es subtipo de `R`. Un ejemplo es `T <: Real`."
   ]
  },
  {
   "cell_type": "code",
   "execution_count": 142,
   "metadata": {
    "collapsed": true
   },
   "outputs": [],
   "source": [
    "workspace()"
   ]
  },
  {
   "cell_type": "code",
   "execution_count": 143,
   "metadata": {
    "collapsed": true
   },
   "outputs": [],
   "source": [
    "type AuDiff{T<:Real}\n",
    "    fun :: T\n",
    "    der :: T\n",
    "end"
   ]
  },
  {
   "cell_type": "markdown",
   "metadata": {},
   "source": [
    "Agregamos la promoción de los tipos:"
   ]
  },
  {
   "cell_type": "code",
   "execution_count": 144,
   "metadata": {
    "collapsed": false
   },
   "outputs": [
    {
     "data": {
      "text/plain": [
       "AuDiff{T<:Real} (constructor with 2 methods)"
      ]
     },
     "execution_count": 144,
     "metadata": {},
     "output_type": "execute_result"
    }
   ],
   "source": [
    "AuDiff(a, b) = AuDiff(promote(a,b)...)"
   ]
  },
  {
   "cell_type": "code",
   "execution_count": 145,
   "metadata": {
    "collapsed": false
   },
   "outputs": [
    {
     "data": {
      "text/plain": [
       "AuDiff{Float64}(1.0,3.2)"
      ]
     },
     "execution_count": 145,
     "metadata": {},
     "output_type": "execute_result"
    }
   ],
   "source": [
    "AuDiff(1, 3.2)"
   ]
  },
  {
   "cell_type": "code",
   "execution_count": 146,
   "metadata": {
    "collapsed": false
   },
   "outputs": [
    {
     "ename": "LoadError",
     "evalue": "stack overflow\nwhile loading In[146], in expression starting on line 1",
     "output_type": "error",
     "traceback": [
      "stack overflow\nwhile loading In[146], in expression starting on line 1",
      "",
      " in AuDiff at In[144]:1 (repeats 80000 times)"
     ]
    }
   ],
   "source": [
    "AuDiff(\"Soy\", \"Luis\")"
   ]
  },
  {
   "cell_type": "markdown",
   "metadata": {},
   "source": [
    "La notación `T <: R` de hecho puede ser utilizada para saber si un tipo es subtipo de otro:"
   ]
  },
  {
   "cell_type": "code",
   "execution_count": 147,
   "metadata": {
    "collapsed": false
   },
   "outputs": [
    {
     "data": {
      "text/plain": [
       "true"
      ]
     },
     "execution_count": 147,
     "metadata": {},
     "output_type": "execute_result"
    }
   ],
   "source": [
    "Int64 <: Real"
   ]
  },
  {
   "cell_type": "code",
   "execution_count": 148,
   "metadata": {
    "collapsed": false
   },
   "outputs": [
    {
     "data": {
      "text/plain": [
       "false"
      ]
     },
     "execution_count": 148,
     "metadata": {},
     "output_type": "execute_result"
    }
   ],
   "source": [
    "Int64 <: Void"
   ]
  },
  {
   "cell_type": "code",
   "execution_count": 149,
   "metadata": {
    "collapsed": false
   },
   "outputs": [
    {
     "data": {
      "text/plain": [
       "true"
      ]
     },
     "execution_count": 149,
     "metadata": {},
     "output_type": "execute_result"
    }
   ],
   "source": [
    "Void <: Int64"
   ]
  },
  {
   "cell_type": "markdown",
   "metadata": {},
   "source": [
    "Las dos últimas instrucciones muestran que `Void` e `Int64` pertenecen a dos ramas distintas del árbol jerárquico de tipos; en otras palabras, el tipo superior común entre `Int64` y `Void` es `Any`:"
   ]
  },
  {
   "cell_type": "code",
   "execution_count": 150,
   "metadata": {
    "collapsed": false
   },
   "outputs": [
    {
     "data": {
      "text/plain": [
       "Int64"
      ]
     },
     "execution_count": 150,
     "metadata": {},
     "output_type": "execute_result"
    }
   ],
   "source": [
    "promote_type(Int64, Void)"
   ]
  },
  {
   "cell_type": "markdown",
   "metadata": {},
   "source": [
    "Finalmente, para definir que algo una estructura específica es un subtipo de algo específico, usamos `<:` nuevamente:"
   ]
  },
  {
   "cell_type": "code",
   "execution_count": 151,
   "metadata": {
    "collapsed": true
   },
   "outputs": [],
   "source": [
    "workspace()"
   ]
  },
  {
   "cell_type": "code",
   "execution_count": 152,
   "metadata": {
    "collapsed": true
   },
   "outputs": [],
   "source": [
    "type AuDiff{T<:Real} <: Real\n",
    "    fun :: T\n",
    "    der :: T\n",
    "end"
   ]
  },
  {
   "cell_type": "code",
   "execution_count": 153,
   "metadata": {
    "collapsed": false
   },
   "outputs": [
    {
     "data": {
      "text/plain": [
       "AuDiff{T<:Real} (constructor with 2 methods)"
      ]
     },
     "execution_count": 153,
     "metadata": {},
     "output_type": "execute_result"
    }
   ],
   "source": [
    "AuDiff(a, b) = AuDiff(promote(a,b)...)"
   ]
  },
  {
   "cell_type": "code",
   "execution_count": 154,
   "metadata": {
    "collapsed": false
   },
   "outputs": [
    {
     "data": {
      "text/plain": [
       "^ (generic function with 47 methods)"
      ]
     },
     "execution_count": 154,
     "metadata": {},
     "output_type": "execute_result"
    }
   ],
   "source": [
    "import Base: +, -, *, /, ^\n",
    "\n",
    "+(a::AuDiff, b::AuDiff) = AuDiff(a.fun+b.fun, a.der+b.der)\n",
    "\n",
    "-(a::AuDiff, b::AuDiff) = AuDiff(a.fun-b.fun, a.der-b.der)\n",
    "\n",
    "*(a::AuDiff, b::AuDiff) = AuDiff(a.fun*b.fun, a.fun*b.der+a.der*b.fun)\n",
    "\n",
    "function /(a::AuDiff, b::AuDiff)\n",
    "    nn = a.fun/b.fun\n",
    "    dd = (a.der - nn*b.der)/b.fun\n",
    "    return AuDiff(nn, dd)\n",
    "end\n",
    "\n",
    "^(a::AuDiff, n::Int) = AuDiff(a.fun^n, n * a.der * a.fun^(n-1))"
   ]
  },
  {
   "cell_type": "markdown",
   "metadata": {},
   "source": [
    "**Ejercicio 5:** ¿Qué representa la estructura que definimos? ¿Qué se puede calcular? \n",
    "Para guiar la respuesta, consideren un polinomio sencillo, $p(x) = 7x^4 - 3x + 1$, y jugando con las operaciones definidas para `x::AuDiff{T}`, en particular para `x = AuDiff(1//2,1//1)` aclaren qué representan los campos de `x` y de `p(x)`. \n",
    "Escriban clara y detalladamente, y añadan todos los métodos nuevos que sean necesarios."
   ]
  },
  {
   "cell_type": "code",
   "execution_count": null,
   "metadata": {
    "collapsed": true
   },
   "outputs": [],
   "source": []
  }
 ],
 "metadata": {
  "kernelspec": {
   "display_name": "Julia 0.3.11",
   "language": "julia",
   "name": "julia-0.3"
  },
  "language_info": {
   "file_extension": ".jl",
   "mimetype": "application/julia",
   "name": "julia",
   "version": "0.3.11"
  }
 },
 "nbformat": 4,
 "nbformat_minor": 0
}
