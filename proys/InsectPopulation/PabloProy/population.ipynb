{
 "cells": [
  {
   "cell_type": "code",
   "execution_count": 1,
   "metadata": {
    "collapsed": false
   },
   "outputs": [
    {
     "name": "stderr",
     "output_type": "stream",
     "text": [
      "INFO: Nothing to be done\n",
      "INFO: METADATA is out-of-date — you may not have the latest version of Plots\n",
      "INFO: Use `Pkg.update()` to get the latest versions of your packages\n"
     ]
    }
   ],
   "source": [
    "Pkg.add(\"Plots\")"
   ]
  },
  {
   "cell_type": "code",
   "execution_count": 2,
   "metadata": {
    "collapsed": false
   },
   "outputs": [
    {
     "name": "stderr",
     "output_type": "stream",
     "text": [
      "INFO: Updating cache of StatPlots...\n",
      "INFO: Installing AxisAlgorithms v0.1.5\n",
      "INFO: Installing Interpolations v0.3.6\n",
      "INFO: Installing KernelDensity v0.3.0\n",
      "INFO: Installing PlotRecipes v0.1.0\n",
      "INFO: Installing Ratios v0.0.4\n",
      "INFO: Installing StatPlots v0.1.1\n",
      "INFO: Installing WoodburyMatrices v0.2.0\n",
      "INFO: Building Rmath\n",
      "INFO: Building Plots\n",
      "INFO: Cannot find deps/plotly-latest.min.js... downloading latest version.\n",
      "  % Total    % Received % Xferd  Average Speed   Time    Time     Time  Current\n",
      "                                 Dload  Upload   Total   Spent    Left  Speed\n",
      "  0     0    0     0    0     0      0      0 --:--:-- --:--:-- --:--:--     0curl: (77) error setting certificate verify locations:\n",
      "  CAfile: /etc/pki/tls/certs/ca-bundle.crt\n",
      "  CApath: none\n",
      "================================[ ERROR: Plots ]================================\n",
      "\n",
      "LoadError: failed process: Process(`curl -o /home/sof9409/.julia/v0.5/Plots/deps/plotly-latest.min.js -L https://cdn.plot.ly/plotly-latest.min.js`, ProcessExited(77)) [77]\n",
      "while loading /home/sof9409/.julia/v0.5/Plots/deps/build.jl, in expression starting on line 7\n",
      "\n",
      "================================================================================\n",
      "\n",
      "================================[ BUILD ERRORS ]================================\n",
      "\n",
      "WARNING: Plots had build errors.\n",
      "\n",
      " - packages with build errors remain installed in /home/sof9409/.julia/v0.5\n",
      " - build the package(s) and all dependencies with `Pkg.build(\"Plots\")`\n",
      " - build a single package by running its `deps/build.jl` script\n",
      "\n",
      "================================================================================\n",
      "INFO: Package database updated\n",
      "INFO: METADATA is out-of-date — you may not have the latest version of PlotRecipes\n",
      "INFO: Use `Pkg.update()` to get the latest versions of your packages\n"
     ]
    }
   ],
   "source": [
    "Pkg.add(\"PlotRecipes\")"
   ]
  },
  {
   "cell_type": "code",
   "execution_count": 3,
   "metadata": {
    "collapsed": false
   },
   "outputs": [
    {
     "name": "stderr",
     "output_type": "stream",
     "text": [
      "INFO: Nothing to be done\n",
      "INFO: METADATA is out-of-date — you may not have the latest version of PyPlot\n",
      "INFO: Use `Pkg.update()` to get the latest versions of your packages\n"
     ]
    }
   ],
   "source": [
    "Pkg.add(\"PyPlot\")"
   ]
  },
  {
   "cell_type": "code",
   "execution_count": 4,
   "metadata": {
    "collapsed": false,
    "scrolled": true
   },
   "outputs": [
    {
     "name": "stderr",
     "output_type": "stream",
     "text": [
      "INFO: Updating METADATA...\n",
      "INFO: Updating cache of Polynomials...\n",
      "INFO: Updating cache of PlotRecipes...\n",
      "INFO: Updating cache of PlotUtils...\n",
      "INFO: Updating cache of Plots...\n",
      "INFO: Updating cache of FixedSizeArrays...\n",
      "INFO: Updating cache of NaNMath...\n",
      "INFO: Updating cache of ForwardDiff...\n",
      "INFO: Updating cache of Compat...\n",
      "INFO: Updating cache of SHA...\n",
      "INFO: Updating cache of PDMats...\n",
      "INFO: Updating cache of PositiveFactorizations...\n",
      "INFO: Updating Plotly master...\n",
      "INFO: Computing changes...\n",
      "INFO: Cloning cache of GeometryTypes from https://github.com/JuliaGeometry/GeometryTypes.jl.git\n",
      "INFO: Cloning cache of NetworkLayout from https://github.com/JuliaGraphs/NetworkLayout.jl.git\n",
      "INFO: Cloning cache of PlotThemes from https://github.com/JuliaPlots/PlotThemes.jl.git\n",
      "INFO: Upgrading Blink: v0.4.3 => v0.4.4\n",
      "INFO: Upgrading Compat: v0.9.3 => v0.9.5\n",
      "INFO: Upgrading Conda: v0.3.2 => v0.4.0\n",
      "INFO: Upgrading DataArrays: v0.3.9 => v0.3.10\n",
      "INFO: Upgrading DataFrames: v0.8.4 => v0.8.5\n",
      "INFO: Upgrading DocStringExtensions: v0.2.1 => v0.3.0\n",
      "INFO: Upgrading FixedSizeArrays: v0.2.4 => v0.2.5\n",
      "INFO: Installing GeometryTypes v0.2.1\n",
      "INFO: Upgrading Juno: v0.2.3 => v0.2.5\n",
      "INFO: Upgrading Media: v0.2.3 => v0.2.4\n",
      "INFO: Upgrading NaNMath: v0.2.1 => v0.2.2\n",
      "INFO: Installing NetworkLayout v0.0.1\n",
      "INFO: Upgrading PDMats: v0.5.0 => v0.5.1\n",
      "INFO: Upgrading PlotRecipes: v0.1.0 => v0.2.0\n",
      "INFO: Installing PlotThemes v0.1.0\n",
      "INFO: Upgrading PlotUtils: v0.1.1 => v0.2.0\n",
      "INFO: Upgrading Plots: v0.9.4 => v0.10.1\n",
      "INFO: Upgrading Polynomials: v0.1.0 => v0.1.1\n",
      "INFO: Upgrading PositiveFactorizations: v0.0.2 => v0.0.3\n",
      "INFO: Upgrading SHA: v0.2.1 => v0.3.0\n",
      "INFO: Upgrading StatPlots: v0.1.1 => v0.2.0\n",
      "INFO: Building HttpParser\n",
      "INFO: Attempting to Create directory /home/sof9409/.julia/v0.5/HttpParser/deps/downloads\n",
      "INFO: Directory /home/sof9409/.julia/v0.5/HttpParser/deps/downloads already created\n",
      "INFO: Attempting to Create directory /home/sof9409/.julia/v0.5/HttpParser/deps/downloads\n",
      "INFO: Directory /home/sof9409/.julia/v0.5/HttpParser/deps/downloads already created\n",
      "INFO: Downloading file https://github.com/nodejs/http-parser/archive/v2.7.1.zip\n",
      "  % Total    % Received % Xferd  Average Speed   Time    Time     Time  Current\n",
      "                                 Dload  Upload   Total   Spent    Left  Speed\n",
      "  0     0    0     0    0     0      0      0 --:--:-- --:--:-- --:--:--     0curl: (77) error setting certificate verify locations:\n",
      "  CAfile: /etc/pki/tls/certs/ca-bundle.crt\n",
      "  CApath: none\n",
      "=============================[ ERROR: HttpParser ]==============================\n",
      "\n",
      "LoadError: failed process: Process(`curl -f -o /home/sof9409/.julia/v0.5/HttpParser/deps/downloads/v2.7.1.zip -L https://github.com/nodejs/http-parser/archive/v2.7.1.zip`, ProcessExited(77)) [77]\n",
      "while loading /home/sof9409/.julia/v0.5/HttpParser/deps/build.jl, in expression starting on line 71\n",
      "\n",
      "================================================================================\n",
      "INFO: Building MbedTLS\n",
      "INFO: Attempting to Create directory /home/sof9409/.julia/v0.5/MbedTLS/deps/downloads\n",
      "INFO: Directory /home/sof9409/.julia/v0.5/MbedTLS/deps/downloads already created\n",
      "INFO: Downloading file https://cache.julialang.org/https://tls.mbed.org/download/mbedtls-2.1.1-apache.tgz\n",
      "  % Total    % Received % Xferd  Average Speed   Time    Time     Time  Current\n",
      "                                 Dload  Upload   Total   Spent    Left  Speed\n",
      "  0     0    0     0    0     0      0      0 --:--:-- --:--:-- --:--:--     0curl: (77) error setting certificate verify locations:\n",
      "  CAfile: /etc/pki/tls/certs/ca-bundle.crt\n",
      "  CApath: none\n",
      "===============================[ ERROR: MbedTLS ]===============================\n",
      "\n",
      "LoadError: failed process: Process(`curl -f -o /home/sof9409/.julia/v0.5/MbedTLS/deps/downloads/mbedtls-2.1.1-apache.tgz -L https://cache.julialang.org/https://tls.mbed.org/download/mbedtls-2.1.1-apache.tgz`, ProcessExited(77)) [77]\n",
      "while loading /home/sof9409/.julia/v0.5/MbedTLS/deps/build.jl, in expression starting on line 74\n",
      "\n",
      "================================================================================\n",
      "INFO: Building Conda\n",
      "INFO: Building Plots\n",
      "INFO: Cannot find deps/plotly-latest.min.js... downloading latest version.\n",
      "  % Total    % Received % Xferd  Average Speed   Time    Time     Time  Current\n",
      "                                 Dload  Upload   Total   Spent    Left  Speed\n",
      "  0     0    0     0    0     0      0      0 --:--:-- --:--:-- --:--:--     0curl: (77) error setting certificate verify locations:\n",
      "  CAfile: /etc/pki/tls/certs/ca-bundle.crt\n",
      "  CApath: none\n",
      "================================[ ERROR: Plots ]================================\n",
      "\n",
      "LoadError: failed process: Process(`curl -o /home/sof9409/.julia/v0.5/Plots/deps/plotly-latest.min.js -L https://cdn.plot.ly/plotly-latest.min.js`, ProcessExited(77)) [77]\n",
      "while loading /home/sof9409/.julia/v0.5/Plots/deps/build.jl, in expression starting on line 7\n",
      "\n",
      "================================================================================\n",
      "INFO: Building Rmath\n",
      "\n",
      "================================[ BUILD ERRORS ]================================\n",
      "\n",
      "WARNING: HttpParser, Plots and MbedTLS had build errors.\n",
      "\n",
      " - packages with build errors remain installed in /home/sof9409/.julia/v0.5\n",
      " - build the package(s) and all dependencies with `Pkg.build(\"HttpParser\", \"Plots\", \"MbedTLS\")`\n",
      " - build a single package by running its `deps/build.jl` script\n",
      "\n",
      "================================================================================\n"
     ]
    }
   ],
   "source": [
    "Pkg.update()"
   ]
  },
  {
   "cell_type": "code",
   "execution_count": 5,
   "metadata": {
    "collapsed": false
   },
   "outputs": [
    {
     "name": "stderr",
     "output_type": "stream",
     "text": [
      "INFO: Recompiling stale cache file /home/sof9409/.julia/lib/v0.5/Plots.ji for module Plots.\n",
      "WARNING: Module Compat with uuid 9309146622058 is missing from the cache.\n",
      "This may mean module Compat does not support precompilation but is imported by a module that does.\n",
      "ERROR: LoadError: Declaring __precompile__(false) is not allowed in files that are being precompiled.\n",
      " in require(::Symbol) at ./loading.jl:385\n",
      " in include_from_node1(::String) at ./loading.jl:488\n",
      " in macro expansion; at ./none:2 [inlined]\n",
      " in anonymous at ./<missing>:?\n",
      " in eval(::Module, ::Any) at ./boot.jl:234\n",
      " in process_options(::Base.JLOptions) at ./client.jl:239\n",
      " in _start() at ./client.jl:318\n",
      "while loading /home/sof9409/.julia/v0.5/FixedSizeArrays/src/FixedSizeArrays.jl, in expression starting on line 4\n",
      "ERROR: LoadError: Failed to precompile FixedSizeArrays to /home/sof9409/.julia/lib/v0.5/FixedSizeArrays.ji.\n",
      " in compilecache(::String) at ./loading.jl:593\n",
      " in require(::Symbol) at ./loading.jl:393\n",
      " in include_from_node1(::String) at ./loading.jl:488\n",
      " in macro expansion; at ./none:2 [inlined]\n",
      " in anonymous at ./<missing>:?\n",
      " in eval(::Module, ::Any) at ./boot.jl:234\n",
      " in process_options(::Base.JLOptions) at ./client.jl:239\n",
      " in _start() at ./client.jl:318\n",
      "while loading /home/sof9409/.julia/v0.5/Plots/src/Plots.jl, in expression starting on line 5\n"
     ]
    },
    {
     "ename": "LoadError",
     "evalue": "LoadError: Failed to precompile Plots to /home/sof9409/.julia/lib/v0.5/Plots.ji.\nwhile loading In[5], in expression starting on line 1",
     "output_type": "error",
     "traceback": [
      "LoadError: Failed to precompile Plots to /home/sof9409/.julia/lib/v0.5/Plots.ji.\nwhile loading In[5], in expression starting on line 1",
      "",
      " in compilecache(::String) at ./loading.jl:593",
      " in require(::Symbol) at ./loading.jl:393"
     ]
    }
   ],
   "source": [
    "using Plots, LaTeXStrings\n",
    "\n",
    "pyplot()"
   ]
  },
  {
   "cell_type": "code",
   "execution_count": 6,
   "metadata": {
    "collapsed": false
   },
   "outputs": [
    {
     "data": {
      "text/plain": [
       "f (generic function with 1 method)"
      ]
     },
     "execution_count": 6,
     "metadata": {},
     "output_type": "execute_result"
    }
   ],
   "source": [
    "f(x,α,β,γ) = (α*(x)^2)/((((α-1.0)*(x^2))/β + γ + x))"
   ]
  },
  {
   "cell_type": "code",
   "execution_count": 7,
   "metadata": {
    "collapsed": false
   },
   "outputs": [
    {
     "data": {
      "text/plain": [
       "iteramapeo (generic function with 1 method)"
      ]
     },
     "execution_count": 7,
     "metadata": {},
     "output_type": "execute_result"
    }
   ],
   "source": [
    "function iteramapeo(f, x0, n)\n",
    "    xx = [x0]\n",
    "    fx = [0.0]\n",
    "    for it = 1:n\n",
    "        x1 = f(x0)\n",
    "        push!(xx, x0)\n",
    "        push!(fx, x1)\n",
    "        x0 = x1\n",
    "        push!(xx,x1)\n",
    "        push!(fx,x1)\n",
    "    end\n",
    "    xx, fx\n",
    "end"
   ]
  },
  {
   "cell_type": "code",
   "execution_count": 8,
   "metadata": {
    "collapsed": false
   },
   "outputs": [
    {
     "data": {
      "text/plain": [
       "(::#1) (generic function with 1 method)"
      ]
     },
     "execution_count": 8,
     "metadata": {},
     "output_type": "execute_result"
    }
   ],
   "source": [
    "α=500.0\n",
    "β=10.0\n",
    "γ=2.0\n",
    "func = x -> f(x,α,β,γ)"
   ]
  },
  {
   "cell_type": "code",
   "execution_count": 9,
   "metadata": {
    "collapsed": false
   },
   "outputs": [],
   "source": [
    "xfin,ffin = iteramapeo(func,10.0,14);"
   ]
  },
  {
   "cell_type": "code",
   "execution_count": 10,
   "metadata": {
    "collapsed": false
   },
   "outputs": [
    {
     "ename": "LoadError",
     "evalue": "LoadError: UndefVarError: @L_str not defined\nwhile loading In[10], in expression starting on line 1",
     "output_type": "error",
     "traceback": [
      "LoadError: UndefVarError: @L_str not defined\nwhile loading In[10], in expression starting on line 1",
      ""
     ]
    }
   ],
   "source": [
    "plot(-10:1/32:10, func, xaxis=(L\"x\", (-1.0, 6.0)), yaxis=(L\"F_\\alpha(x)\",(-1.0,3.0)))\n",
    "plot!(-10:1/32:10, identity)\n",
    "plot!(xfin, ffin, marker=(:dot, 3, 0.4))"
   ]
  },
  {
   "cell_type": "code",
   "execution_count": 11,
   "metadata": {
    "collapsed": false
   },
   "outputs": [
    {
     "data": {
      "text/plain": [
       "(::#3) (generic function with 1 method)"
      ]
     },
     "execution_count": 11,
     "metadata": {},
     "output_type": "execute_result"
    }
   ],
   "source": [
    "α=500.0\n",
    "β=10.0\n",
    "γ=2.0\n",
    "func = x -> f(x,α,β,γ)"
   ]
  },
  {
   "cell_type": "code",
   "execution_count": 12,
   "metadata": {
    "collapsed": true
   },
   "outputs": [],
   "source": [
    "xfin,ffin = iteramapeo(func,200.0,10);"
   ]
  },
  {
   "cell_type": "code",
   "execution_count": 13,
   "metadata": {
    "collapsed": false,
    "scrolled": false
   },
   "outputs": [
    {
     "ename": "LoadError",
     "evalue": "LoadError: UndefVarError: @L_str not defined\nwhile loading In[13], in expression starting on line 1",
     "output_type": "error",
     "traceback": [
      "LoadError: UndefVarError: @L_str not defined\nwhile loading In[13], in expression starting on line 1",
      ""
     ]
    }
   ],
   "source": [
    "plot(-10:1/32:10, func, xaxis=(L\"x\", (-1.0, 6.0)), yaxis=(L\"F_\\alpha(x)\",(-1.0,3.0)))\n",
    "plot!(-10:1/32:10, identity)\n",
    "plot!(xfin, ffin, marker=(:dot, 3, 0.4))"
   ]
  },
  {
   "cell_type": "code",
   "execution_count": 14,
   "metadata": {
    "collapsed": false,
    "scrolled": true
   },
   "outputs": [
    {
     "data": {
      "text/html": [
       "<div id=\"interact-js-shim\">\n",
       "    <script charset=\"utf-8\">\n",
       "(function (IPython, $, _, MathJax) {\n",
       "    $.event.special.destroyed = {\n",
       "\tremove: function(o) {\n",
       "\t    if (o.handler) {\n",
       "\t\to.handler.apply(this, arguments)\n",
       "\t    }\n",
       "\t}\n",
       "    }\n",
       "\n",
       "    var OutputArea = IPython.version >= \"4.0.0\" ? require(\"notebook/js/outputarea\").OutputArea : IPython.OutputArea;\n",
       "\n",
       "    var redrawValue = function (container, type, val) {\n",
       "\tvar selector = $(\"<div/>\");\n",
       "\tvar oa = new OutputArea(_.extend(selector, {\n",
       "\t    selector: selector,\n",
       "\t    prompt_area: true,\n",
       "\t    events: IPython.events,\n",
       "\t    keyboard_manager: IPython.keyboard_manager\n",
       "\t})); // Hack to work with IPython 2.1.0\n",
       "\n",
       "\tswitch (type) {\n",
       "\tcase \"image/png\":\n",
       "            var _src = 'data:' + type + ';base64,' + val;\n",
       "\t    $(container).find(\"img\").attr('src', _src);\n",
       "\t    break;\n",
       "\tdefault:\n",
       "\t    var toinsert = OutputArea.append_map[type].apply(\n",
       "\t\toa, [val, {}, selector]\n",
       "\t    );\n",
       "\t    $(container).empty().append(toinsert.contents());\n",
       "\t    selector.remove();\n",
       "\t}\n",
       "\tif (type === \"text/latex\" && MathJax) {\n",
       "\t    MathJax.Hub.Queue([\"Typeset\", MathJax.Hub, toinsert.get(0)]);\n",
       "\t}\n",
       "    }\n",
       "\n",
       "\n",
       "    $(document).ready(function() {\n",
       "\tfunction initComm(evt, data) {\n",
       "\t    var comm_manager = data.kernel.comm_manager;\n",
       "        //_.extend(comm_manager.targets, require(\"widgets/js/widget\"))\n",
       "\t    comm_manager.register_target(\"Signal\", function (comm) {\n",
       "            comm.on_msg(function (msg) {\n",
       "                //Widgets.log(\"message received\", msg);\n",
       "                var val = msg.content.data.value;\n",
       "                $(\".signal-\" + comm.comm_id).each(function() {\n",
       "                var type = $(this).data(\"type\");\n",
       "                if (val[type]) {\n",
       "                    redrawValue(this, type, val[type], type);\n",
       "                }\n",
       "                });\n",
       "                delete val;\n",
       "                delete msg.content.data.value;\n",
       "            });\n",
       "\t    });\n",
       "\n",
       "\t    // coordingate with Comm and redraw Signals\n",
       "\t    // XXX: Test using Reactive here to improve performance\n",
       "\t    $([IPython.events]).on(\n",
       "\t\t'output_appended.OutputArea', function (event, type, value, md, toinsert) {\n",
       "\t\t    if (md && md.reactive) {\n",
       "                // console.log(md.comm_id);\n",
       "                toinsert.addClass(\"signal-\" + md.comm_id);\n",
       "                toinsert.data(\"type\", type);\n",
       "                // Signal back indicating the mimetype required\n",
       "                var comm_manager = IPython.notebook.kernel.comm_manager;\n",
       "                var comm = comm_manager.comms[md.comm_id];\n",
       "                comm.then(function (c) {\n",
       "                    c.send({action: \"subscribe_mime\",\n",
       "                       mime: type});\n",
       "                    toinsert.bind(\"destroyed\", function() {\n",
       "                        c.send({action: \"unsubscribe_mime\",\n",
       "                               mime: type});\n",
       "                    });\n",
       "                })\n",
       "\t\t    }\n",
       "\t    });\n",
       "\t}\n",
       "\n",
       "\ttry {\n",
       "\t    // try to initialize right away. otherwise, wait on the status_started event.\n",
       "\t    initComm(undefined, IPython.notebook);\n",
       "\t} catch (e) {\n",
       "\t    $([IPython.events]).on('kernel_created.Kernel kernel_created.Session', initComm);\n",
       "\t}\n",
       "    });\n",
       "})(IPython, jQuery, _, MathJax);\n",
       "</script>\n",
       "    <script>\n",
       "        window.interactLoadedFlag = true\n",
       "       $(\"#interact-js-shim\").bind(\"destroyed\", function () {\n",
       "           if (window.interactLoadedFlag) {\n",
       "               console.warn(\"JavaScript required by Interact will be removed if you remove this cell or run using Interact more than once.\")\n",
       "           }\n",
       "       })\n",
       "       $([IPython.events]).on(\"kernel_starting.Kernel kernel_restarting.Kernel\", function () { window.interactLoadedFlag = false })\n",
       "   </script>\n",
       "</div>"
      ]
     },
     "metadata": {},
     "output_type": "display_data"
    }
   ],
   "source": [
    "using Interact "
   ]
  },
  {
   "cell_type": "code",
   "execution_count": 15,
   "metadata": {
    "collapsed": false
   },
   "outputs": [],
   "source": [
    "xfin,ffin = iteramapeo(func,200.0,10);"
   ]
  },
  {
   "cell_type": "code",
   "execution_count": 16,
   "metadata": {
    "collapsed": false,
    "scrolled": true
   },
   "outputs": [
    {
     "ename": "LoadError",
     "evalue": "LoadError: UndefVarError: @L_str not defined\nwhile loading In[16], in expression starting on line 3",
     "output_type": "error",
     "traceback": [
      "LoadError: UndefVarError: @L_str not defined\nwhile loading In[16], in expression starting on line 3",
      ""
     ]
    }
   ],
   "source": [
    "α = 10.0\n",
    "β= 20.0\n",
    "@manipulate for γ in 0:1.0:200\n",
    "    pobla(x)=f(x,α,β,γ)\n",
    "    xfin,ffin = iteramapeo(pobla,10.0,16);\n",
    "    plot(-10:1/32:100, pobla, xaxis=(L\"x\", (-10.0, 100.0)), yaxis=(L\"F_\\alpha(x)\",(-10.0,10.0)))\n",
    "plot!(-10:1/32:50, identity)\n",
    "plot!(xfin, ffin, marker=(:dot, 3, 0.4))\n",
    "end"
   ]
  },
  {
   "cell_type": "code",
   "execution_count": 17,
   "metadata": {
    "collapsed": false
   },
   "outputs": [
    {
     "data": {
      "text/plain": [
       "g (generic function with 1 method)"
      ]
     },
     "execution_count": 17,
     "metadata": {},
     "output_type": "execute_result"
    }
   ],
   "source": [
    "α = 10.0\n",
    "β= 20.0\n",
    "g(x)=(α*(x)^2)/((((α-1.0)*(x^2))/β + x))"
   ]
  },
  {
   "cell_type": "code",
   "execution_count": 18,
   "metadata": {
    "collapsed": false
   },
   "outputs": [
    {
     "ename": "LoadError",
     "evalue": "LoadError: UndefVarError: @L_str not defined\nwhile loading In[18], in expression starting on line 2",
     "output_type": "error",
     "traceback": [
      "LoadError: UndefVarError: @L_str not defined\nwhile loading In[18], in expression starting on line 2",
      ""
     ]
    }
   ],
   "source": [
    "\n",
    "@manipulate for i in 1:1.0:100\n",
    "    funcion(i)=g(i)\n",
    "    plot(-10:1/32:100, funcion, xaxis=(L\"x\", (-100.0, 100.0)), yaxis=(L\"F_\\alpha(x)\",(-100.0,100.0)))\n",
    "end"
   ]
  },
  {
   "cell_type": "code",
   "execution_count": null,
   "metadata": {
    "collapsed": false
   },
   "outputs": [],
   "source": []
  },
  {
   "cell_type": "markdown",
   "metadata": {
    "collapsed": false
   },
   "source": [
    "Se resolvió la ecuación $N(x)-x=0$ para encontrar los puntos fijos del mapeo en términos de los parámetros R,S y M, obteniendo:\n",
    "\n",
    "$X_{0}= 0$\n",
    "\n",
    "\n",
    "y    \n",
    "\n",
    "\n",
    "\n",
    "$X_{12}= \\frac{\\pm M(1-R)+\\sqrt{R-1}\\sqrt{M^{2}(1-R)-4MS}}{2(1-R)}$\n",
    "\n",
    "\n",
    "\n",
    "Por lo que, para encontrar poblaciones estáticas distintas de cero, tenemos que se deben cumplir las siguientes condiciones:\n",
    "\n",
    "$R> 1 $ ^ $M > \\frac{4S}{R-1}$\n"
   ]
  },
  {
   "cell_type": "code",
   "execution_count": 19,
   "metadata": {
    "collapsed": false
   },
   "outputs": [
    {
     "name": "stderr",
     "output_type": "stream",
     "text": [
      "INFO: Nothing to be done\n"
     ]
    }
   ],
   "source": [
    "Pkg.add(\"Roots\")"
   ]
  },
  {
   "cell_type": "code",
   "execution_count": 20,
   "metadata": {
    "collapsed": false
   },
   "outputs": [
    {
     "name": "stderr",
     "output_type": "stream",
     "text": [
      "INFO: Recompiling stale cache file /home/sof9409/.julia/lib/v0.5/Polynomials.ji for module Polynomials.\n",
      "WARNING: Module Compat with uuid 9309146622058 is missing from the cache.\n",
      "This may mean module Compat does not support precompilation but is imported by a module that does.\n",
      "ERROR: LoadError: Declaring __precompile__(false) is not allowed in files that are being precompiled.\n",
      " in require(::Symbol) at ./loading.jl:385\n",
      " in include_from_node1(::String) at ./loading.jl:488\n",
      " in macro expansion; at ./none:2 [inlined]\n",
      " in anonymous at ./<missing>:?\n",
      " in eval(::Module, ::Any) at ./boot.jl:234\n",
      " in process_options(::Base.JLOptions) at ./client.jl:239\n",
      " in _start() at ./client.jl:318\n",
      "while loading /home/sof9409/.julia/v0.5/Polynomials/src/Polynomials.jl, in expression starting on line 8\n"
     ]
    },
    {
     "ename": "LoadError",
     "evalue": "LoadError: Failed to precompile Polynomials to /home/sof9409/.julia/lib/v0.5/Polynomials.ji.\nwhile loading In[20], in expression starting on line 1",
     "output_type": "error",
     "traceback": [
      "LoadError: Failed to precompile Polynomials to /home/sof9409/.julia/lib/v0.5/Polynomials.ji.\nwhile loading In[20], in expression starting on line 1",
      "",
      " in compilecache(::String) at ./loading.jl:593",
      " in require(::Symbol) at ./loading.jl:393",
      " in _include_from_serialized(::String) at ./loading.jl:150",
      " in _require_from_serialized(::Int64, ::Symbol, ::String, ::Bool) at ./loading.jl:187",
      " in _require_search_from_serialized(::Int64, ::Symbol, ::String, ::Bool) at ./loading.jl:217",
      " in require(::Symbol) at ./loading.jl:371"
     ]
    }
   ],
   "source": [
    "using Roots"
   ]
  },
  {
   "cell_type": "code",
   "execution_count": 21,
   "metadata": {
    "collapsed": false
   },
   "outputs": [
    {
     "data": {
      "text/plain": [
       "puntofijo (generic function with 1 method)"
      ]
     },
     "execution_count": 21,
     "metadata": {},
     "output_type": "execute_result"
    }
   ],
   "source": [
    "function puntofijo(F::Function, range)\n",
    "    pf= fzeros(x -> (F(x) - x) , range)\n",
    "    return pf\n",
    "end"
   ]
  },
  {
   "cell_type": "code",
   "execution_count": 22,
   "metadata": {
    "collapsed": false
   },
   "outputs": [
    {
     "data": {
      "text/plain": [
       "F (generic function with 1 method)"
      ]
     },
     "execution_count": 22,
     "metadata": {},
     "output_type": "execute_result"
    }
   ],
   "source": [
    "α= 10.0\n",
    "β= 25.0\n",
    "γ= 50.0\n",
    "\n",
    "F(x) = (α*(x)^2)/((((α-1.0)*(x^2))/β + γ + x))\n"
   ]
  },
  {
   "cell_type": "code",
   "execution_count": 23,
   "metadata": {
    "collapsed": false
   },
   "outputs": [
    {
     "ename": "LoadError",
     "evalue": "LoadError: UndefVarError: fzeros not defined\nwhile loading In[23], in expression starting on line 1",
     "output_type": "error",
     "traceback": [
      "LoadError: UndefVarError: fzeros not defined\nwhile loading In[23], in expression starting on line 1",
      "",
      " in puntofijo(::#F, ::Array{Float64,1}) at ./In[21]:2"
     ]
    }
   ],
   "source": [
    "pf=puntofijo(F,[0,20.0])"
   ]
  },
  {
   "cell_type": "code",
   "execution_count": 24,
   "metadata": {
    "collapsed": false
   },
   "outputs": [
    {
     "name": "stderr",
     "output_type": "stream",
     "text": [
      "WARNING: Method definition g(Any) in module Main at In[17]:3 overwritten at In[24]:1.\n"
     ]
    },
    {
     "data": {
      "text/plain": [
       "g (generic function with 1 method)"
      ]
     },
     "execution_count": 24,
     "metadata": {},
     "output_type": "execute_result"
    }
   ],
   "source": [
    "g(x)= (α*(x)^2)/((((α-1.0)*(x^2))/β + γ + x)) -x "
   ]
  },
  {
   "cell_type": "code",
   "execution_count": 25,
   "metadata": {
    "collapsed": false,
    "scrolled": true
   },
   "outputs": [
    {
     "data": {
      "text/plain": [
       "(::#20) (generic function with 1 method)"
      ]
     },
     "execution_count": 25,
     "metadata": {},
     "output_type": "execute_result"
    }
   ],
   "source": [
    "α= 10.0\n",
    "β= 25.0\n",
    "γ= 50.0\n",
    "func=x -> g(x)"
   ]
  },
  {
   "cell_type": "markdown",
   "metadata": {},
   "source": [
    "A continuación se muestra una gráfica de los puntos fijos del mapeo en términos de los parámetros\n",
    "$R=10$,$M=25$ y $S=50$."
   ]
  },
  {
   "cell_type": "code",
   "execution_count": 26,
   "metadata": {
    "collapsed": false
   },
   "outputs": [
    {
     "ename": "LoadError",
     "evalue": "LoadError: UndefVarError: plot not defined\nwhile loading In[26], in expression starting on line 1",
     "output_type": "error",
     "traceback": [
      "LoadError: UndefVarError: plot not defined\nwhile loading In[26], in expression starting on line 1",
      ""
     ]
    }
   ],
   "source": [
    "plot(-10:1/32:30, func,xticks=-10:0.5:100,yticks=-10:0.5:50)\n",
    "xlabel!(L\"x\")\n",
    "ylabel!(L\"N(x)-x\")\n",
    "title!(\"Puntos fijos de N(x)\")\n",
    "plot!([8.3,8.3], [1, -1, 0])\n",
    "plot!([0,0], [1, -1,0])\n",
    "plot!([16.66,  16.66], [1, -1, 0])"
   ]
  },
  {
   "cell_type": "markdown",
   "metadata": {},
   "source": [
    "A continuación se muestran graficas que relacionan los parámetros y el comportamiento de los puntos fijos dependiendo de éstos."
   ]
  },
  {
   "cell_type": "markdown",
   "metadata": {},
   "source": [
    "La función a estudiar es:\n",
    "\n",
    "$N(X)-X= \\frac{MRX^{2}}{(R-1)X^{2}+M(X+S)} -X $\n",
    "\n",
    " Nos interesa encontrar éste mapeo pues nos permite observar el comportamiento de los puntos fijos en función de los parámetros."
   ]
  },
  {
   "cell_type": "markdown",
   "metadata": {
    "collapsed": true
   },
   "source": [
    "En primer lugar, estudiemos a los puntos fijos para distintas $M$ en cada gráfica en función de $R$ y $S$ para una condición inicial fija $X_{0}=10.0$. "
   ]
  },
  {
   "cell_type": "code",
   "execution_count": 27,
   "metadata": {
    "collapsed": false
   },
   "outputs": [
    {
     "ename": "LoadError",
     "evalue": "LoadError: UndefVarError: pyplot not defined\nwhile loading In[27], in expression starting on line 1",
     "output_type": "error",
     "traceback": [
      "LoadError: UndefVarError: pyplot not defined\nwhile loading In[27], in expression starting on line 1",
      ""
     ]
    }
   ],
   "source": [
    "pyplot(leg=false, ticks=nothing)\n",
    "x = y = linspace(2.0, 40, 40)\n",
    "zs = zeros(0,40)\n",
    "x0= 10.0\n",
    "@gif for i in linspace(1, 80, 5)\n",
    "    G(x,y) = (x*(x0)^2)/((((x-1.0)*(x0^2))/i + y + x0))-x0\n",
    "\n",
    "    # create a plot with 3 subplots and a custom layout\n",
    "   # l = @layout [a{0.9w}]\n",
    "\n",
    "    plot(x, y, G, st = [:surface, :contourf],xaxis=(L\"R\",(-1.0, 50)),yaxis=(L\"S\",(-1.0, 50)),title=\"Puntos fijos del mapeo para distintas M\")\n",
    "        \n",
    "   end"
   ]
  },
  {
   "cell_type": "markdown",
   "metadata": {
    "collapsed": true
   },
   "source": []
  },
  {
   "cell_type": "markdown",
   "metadata": {},
   "source": [
    "\n",
    "\n"
   ]
  },
  {
   "cell_type": "markdown",
   "metadata": {},
   "source": [
    "Ahora estudiamos el comportamiento de los puntos fijos con un valor distinto de $R$ en cada gráfica que varía en función de $M$ y $S$."
   ]
  },
  {
   "cell_type": "code",
   "execution_count": 28,
   "metadata": {
    "collapsed": false
   },
   "outputs": [
    {
     "ename": "LoadError",
     "evalue": "LoadError: UndefVarError: pyplot not defined\nwhile loading In[28], in expression starting on line 1",
     "output_type": "error",
     "traceback": [
      "LoadError: UndefVarError: pyplot not defined\nwhile loading In[28], in expression starting on line 1",
      ""
     ]
    }
   ],
   "source": [
    "pyplot(leg=false, ticks=nothing)\n",
    "x = y = linspace(2.0, 40, 40)\n",
    "zs = zeros(0,40)\n",
    "x0= 10.0\n",
    "@gif for i in linspace(1,100,5)\n",
    "    G(x,y) = (i*(x0)^2)/((((i-1.0)*(x0^2))/x + y + x0))-x0\n",
    "\n",
    "    # create a plot with 3 subplots and a custom layout\n",
    "    title!(L\"Puntos fijos del mapeo\")\n",
    "    p = plot(x, y, G, st = [:surface, :contourf],xaxis=(L\"M\",(-1.0, 50)),yaxis=(L\"S\",(-1.0, 50)),title=\"Puntos fijos del mapeo para distintas R\")\n",
    "        \n",
    " end"
   ]
  },
  {
   "cell_type": "markdown",
   "metadata": {},
   "source": [
    "Finalmente, observemos la evolución de los puntos fijos para un valor distinto de $S$ en cada gráfica que se encuentra en\n",
    "función de $M$ y $R$."
   ]
  },
  {
   "cell_type": "code",
   "execution_count": 29,
   "metadata": {
    "collapsed": false
   },
   "outputs": [
    {
     "ename": "LoadError",
     "evalue": "LoadError: UndefVarError: pyplot not defined\nwhile loading In[29], in expression starting on line 1",
     "output_type": "error",
     "traceback": [
      "LoadError: UndefVarError: pyplot not defined\nwhile loading In[29], in expression starting on line 1",
      ""
     ]
    }
   ],
   "source": [
    "pyplot(leg=false, ticks=nothing)\n",
    "x = y = linspace(2.0, 60, 60)\n",
    "zs = zeros(0,60)\n",
    "x0= 10.0\n",
    "@gif for i in linspace(1, 80, 5)\n",
    "    G(x,y) = (y*(x0)^2)/((((y-1.0)*(x0^2))/x + i + x0))-x0\n",
    "\n",
    "    # create a plot with 3 subplots and a custom layout\n",
    "       title!(L\"Puntos fijos del mapeo\")\n",
    "    p = plot(x, y, G, st = [:surface, :contourf],xaxis=(L\"M\",(-1.0, 50)),yaxis=(L\"R\",(-1.0, 50)),title=\"Puntos fijos del mapeo para distintas S\")\n",
    "        \n",
    "end"
   ]
  },
  {
   "cell_type": "code",
   "execution_count": null,
   "metadata": {
    "collapsed": true
   },
   "outputs": [],
   "source": []
  },
  {
   "cell_type": "code",
   "execution_count": null,
   "metadata": {
    "collapsed": true
   },
   "outputs": [],
   "source": []
  }
 ],
 "metadata": {
  "anaconda-cloud": {},
  "kernelspec": {
   "display_name": "Julia 0.5.0",
   "language": "julia",
   "name": "julia-0.5"
  },
  "language_info": {
   "file_extension": ".jl",
   "mimetype": "application/julia",
   "name": "julia",
   "version": "0.5.0"
  },
  "widgets": {
   "state": {
    "5106949f-6478-4b30-8cc4-b23f3bf1b7bd": {
     "views": [
      {
       "cell_index": 15
      }
     ]
    },
    "905096df-477a-4938-b280-991bbb9ae467": {
     "views": [
      {
       "cell_index": 17
      }
     ]
    },
    "9ee57ccf-20b1-41c6-8a38-36d91604bc0f": {
     "views": [
      {
       "cell_index": 15
      }
     ]
    }
   },
   "version": "1.2.0"
  }
 },
 "nbformat": 4,
 "nbformat_minor": 1
}
