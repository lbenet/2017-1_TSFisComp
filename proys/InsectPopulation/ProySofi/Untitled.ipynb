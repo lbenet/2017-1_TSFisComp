{
 "cells": [
  {
   "cell_type": "code",
   "execution_count": 1,
   "metadata": {
    "collapsed": false
   },
   "outputs": [],
   "source": [
    "using Plots, LaTeXStrings, TaylorSeries\n",
    "include(\"AutomDiff_V2.jl\")\n",
    "import AD: Dual, xdual\n",
    "#pyplot(grid=:false, size=(400,267))"
   ]
  },
  {
   "cell_type": "code",
   "execution_count": 2,
   "metadata": {
    "collapsed": false
   },
   "outputs": [
    {
     "data": {
      "text/plain": [
       "ciclosestables!"
      ]
     },
     "execution_count": 2,
     "metadata": {},
     "output_type": "execute_result"
    }
   ],
   "source": [
    "\"\"\"\n",
    "    ciclosestables!(xx, f, nit, nout, cc)\n",
    "\n",
    "Esta función itera el mapeo `f`, de una variable, `nit+nout` veces, \n",
    "usando como condición inicial `x0=0`; los últimos `nout` iterados \n",
    "actualizan al vector `xx` que tiene longitud `nout`. `cc` es el valor\n",
    "del parámetro del mapeo `f`. El mapeo `f` debe ser definido de \n",
    "tal manera que `f(x0,cc)` tenga sentido. La idea es los últimos \n",
    "`nout` iterados reflejen los ciclos estables del mapeo `f`. \n",
    "\"\"\"\n",
    "function ciclosestables!(xx, f, nit, nout, cc,x0)\n",
    "    @assert nit > 0 && nout > 0\n",
    "    \n",
    "    # Primeros nit iterados\n",
    "   \n",
    "    for it = 1:nit\n",
    "        x0 = f(x0, cc)\n",
    "    end\n",
    "    \n",
    "    # Se guardan los siguientes nout iterados\n",
    "    for it = 1:nout\n",
    "        x0 = f(x0, cc)\n",
    "        @inbounds xx[it] = x0\n",
    "    end\n",
    "    \n",
    "    nothing\n",
    "end"
   ]
  },
  {
   "cell_type": "code",
   "execution_count": 3,
   "metadata": {
    "collapsed": false
   },
   "outputs": [
    {
     "data": {
      "text/plain": [
       "diagbifurc"
      ]
     },
     "execution_count": 3,
     "metadata": {},
     "output_type": "execute_result"
    }
   ],
   "source": [
    "\"\"\"\n",
    "    diagbifurc(f, nit, nout, crange)\n",
    "\n",
    "Itera el mapeo `f` `nit+nout` veces y regresa una matriz\n",
    "cuya columna `i` tiene los últimos `nout` iterados del mapeo\n",
    "para el valor del parámetro del mapeo `crange[i]`.\n",
    "\n",
    "La función `f` debe ser definida de tal manera que `f(x0, c)` \n",
    "tenga sentido.\n",
    "\"\"\"\n",
    "function diagbifurc(f, nit, nout, crange,x0)\n",
    "    xx = Vector{Float64}(nout)\n",
    "    ff = Array{Float64,2}(nout, length(crange))\n",
    "    \n",
    "    for ic in eachindex(crange)\n",
    "        c = crange[ic]\n",
    "        ciclosestables!(xx, f, nit, nout, c,x0)\n",
    "        ff[:,ic] = xx\n",
    "    end\n",
    "    \n",
    "    return ff\n",
    "end"
   ]
  },
  {
   "cell_type": "code",
   "execution_count": 4,
   "metadata": {
    "collapsed": false
   },
   "outputs": [],
   "source": [
    "Ict(x,m, r,s) = (r*x^2)/((r-1)*x^2/m + x + s)\n",
    "\n",
    "M=63\n",
    "R=20\n",
    "Ict1(x,s) = Ict(x,M,R,s)\n",
    "\n",
    "crange = 0:1000\n",
    "\n",
    "ff = diagbifurc(Ict1, 1000, 256, crange,50); \n",
    "cc = ones(size(ff)[1])*crange';\n",
    "\n",
    "# Esto cambia las matrices en vectores; ayuda un poco para los dibujos\n",
    "ff = reshape(ff, size(ff)[1]*size(ff)[2]);\n",
    "cc = reshape(cc, size(ff));"
   ]
  },
  {
   "cell_type": "code",
   "execution_count": 5,
   "metadata": {
    "collapsed": false
   },
   "outputs": [
    {
     "data": {
      "text/html": [
       "<img src=\"data:image/png;base64,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\" />"
      ]
     },
     "execution_count": 5,
     "metadata": {},
     "output_type": "execute_result"
    }
   ],
   "source": [
    "scatter(cc, ff, markersize= 0.05)\n"
   ]
  },
  {
   "cell_type": "code",
   "execution_count": 6,
   "metadata": {
    "collapsed": false
   },
   "outputs": [
    {
     "name": "stderr",
     "output_type": "stream",
     "text": [
      "/home/sof9409/anaconda/lib/python2.7/site-packages/matplotlib/font_manager.py:1288: UserWarning: findfont: Font family [u'Helvetica'] not found. Falling back to Bitstream Vera Sans\n",
      "  (prop.get_family(), self.defaultFamily[fontext]))\n"
     ]
    },
    {
     "data": {
      "text/plain": [
       "1-element Array{Float64,1}:\n",
       " 300.0"
      ]
     },
     "execution_count": 6,
     "metadata": {},
     "output_type": "execute_result"
    }
   ],
   "source": [
    "n = length(cc)\n",
    "sc=Float64[]\n",
    "for i in 1:n\n",
    "    if ff[i]==0.0\n",
    "        push!(sc,cc[i])\n",
    "        \n",
    "        break\n",
    "    end\n",
    "end\n",
    "sc"
   ]
  },
  {
   "cell_type": "code",
   "execution_count": 7,
   "metadata": {
    "collapsed": false
   },
   "outputs": [
    {
     "data": {
      "text/plain": [
       "mapeo_liap_all"
      ]
     },
     "execution_count": 7,
     "metadata": {},
     "output_type": "execute_result"
    }
   ],
   "source": [
    "doc\"\"\"\n",
    "    iterado(F,x0,n)\n",
    "\n",
    "Dado un punto $x_0$, esta funció guarda a todas la iteraciones bajo $F$ en un arreglo.\n",
    "\"\"\"\n",
    "\n",
    "function iterado(F::Function,x0::Float64,n::Int)\n",
    "    y = Float64[x0] ##El primer elemento es x_0\n",
    "    x = x0\n",
    "    for i in 1:n\n",
    "        x=F(x) #El valor de x cambia con cada iteración\n",
    "        push!(y,x) #Este nuevo valor se guarda en el arreglo\n",
    "    end\n",
    "    y\n",
    "end\n",
    "\n",
    "doc\"\"\"\n",
    "    Lyapunov(y, F)\n",
    "\n",
    "Dado un punto un arreglo que contenga todas las iteraciones bajo $F$ de $x_0$, calcula \n",
    "$\\frac{1}{n} \\sum_{i=1}^n \\log\\Big| \\, f'(x_i)\\, \\Big|.$\n",
    "\"\"\"\n",
    "\n",
    "function Lyapunov(y, F::Function)\n",
    "    n = length(y)\n",
    "    l = 0\n",
    "   \n",
    "    for i in 1:n\n",
    "        x = abs((F(xdual(y[i]))).der)\n",
    "        l = l + log(x)\n",
    "       \n",
    "    end\n",
    "    l/n\n",
    "end\n",
    "\n",
    "doc\"\"\"\n",
    "mapeo_liap_all(crange::FloatRange, Qc::Function, x0::Float64, n = 100000)\n",
    "\n",
    "Calcula el exponente de Lyapunov para un mapeo paramétrico $Q_c = Q_c(x, c)$ en un rango de parámetros `crange`, un\n",
    "valor inicial `x0` y `n` iteraciones.\n",
    "\"\"\"\n",
    "\n",
    "function mapeo_liap_all(crange::FloatRange, Qc::Function, x0::Float64, n = 100000)\n",
    "    mapeo = Float64[]\n",
    "  \n",
    "    for i in crange\n",
    "        Qci(x) = Qc(x,i) \n",
    "        y = iterado(Qci,x0,n)\n",
    "        l = Lyapunov(y, Qci)\n",
    "        if abs(l)<Inf #En algunos puntos labda diverge, por lo que si tiende a infinito, se la asigna el valor-2.5\n",
    "            push!(mapeo,l)      \n",
    "        else\n",
    "            push!(mapeo,0.0)       \n",
    "        end\n",
    "      \n",
    "    end\n",
    "    mapeo\n",
    "end"
   ]
  },
  {
   "cell_type": "code",
   "execution_count": 8,
   "metadata": {
    "collapsed": false
   },
   "outputs": [],
   "source": [
    "crange = 0.0:1:500\n",
    "mapeo= mapeo_liap_all(crange,Ict1,1000.0);"
   ]
  },
  {
   "cell_type": "code",
   "execution_count": 9,
   "metadata": {
    "collapsed": false
   },
   "outputs": [
    {
     "data": {
      "text/html": [
       "<img src=\"data:image/png;base64,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\" />"
      ]
     },
     "execution_count": 9,
     "metadata": {},
     "output_type": "execute_result"
    }
   ],
   "source": [
    "p = plot(crange,mapeo)\n",
    "\n",
    "xlabel!(L\"c\")\n",
    "ylabel!(L\"\\lambda\")\n",
    "title!(L\"Exponente de Lyapunov $Q_c = x^2 +c$\")"
   ]
  },
  {
   "cell_type": "code",
   "execution_count": 10,
   "metadata": {
    "collapsed": false
   },
   "outputs": [
    {
     "data": {
      "text/plain": [
       "1-element Array{Float64,1}:\n",
       " 299.5"
      ]
     },
     "execution_count": 10,
     "metadata": {},
     "output_type": "execute_result"
    }
   ],
   "source": [
    "n = length(crange)\n",
    "sc=Float64[]\n",
    "for i in 1:n\n",
    "    if mapeo[i]==0.0\n",
    "        push!(sc,(crange[i-1]+crange[i])/2)\n",
    "        \n",
    "        break\n",
    "    end\n",
    "end\n",
    "sc"
   ]
  },
  {
   "cell_type": "code",
   "execution_count": 11,
   "metadata": {
    "collapsed": false
   },
   "outputs": [
    {
     "name": "stderr",
     "output_type": "stream",
     "text": [
      "WARNING: Method definition Ict(Any, Any, Any, Any) in module Main at In[4]:1 overwritten at In[11]:1.\n",
      "WARNING: Method definition Ict1(Any, Any) in module Main at In[4]:5 overwritten at In[11]:5.\n"
     ]
    },
    {
     "data": {
      "text/plain": [
       "1-element Array{Float64,1}:\n",
       " 300.0"
      ]
     },
     "execution_count": 11,
     "metadata": {},
     "output_type": "execute_result"
    }
   ],
   "source": [
    "Ict(x,m, r,s) = (r*x^2)/((r-1)*x^2/m + x + s)\n",
    "\n",
    "M=63\n",
    "R=20\n",
    "Ict1(x,s) = Ict(x,M,R,s)\n",
    "\n",
    "crange = 0:1000\n",
    "\n",
    "ff = diagbifurc(Ict1, 1000, 256, crange,50); \n",
    "cc = ones(size(ff)[1])*crange';\n",
    "\n",
    "# Esto cambia las matrices en vectores; ayuda un poco para los dibujos\n",
    "ff = reshape(ff, size(ff)[1]*size(ff)[2]);\n",
    "cc = reshape(cc, size(ff));\n",
    "\n",
    "n = length(cc)\n",
    "sc=Float64[]\n",
    "for i in 1:n\n",
    "    if ff[i]==0.0\n",
    "        push!(sc,cc[i])\n",
    "        break\n",
    "    end\n",
    "end\n",
    "sc"
   ]
  },
  {
   "cell_type": "code",
   "execution_count": 12,
   "metadata": {
    "collapsed": false
   },
   "outputs": [
    {
     "data": {
      "text/plain": [
       "SC (generic function with 1 method)"
      ]
     },
     "execution_count": 12,
     "metadata": {},
     "output_type": "execute_result"
    }
   ],
   "source": [
    "function SC(Mrange,Rrange)\n",
    "    R = length(Rrange)\n",
    "    Mmax = length(Mrange)\n",
    "    M = zeros(Mmax,R)\n",
    "    crange = 0:1000\n",
    "    for i in 1:Mmax\n",
    "        for j in 1:R\n",
    "            I(x,s) = Ict(x,Mrange[i],Rrange[j],s)\n",
    "            \n",
    "            ff = diagbifurc(I, 1000, 256, crange,100); \n",
    "            cc = ones(size(ff)[1])*crange';\n",
    "            \n",
    "            if mod(j,10) == 0\n",
    "                @show(j,i)\n",
    "            end\n",
    "            \n",
    "            n = length(cc)\n",
    "            for k in 1:n\n",
    "                if ff[k]==0.0\n",
    "                    M[i,j]= cc[k]\n",
    "                    break\n",
    "                end\n",
    "            end\n",
    "        end\n",
    "    end\n",
    "    M\n",
    "end\n",
    "            "
   ]
  },
  {
   "cell_type": "code",
   "execution_count": 36,
   "metadata": {
    "collapsed": false
   },
   "outputs": [
    {
     "name": "stdout",
     "output_type": "stream",
     "text": [
      "j = 10\n",
      "i = 1\n",
      "j = 10\n",
      "i = 2\n",
      "j = 10\n",
      "i = 3\n",
      "j = 10\n",
      "i = 4\n",
      "j = 10\n",
      "i = 5\n",
      "j = 10\n",
      "i = 6\n",
      "j = 10\n",
      "i = 7\n",
      "j = 10\n",
      "i = 8\n",
      "j = 10\n",
      "i = 9\n",
      "j = 10\n",
      "i = 10\n",
      "j = 10\n",
      "i = 11\n",
      "j = 10\n",
      "i = 12\n",
      "j = 10\n",
      "i = 13\n",
      "j = 10\n",
      "i = 14\n",
      "j = 10\n",
      "i = 15\n",
      "j = 10\n",
      "i = 16\n",
      "j = 10\n",
      "i = 17\n",
      "j = 10\n",
      "i = 18\n",
      "j = 10\n",
      "i = 19\n",
      "j = 10\n",
      "i = 20\n",
      "j = 10\n",
      "i = 21\n",
      "j = 10\n",
      "i = 22\n",
      "j = 10\n",
      "i = 23\n",
      "j = 10\n",
      "i = 24\n",
      "j = 10\n",
      "i = 25\n",
      "j = 10\n",
      "i = 26\n",
      "j = 10\n",
      "i = 27\n",
      "j = 10\n",
      "i = 28\n",
      "j = 10\n",
      "i = 29\n",
      "j = 10\n",
      "i = 30\n",
      "j = 10\n",
      "i = 31\n",
      "j = 10\n",
      "i = 32\n",
      "j = 10\n",
      "i = 33\n",
      "j = 10\n",
      "i = 34\n",
      "j = 10\n",
      "i = 35\n",
      "j = 10\n",
      "i = 36\n",
      "j = 10\n",
      "i = 37\n",
      "j = 10\n",
      "i = 38\n",
      "j = 10\n",
      "i = 39\n",
      "j = 10\n",
      "i = 40\n",
      "j = 10\n",
      "i = 41\n",
      "j = 10\n",
      "i = 42\n",
      "j = 10\n",
      "i = 43\n",
      "j = 10\n",
      "i = 44\n",
      "j = 10\n",
      "i = 45\n",
      "j = 10\n",
      "i = 46\n",
      "j = 10\n",
      "i = 47\n",
      "j = 10\n",
      "i = 48\n",
      "j = 10\n",
      "i = 49\n",
      "j = 10\n",
      "i = 50\n",
      "j = 10\n",
      "i = 51\n",
      "j = 10\n",
      "i = 52\n",
      "j = 10\n",
      "i = 53\n",
      "j = 10\n",
      "i = 54\n",
      "j = 10\n",
      "i = 55\n",
      "j = 10\n",
      "i = 56\n",
      "j = 10\n",
      "i = 57\n",
      "j = 10\n",
      "i = 58\n",
      "j = 10\n",
      "i = 59\n",
      "j = 10\n",
      "i = 60\n",
      "j = 10\n",
      "i = 61\n",
      "j = 10\n",
      "i = 62\n",
      "j = 10\n",
      "i = 63\n",
      "j = 10\n",
      "i = 64\n",
      "j = 10\n",
      "i = 65\n",
      "j = 10\n",
      "i = 66\n",
      "j = 10\n",
      "i = 67\n",
      "j = 10\n",
      "i = 68\n",
      "j = 10\n",
      "i = 69\n",
      "j = 10\n",
      "i = 70\n",
      "j = 10\n",
      "i = 71\n",
      "j = 10\n",
      "i = 72\n",
      "j = 10\n",
      "i = 73\n",
      "j = 10\n",
      "i = 74\n",
      "j = 10\n",
      "i = 75\n",
      "j = 10\n",
      "i = 76\n",
      "j = 10\n",
      "i = 77\n",
      "j = 10\n",
      "i = 78\n",
      "j = 10\n",
      "i = 79\n",
      "j = 10\n",
      "i = 80\n",
      "j = 10\n",
      "i = 81\n",
      "j = 10\n",
      "i = 82\n",
      "j = 10\n",
      "i = 83\n",
      "j = 10\n",
      "i = 84\n",
      "j = 10\n",
      "i = 85\n",
      "j = 10\n",
      "i = 86\n",
      "j = 10\n",
      "i = 87\n",
      "j = 10\n",
      "i = 88\n",
      "j = 10\n",
      "i = 89\n",
      "j = 10\n",
      "i = 90\n",
      "j = 10\n",
      "i = 91\n",
      "j = 10\n",
      "i = 92\n",
      "j = 10\n",
      "i = 93\n",
      "j = 10\n",
      "i = 94\n",
      "j = 10\n",
      "i = 95\n",
      "j = 10\n",
      "i = 96\n",
      "j = 10\n",
      "i = 97\n",
      "j = 10\n",
      "i = 98\n",
      "j = 10\n",
      "i = 99\n",
      "j = 10\n",
      "i = 100\n"
     ]
    },
    {
     "data": {
      "text/plain": [
       "100×17 Array{Float64,2}:\n",
       "  1.0   1.0   1.0   1.0   1.0   1.0   1.0  …   1.0   1.0   1.0    1.0    2.0\n",
       "  2.0   2.0   2.0   2.0   2.0   2.0   2.0      2.0   2.0   2.0    2.0    3.0\n",
       "  3.0   3.0   3.0   3.0   3.0   3.0   3.0      3.0   3.0   3.0    3.0    4.0\n",
       "  4.0   4.0   4.0   4.0   4.0   4.0   4.0      4.0   4.0   4.0    4.0    5.0\n",
       "  5.0   5.0   5.0   5.0   5.0   5.0   5.0      5.0   5.0   5.0    5.0    6.0\n",
       "  6.0   6.0   6.0   6.0   6.0   6.0   6.0  …   6.0   6.0   6.0    6.0    7.0\n",
       "  7.0   7.0   7.0   7.0   7.0   7.0   7.0      7.0   7.0   7.0    7.0    8.0\n",
       "  8.0   8.0   8.0   8.0   8.0   8.0   8.0      8.0   8.0   8.0    8.0    9.0\n",
       "  8.0   8.0   9.0   9.0   9.0   9.0   9.0      9.0   9.0   9.0    9.0   10.0\n",
       "  9.0   9.0   9.0   9.0  10.0  10.0  10.0     10.0  10.0  10.0   10.0   11.0\n",
       " 10.0  10.0  10.0  10.0  10.0  11.0  11.0  …  11.0  11.0  11.0   11.0   12.0\n",
       " 11.0  11.0  11.0  11.0  11.0  11.0  12.0     12.0  12.0  12.0   12.0   13.0\n",
       " 12.0  12.0  12.0  12.0  12.0  12.0  12.0     13.0  13.0  13.0   13.0   14.0\n",
       "  ⋮                             ⋮          ⋱                      ⋮         \n",
       " 78.0  79.0  80.0  80.0  81.0  82.0  83.0     87.0  87.0  88.0   89.0   90.0\n",
       " 79.0  80.0  81.0  81.0  82.0  83.0  83.0     88.0  88.0  89.0   90.0   91.0\n",
       " 80.0  81.0  82.0  82.0  83.0  84.0  84.0  …  89.0  89.0  90.0   91.0   92.0\n",
       " 81.0  82.0  82.0  83.0  84.0  85.0  85.0     90.0  90.0  91.0   92.0   93.0\n",
       " 82.0  83.0  83.0  84.0  85.0  86.0  86.0     91.0  91.0  92.0   93.0   94.0\n",
       " 83.0  83.0  84.0  85.0  86.0  86.0  87.0     92.0  92.0  93.0   94.0   95.0\n",
       " 84.0  84.0  85.0  86.0  87.0  87.0  88.0     93.0  93.0  94.0   95.0   96.0\n",
       " 85.0  85.0  86.0  87.0  88.0  88.0  89.0  …  94.0  94.0  95.0   96.0   97.0\n",
       " 85.0  86.0  87.0  88.0  88.0  89.0  90.0     94.0  95.0  96.0   97.0   98.0\n",
       " 86.0  87.0  88.0  89.0  89.0  90.0  91.0     95.0  96.0  97.0   98.0   99.0\n",
       " 87.0  88.0  89.0  89.0  90.0  91.0  92.0     96.0  97.0  98.0   99.0  100.0\n",
       " 88.0  89.0  90.0  90.0  91.0  92.0  93.0     97.0  98.0  99.0  100.0  101.0"
      ]
     },
     "execution_count": 36,
     "metadata": {},
     "output_type": "execute_result"
    }
   ],
   "source": [
    "Rrange = 4.5:1/2^5:5\n",
    "M=SC(1:100,Rrange)"
   ]
  },
  {
   "cell_type": "code",
   "execution_count": 45,
   "metadata": {
    "collapsed": false
   },
   "outputs": [
    {
     "data": {
      "text/html": [
       "<img src=\"data:image/png;base64,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\" />"
      ]
     },
     "execution_count": 45,
     "metadata": {},
     "output_type": "execute_result"
    }
   ],
   "source": [
    "plot(M[:,end-1:end])"
   ]
  },
  {
   "cell_type": "code",
   "execution_count": 115,
   "metadata": {
    "collapsed": false
   },
   "outputs": [
    {
     "name": "stdout",
     "output_type": "stream",
     "text": [
      "j = 10\n",
      "i = 1\n",
      "j = 20\n",
      "i = 1\n",
      "j = 30\n",
      "i = 1\n",
      "j = 10\n",
      "i = 2\n",
      "j = 20\n",
      "i = 2\n",
      "j = 30\n",
      "i = 2\n",
      "j = 10\n",
      "i = 3\n",
      "j = 20\n",
      "i = 3\n",
      "j = 30\n",
      "i = 3\n",
      "j = 10\n",
      "i = 4\n",
      "j = 20\n",
      "i = 4\n",
      "j = 30\n",
      "i = 4\n",
      "j = 10\n",
      "i = 5\n",
      "j = 20\n",
      "i = 5\n",
      "j = 30\n",
      "i = 5\n",
      "j = 10\n",
      "i = 6\n",
      "j = 20\n",
      "i = 6\n",
      "j = 30\n",
      "i = 6\n",
      "j = 10\n",
      "i = 7\n",
      "j = 20\n",
      "i = 7\n",
      "j = 30\n",
      "i = 7\n",
      "j = 10\n",
      "i = 8\n",
      "j = 20\n",
      "i = 8\n",
      "j = 30\n",
      "i = 8\n",
      "j = 10\n",
      "i = 9\n",
      "j = 20\n",
      "i = 9\n",
      "j = 30\n",
      "i = 9\n",
      "j = 10\n",
      "i = 10\n",
      "j = 20\n",
      "i = 10\n",
      "j = 30\n",
      "i = 10\n",
      "j = 10\n",
      "i = 11\n",
      "j = 20\n",
      "i = 11\n",
      "j = 30\n",
      "i = 11\n",
      "j = 10\n",
      "i = 12\n",
      "j = 20\n",
      "i = 12\n",
      "j = 30\n",
      "i = 12\n",
      "j = 10\n",
      "i = 13\n",
      "j = 20\n",
      "i = 13\n",
      "j = 30\n",
      "i = 13\n",
      "j = 10\n",
      "i = 14\n",
      "j = 20\n",
      "i = 14\n",
      "j = 30\n",
      "i = 14\n",
      "j = 10\n",
      "i = 15\n",
      "j = 20\n",
      "i = 15\n",
      "j = 30\n",
      "i = 15\n",
      "j = 10\n",
      "i = 16\n",
      "j = 20\n",
      "i = 16\n",
      "j = 30\n",
      "i = 16\n",
      "j = 10\n",
      "i = 17\n",
      "j = 20\n",
      "i = 17\n",
      "j = 30\n",
      "i = 17\n",
      "j = 10\n",
      "i = 18\n",
      "j = 20\n",
      "i = 18\n",
      "j = 30\n",
      "i = 18\n",
      "j = 10\n",
      "i = 19\n",
      "j = 20\n",
      "i = 19\n",
      "j = 30\n",
      "i = 19\n",
      "j = 10\n",
      "i = 20\n",
      "j = 20\n",
      "i = 20\n",
      "j = 30\n",
      "i = 20\n",
      "j = 10\n",
      "i = 21\n",
      "j = 20\n",
      "i = 21\n",
      "j = 30\n",
      "i = 21\n",
      "j = 10\n",
      "i = 22\n",
      "j = 20\n",
      "i = 22\n",
      "j = 30\n",
      "i = 22\n",
      "j = 10\n",
      "i = 23\n",
      "j = 20\n",
      "i = 23\n",
      "j = 30\n",
      "i = 23\n",
      "j = 10\n",
      "i = 24\n",
      "j = 20\n",
      "i = 24\n",
      "j = 30\n",
      "i = 24\n",
      "j = 10\n",
      "i = 25\n",
      "j = 20\n",
      "i = 25\n",
      "j = 30\n",
      "i = 25\n",
      "j = 10\n",
      "i = 26\n",
      "j = 20\n",
      "i = 26\n",
      "j = 30\n",
      "i = 26\n",
      "j = 10\n",
      "i = 27\n",
      "j = 20\n",
      "i = 27\n",
      "j = 30\n",
      "i = 27\n",
      "j = 10\n",
      "i = 28\n",
      "j = 20\n",
      "i = 28\n",
      "j = 30\n",
      "i = 28\n",
      "j = 10\n",
      "i = 29\n",
      "j = 20\n",
      "i = 29\n",
      "j = 30\n",
      "i = 29\n",
      "j = 10\n",
      "i = 30\n",
      "j = 20\n",
      "i = 30\n",
      "j = 30\n",
      "i = 30\n",
      "j = 10\n",
      "i = 31\n",
      "j = 20\n",
      "i = 31\n",
      "j = 30\n",
      "i = 31\n",
      "j = 10\n",
      "i = 32\n",
      "j = 20\n",
      "i = 32\n",
      "j = 30\n",
      "i = 32\n",
      "j = 10\n",
      "i = 33\n",
      "j = 20\n",
      "i = 33\n",
      "j = 30\n",
      "i = 33\n",
      "j = 10\n",
      "i = 34\n",
      "j = 20\n",
      "i = 34\n",
      "j = 30\n",
      "i = 34\n",
      "j = 10\n",
      "i = 35\n",
      "j = 20\n",
      "i = 35\n",
      "j = 30\n",
      "i = 35\n",
      "j = 10\n",
      "i = 36\n",
      "j = 20\n",
      "i = 36\n",
      "j = 30\n",
      "i = 36\n",
      "j = 10\n",
      "i = 37\n",
      "j = 20\n",
      "i = 37\n",
      "j = 30\n",
      "i = 37\n",
      "j = 10\n",
      "i = 38\n",
      "j = 20\n",
      "i = 38\n",
      "j = 30\n",
      "i = 38\n",
      "j = 10\n",
      "i = 39\n",
      "j = 20\n",
      "i = 39\n",
      "j = 30\n",
      "i = 39\n",
      "j = 10\n",
      "i = 40\n",
      "j = 20\n",
      "i = 40\n",
      "j = 30\n",
      "i = 40\n",
      "j = 10\n",
      "i = 41\n",
      "j = 20\n",
      "i = 41\n",
      "j = 30\n",
      "i = 41\n",
      "j = 10\n",
      "i = 42\n",
      "j = 20\n",
      "i = 42\n",
      "j = 30\n",
      "i = 42\n",
      "j = 10\n",
      "i = 43\n",
      "j = 20\n",
      "i = 43\n",
      "j = 30\n",
      "i = 43\n",
      "j = 10\n",
      "i = 44\n",
      "j = 20\n",
      "i = 44\n",
      "j = 30\n",
      "i = 44\n",
      "j = 10\n",
      "i = 45\n",
      "j = 20\n",
      "i = 45\n",
      "j = 30\n",
      "i = 45\n",
      "j = 10\n",
      "i = 46\n",
      "j = 20\n",
      "i = 46\n",
      "j = 30\n",
      "i = 46\n",
      "j = 10\n",
      "i = 47\n",
      "j = 20\n",
      "i = 47\n",
      "j = 30\n",
      "i = 47\n",
      "j = 10\n",
      "i = 48\n",
      "j = 20\n",
      "i = 48\n",
      "j = 30\n",
      "i = 48\n",
      "j = 10\n",
      "i = 49\n",
      "j = 20\n",
      "i = 49\n",
      "j = 30\n",
      "i = 49\n",
      "j = 10\n",
      "i = 50\n",
      "j = 20\n",
      "i = 50\n",
      "j = 30\n",
      "i = 50\n"
     ]
    },
    {
     "data": {
      "text/plain": [
       "50×36 Array{Float64,2}:\n",
       "  2.0   2.0   2.0   2.0    3.0    3.0  …    9.0   10.0   10.0   10.0   10.0\n",
       "  3.0   3.0   4.0   4.0    5.0    5.0      18.0   19.0   19.0   20.0   20.0\n",
       "  4.0   4.0   5.0   6.0    7.0    7.0      27.0   28.0   28.0   29.0   30.0\n",
       "  5.0   6.0   7.0   8.0    9.0   10.0      36.0   37.0   38.0   39.0   40.0\n",
       "  6.0   7.0   8.0   9.0   11.0   12.0      44.0   46.0   47.0   48.0   49.0\n",
       "  7.0   8.0  10.0  11.0   13.0   14.0  …   53.0   55.0   56.0   58.0   59.0\n",
       "  8.0   9.0  11.0  13.0   15.0   16.0      62.0   64.0   65.0   67.0   69.0\n",
       "  9.0  11.0  13.0  15.0   17.0   19.0      71.0   73.0   75.0   77.0   79.0\n",
       " 10.0  12.0  14.0  16.0   19.0   21.0      79.0   82.0   84.0   86.0   88.0\n",
       " 11.0  13.0  16.0  18.0   21.0   23.0      88.0   91.0   93.0   96.0   98.0\n",
       " 12.0  14.0  17.0  20.0   23.0   25.0  …   97.0  100.0  102.0  105.0  108.0\n",
       " 13.0  16.0  19.0  22.0   25.0   28.0     106.0  109.0  112.0  115.0  118.0\n",
       " 14.0  17.0  20.0  23.0   27.0   30.0     114.0  118.0  121.0  124.0  127.0\n",
       "  ⋮                               ⋮    ⋱                                ⋮  \n",
       " 40.0  49.0  59.0  69.0   79.0   88.0     342.0  352.0  361.0  371.0  381.0\n",
       " 41.0  51.0  61.0  71.0   81.0   91.0     351.0  361.0  371.0  381.0  391.0\n",
       " 42.0  52.0  62.0  72.0   83.0   93.0  …  359.0  370.0  380.0  390.0  400.0\n",
       " 43.0  53.0  64.0  74.0   85.0   95.0     368.0  379.0  389.0  400.0  410.0\n",
       " 44.0  54.0  65.0  76.0   87.0   97.0     377.0  388.0  398.0  409.0  420.0\n",
       " 45.0  56.0  67.0  78.0   89.0  100.0     386.0  397.0  408.0  419.0  430.0\n",
       " 46.0  57.0  68.0  79.0   91.0  102.0     394.0  406.0  417.0  428.0  439.0\n",
       " 47.0  58.0  70.0  81.0   93.0  104.0  …  403.0  415.0  426.0  438.0  449.0\n",
       " 48.0  59.0  71.0  83.0   95.0  106.0     412.0  424.0  435.0  447.0  459.0\n",
       " 49.0  61.0  73.0  85.0   97.0  109.0     421.0  433.0  445.0  457.0  469.0\n",
       " 50.0  62.0  74.0  86.0   99.0  111.0     429.0  442.0  454.0  466.0  478.0\n",
       " 51.0  63.0  76.0  88.0  101.0  113.0     438.0  451.0  463.0  476.0  488.0"
      ]
     },
     "execution_count": 115,
     "metadata": {},
     "output_type": "execute_result"
    }
   ],
   "source": [
    "Rrange = 5:40\n",
    "M1=SC(1:50,Rrange)"
   ]
  },
  {
   "cell_type": "code",
   "execution_count": 116,
   "metadata": {
    "collapsed": false
   },
   "outputs": [
    {
     "data": {
      "text/html": [
       "<img src=\"data:image/png;base64,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\" />"
      ]
     },
     "execution_count": 116,
     "metadata": {},
     "output_type": "execute_result"
    }
   ],
   "source": [
    "plot(M1[1:10,1:5])"
   ]
  },
  {
   "cell_type": "code",
   "execution_count": 117,
   "metadata": {
    "collapsed": false
   },
   "outputs": [],
   "source": [
    "writecsv(\"M1.csv\", M1)\n"
   ]
  },
  {
   "cell_type": "code",
   "execution_count": 118,
   "metadata": {
    "collapsed": false
   },
   "outputs": [
    {
     "data": {
      "text/plain": [
       "50×36 Array{Float64,2}:\n",
       "  2.0   2.0   2.0   2.0    3.0    3.0  …    9.0   10.0   10.0   10.0   10.0\n",
       "  3.0   3.0   4.0   4.0    5.0    5.0      18.0   19.0   19.0   20.0   20.0\n",
       "  4.0   4.0   5.0   6.0    7.0    7.0      27.0   28.0   28.0   29.0   30.0\n",
       "  5.0   6.0   7.0   8.0    9.0   10.0      36.0   37.0   38.0   39.0   40.0\n",
       "  6.0   7.0   8.0   9.0   11.0   12.0      44.0   46.0   47.0   48.0   49.0\n",
       "  7.0   8.0  10.0  11.0   13.0   14.0  …   53.0   55.0   56.0   58.0   59.0\n",
       "  8.0   9.0  11.0  13.0   15.0   16.0      62.0   64.0   65.0   67.0   69.0\n",
       "  9.0  11.0  13.0  15.0   17.0   19.0      71.0   73.0   75.0   77.0   79.0\n",
       " 10.0  12.0  14.0  16.0   19.0   21.0      79.0   82.0   84.0   86.0   88.0\n",
       " 11.0  13.0  16.0  18.0   21.0   23.0      88.0   91.0   93.0   96.0   98.0\n",
       " 12.0  14.0  17.0  20.0   23.0   25.0  …   97.0  100.0  102.0  105.0  108.0\n",
       " 13.0  16.0  19.0  22.0   25.0   28.0     106.0  109.0  112.0  115.0  118.0\n",
       " 14.0  17.0  20.0  23.0   27.0   30.0     114.0  118.0  121.0  124.0  127.0\n",
       "  ⋮                               ⋮    ⋱                                ⋮  \n",
       " 40.0  49.0  59.0  69.0   79.0   88.0     342.0  352.0  361.0  371.0  381.0\n",
       " 41.0  51.0  61.0  71.0   81.0   91.0     351.0  361.0  371.0  381.0  391.0\n",
       " 42.0  52.0  62.0  72.0   83.0   93.0  …  359.0  370.0  380.0  390.0  400.0\n",
       " 43.0  53.0  64.0  74.0   85.0   95.0     368.0  379.0  389.0  400.0  410.0\n",
       " 44.0  54.0  65.0  76.0   87.0   97.0     377.0  388.0  398.0  409.0  420.0\n",
       " 45.0  56.0  67.0  78.0   89.0  100.0     386.0  397.0  408.0  419.0  430.0\n",
       " 46.0  57.0  68.0  79.0   91.0  102.0     394.0  406.0  417.0  428.0  439.0\n",
       " 47.0  58.0  70.0  81.0   93.0  104.0  …  403.0  415.0  426.0  438.0  449.0\n",
       " 48.0  59.0  71.0  83.0   95.0  106.0     412.0  424.0  435.0  447.0  459.0\n",
       " 49.0  61.0  73.0  85.0   97.0  109.0     421.0  433.0  445.0  457.0  469.0\n",
       " 50.0  62.0  74.0  86.0   99.0  111.0     429.0  442.0  454.0  466.0  478.0\n",
       " 51.0  63.0  76.0  88.0  101.0  113.0     438.0  451.0  463.0  476.0  488.0"
      ]
     },
     "execution_count": 118,
     "metadata": {},
     "output_type": "execute_result"
    }
   ],
   "source": [
    "MS = readcsv(\"M1.csv\")"
   ]
  },
  {
   "cell_type": "code",
   "execution_count": 140,
   "metadata": {
    "collapsed": false
   },
   "outputs": [
    {
     "data": {
      "text/plain": [
       "([5.0,9.0,13.0,17.0,21.0,25.0,29.0,33.0,37.0],[1.0,2.0,3.0,4.0,5.0,6.0,7.0,8.0,9.0])"
      ]
     },
     "execution_count": 140,
     "metadata": {},
     "output_type": "execute_result"
    }
   ],
   "source": [
    "dif=MS\n",
    "    for j in 1:length(M1[:,1])-1 #fixed m\n",
    "        dif[j,:]= M1[j+1,:]-M1[j,:]\n",
    "end\n",
    "\n",
    "dif\n",
    "dif[end,:]= dif[end-1,:]\n",
    "steadyR = Float64[]\n",
    "steapR = Float64[]\n",
    "for i in 1:36\n",
    "    u = unique(dif[:,i])\n",
    "    if length(u)==1\n",
    "        push!(steadyR,Rrange[i])\n",
    "        push!(steapR,u[1])\n",
    "    end\n",
    "end\n",
    "steadyR,steapR"
   ]
  },
  {
   "cell_type": "code",
   "execution_count": null,
   "metadata": {
    "collapsed": false
   },
   "outputs": [
    {
     "data": {
      "text/plain": [
       "([4.0,8.0,12.0,16.0,20.0,24.0,28.0,32.0,36.0,40.0,44.0,48.0],[1.0,2.0,3.0,4.0,5.0,6.0,7.0,8.0,9.0,10.0,11.0,12.0])"
      ]
     },
     "execution_count": 141,
     "metadata": {},
     "output_type": "execute_result"
    }
   ],
   "source": [
    "dif2=MS\n",
    "    for j in 1:length(M1[1,:])-1 #fixed m\n",
    "        dif2[:,j]=  M1[:,j+1]-M1[:,j]\n",
    "end\n",
    "\n",
    "dif2\n",
    "dif[:,end]= dif[:,end-1]\n",
    "steadyM = Float64[]\n",
    "steapM = Float64[]\n",
    "for i in 1:50\n",
    "    u = unique(dif[i,:])\n",
    "    if length(unique(dif[i,:]))==1\n",
    "        push!(steadyM,i)\n",
    "        push!(steapM,u[1])\n",
    "    end\n",
    "end\n",
    "steadyM,steapM"
   ]
  },
  {
   "cell_type": "code",
   "execution_count": 126,
   "metadata": {
    "collapsed": false
   },
   "outputs": [
    {
     "ename": "LoadError",
     "evalue": "LoadError: MethodError: Cannot `convert` an object of type Int64 to an object of type Range{T}\nThis may have arisen from a call to the constructor Range{T}(...),\nsince type constructors fall back to convert methods.\nwhile loading In[126], in expression starting on line 1",
     "output_type": "error",
     "traceback": [
      "LoadError: MethodError: Cannot `convert` an object of type Int64 to an object of type Range{T}\nThis may have arisen from a call to the constructor Range{T}(...),\nsince type constructors fall back to convert methods.\nwhile loading In[126], in expression starting on line 1",
      "",
      " in getindex(::Type{Range}, ::Int64) at ./array.jl:138"
     ]
    }
   ],
   "source": [
    "unique(dif[:,1])"
   ]
  },
  {
   "cell_type": "code",
   "execution_count": 99,
   "metadata": {
    "collapsed": false
   },
   "outputs": [
    {
     "data": {
      "text/html": [
       "<img src=\"data:image/png;base64,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\" />"
      ]
     },
     "execution_count": 99,
     "metadata": {},
     "output_type": "execute_result"
    }
   ],
   "source": [
    "scatter(M1[1,:])\n",
    "scatter!(M1[2,:])\n",
    "scatter!(M1[3,:])\n",
    "scatter!(M1[4,:])"
   ]
  },
  {
   "cell_type": "code",
   "execution_count": 18,
   "metadata": {
    "collapsed": false
   },
   "outputs": [
    {
     "data": {
      "text/plain": [
       "1×8 Array{Float64,2}:\n",
       " 1.0  9.0  16.0  24.0  31.0  39.0  46.0  54.0"
      ]
     },
     "execution_count": 18,
     "metadata": {},
     "output_type": "execute_result"
    }
   ],
   "source": [
    "Rrange = 1+1/2^2:2:16\n",
    "M2=SC(15,Rrange)"
   ]
  },
  {
   "cell_type": "code",
   "execution_count": 61,
   "metadata": {
    "collapsed": false
   },
   "outputs": [
    {
     "data": {
      "text/plain": [
       "3-element Array{Int64,1}:\n",
       " 1\n",
       " 2\n",
       " 3"
      ]
     },
     "execution_count": 61,
     "metadata": {},
     "output_type": "execute_result"
    }
   ],
   "source": [
    "unique([1,1,2,3])"
   ]
  },
  {
   "cell_type": "code",
   "execution_count": null,
   "metadata": {
    "collapsed": true
   },
   "outputs": [],
   "source": []
  }
 ],
 "metadata": {
  "kernelspec": {
   "display_name": "Julia 0.5.0",
   "language": "julia",
   "name": "julia-0.5"
  },
  "language_info": {
   "file_extension": ".jl",
   "mimetype": "application/julia",
   "name": "julia",
   "version": "0.5.0"
  }
 },
 "nbformat": 4,
 "nbformat_minor": 0
}
