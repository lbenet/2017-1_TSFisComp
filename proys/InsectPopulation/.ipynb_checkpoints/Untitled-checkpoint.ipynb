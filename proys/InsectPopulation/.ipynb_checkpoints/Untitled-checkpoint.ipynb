{
 "cells": [
  {
   "cell_type": "code",
   "execution_count": 1,
   "metadata": {
    "collapsed": false
   },
   "outputs": [],
   "source": [
    "using Plots, LaTeXStrings"
   ]
  },
  {
   "cell_type": "code",
   "execution_count": 92,
   "metadata": {
    "collapsed": false
   },
   "outputs": [
    {
     "data": {
      "text/plain": [
       "ciclosestables!"
      ]
     },
     "execution_count": 92,
     "metadata": {},
     "output_type": "execute_result"
    }
   ],
   "source": [
    "\"\"\"\n",
    "    ciclosestables!(xx, f, nit, nout, cc)\n",
    "\n",
    "Esta función itera el mapeo `f`, de una variable, `nit+nout` veces, \n",
    "usando como condición inicial `x0=0`; los últimos `nout` iterados \n",
    "actualizan al vector `xx` que tiene longitud `nout`. `cc` es el valor\n",
    "del parámetro del mapeo `f`. El mapeo `f` debe ser definido de \n",
    "tal manera que `f(x0,cc)` tenga sentido. La idea es los últimos \n",
    "`nout` iterados reflejen los ciclos estables del mapeo `f`. \n",
    "\"\"\"\n",
    "function ciclosestables!(xx, f, nit, nout, cc,x0)\n",
    "    @assert nit > 0 && nout > 0\n",
    "    \n",
    "    # Primeros nit iterados\n",
    "   \n",
    "    for it = 1:nit\n",
    "        x0 = f(x0, cc)\n",
    "    end\n",
    "    \n",
    "    # Se guardan los siguientes nout iterados\n",
    "    for it = 1:nout\n",
    "        x0 = f(x0, cc)\n",
    "        @inbounds xx[it] = x0\n",
    "    end\n",
    "    \n",
    "    nothing\n",
    "end"
   ]
  },
  {
   "cell_type": "code",
   "execution_count": 93,
   "metadata": {
    "collapsed": false
   },
   "outputs": [
    {
     "data": {
      "text/plain": [
       "diagbifurc"
      ]
     },
     "execution_count": 93,
     "metadata": {},
     "output_type": "execute_result"
    }
   ],
   "source": [
    "\"\"\"\n",
    "    diagbifurc(f, nit, nout, crange)\n",
    "\n",
    "Itera el mapeo `f` `nit+nout` veces y regresa una matriz\n",
    "cuya columna `i` tiene los últimos `nout` iterados del mapeo\n",
    "para el valor del parámetro del mapeo `crange[i]`.\n",
    "\n",
    "La función `f` debe ser definida de tal manera que `f(x0, c)` \n",
    "tenga sentido.\n",
    "\"\"\"\n",
    "function diagbifurc(f, nit, nout, crange,x0)\n",
    "    xx = Vector{Float64}(nout)\n",
    "    ff = Array{Float64,2}(nout, length(crange))\n",
    "    \n",
    "    for ic in eachindex(crange)\n",
    "        c = crange[ic]\n",
    "        ciclosestables!(xx, f, nit, nout, c,x0)\n",
    "        ff[:,ic] = xx\n",
    "    end\n",
    "    \n",
    "    return ff\n",
    "end"
   ]
  },
  {
   "cell_type": "code",
   "execution_count": 27,
   "metadata": {
    "collapsed": false
   },
   "outputs": [
    {
     "name": "stderr",
     "output_type": "stream",
     "text": [
      "WARNING: Method definition Qc(Any, Any) in module Main at In[21]:1 overwritten at In[27]:1.\n"
     ]
    }
   ],
   "source": [
    "Qc(x,c) = x^2 + c\n",
    "\n",
    "crange = 0.25:-1/2^10:-2.0\n",
    "\n",
    "ff = diagbifurc(Qc, 1000, 256, crange); \n",
    "cc = ones(size(ff)[1])*crange';\n",
    "\n",
    "# Esto cambia las matrices en vectores; ayuda un poco para los dibujos\n",
    "ff = reshape(ff, size(ff)[1]*size(ff)[2]);\n",
    "cc = reshape(cc, size(ff));"
   ]
  },
  {
   "cell_type": "code",
   "execution_count": 28,
   "metadata": {
    "collapsed": false
   },
   "outputs": [
    {
     "data": {
      "text/html": [
       "<img src=\"data:image/png;base64,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\" />"
      ]
     },
     "execution_count": 28,
     "metadata": {},
     "output_type": "execute_result"
    },
    {
     "name": "stderr",
     "output_type": "stream",
     "text": [
      "/home/sof9409/anaconda/lib/python2.7/site-packages/matplotlib/axes/_base.py:3045: UserWarning: Attempting to set identical bottom==top results\n",
      "in singular transformations; automatically expanding.\n",
      "bottom=inf, top=inf\n",
      "  'bottom=%s, top=%s') % (bottom, top))\n"
     ]
    }
   ],
   "source": [
    "scatter(cc, ff, markersize= 0.05)\n"
   ]
  },
  {
   "cell_type": "code",
   "execution_count": 95,
   "metadata": {
    "collapsed": false
   },
   "outputs": [
    {
     "name": "stderr",
     "output_type": "stream",
     "text": [
      "WARNING: Method definition Ict(Any, Any, Any, Any) in module Main at In[94]:1 overwritten at In[95]:1.\n",
      "WARNING: Method definition Ict1(Any, Any) in module Main at In[94]:2 overwritten at In[95]:2.\n"
     ]
    }
   ],
   "source": [
    "Ict(x,m, r,s) = r*x^2/((r-1)*x^2/m + 1 + s)\n",
    "Ict1(x,s) = Ict(x,100,10,s)\n",
    "\n",
    "crange = 0:1/2:1000\n",
    "\n",
    "ff = diagbifurc(Ict1, 1000, 256, crange,1000); \n",
    "cc = ones(size(ff)[1])*crange';\n",
    "\n",
    "# Esto cambia las matrices en vectores; ayuda un poco para los dibujos\n",
    "ff = reshape(ff, size(ff)[1]*size(ff)[2]);\n",
    "cc = reshape(cc, size(ff));"
   ]
  },
  {
   "cell_type": "code",
   "execution_count": 96,
   "metadata": {
    "collapsed": false
   },
   "outputs": [
    {
     "data": {
      "text/html": [
       "<img src=\"data:image/png;base64,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\" />"
      ]
     },
     "execution_count": 96,
     "metadata": {},
     "output_type": "execute_result"
    }
   ],
   "source": [
    "scatter(cc, ff, markersize= 0.05)\n"
   ]
  },
  {
   "cell_type": "code",
   "execution_count": 77,
   "metadata": {
    "collapsed": false
   },
   "outputs": [
    {
     "name": "stderr",
     "output_type": "stream",
     "text": [
      "WARNING: Method definition track(Any, Any, Any) in module Main at In[52]:2 overwritten at In[77]:2.\n"
     ]
    },
    {
     "data": {
      "text/plain": [
       "track (generic function with 1 method)"
      ]
     },
     "execution_count": 77,
     "metadata": {},
     "output_type": "execute_result"
    }
   ],
   "source": [
    "function track(F,n,x0)\n",
    "    t = Float64[x0]\n",
    "    x = x0\n",
    "    for i in 1:n\n",
    "        x = F(x)\n",
    "        push!(t,x)\n",
    "    end\n",
    "    t\n",
    "\n",
    "end"
   ]
  },
  {
   "cell_type": "code",
   "execution_count": 88,
   "metadata": {
    "collapsed": false
   },
   "outputs": [
    {
     "data": {
      "text/plain": [
       "1001-element Array{Float64,1}:\n",
       " 100.0    \n",
       "   3.9992 \n",
       "   3.5554 \n",
       "   3.45358\n",
       "   3.42559\n",
       "   3.41753\n",
       "   3.41518\n",
       "   3.4145 \n",
       "   3.4143 \n",
       "   3.41424\n",
       "   3.41422\n",
       "   3.41422\n",
       "   3.41421\n",
       "   ⋮      \n",
       "   3.41421\n",
       "   3.41421\n",
       "   3.41421\n",
       "   3.41421\n",
       "   3.41421\n",
       "   3.41421\n",
       "   3.41421\n",
       "   3.41421\n",
       "   3.41421\n",
       "   3.41421\n",
       "   3.41421\n",
       "   3.41421"
      ]
     },
     "execution_count": 88,
     "metadata": {},
     "output_type": "execute_result"
    }
   ],
   "source": [
    "tt= track(x->Ict(x,2,2,0),1000,100)"
   ]
  },
  {
   "cell_type": "code",
   "execution_count": 80,
   "metadata": {
    "collapsed": false
   },
   "outputs": [
    {
     "data": {
      "text/html": [
       "<img src=\"data:image/png;base64,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\" />"
      ]
     },
     "execution_count": 80,
     "metadata": {},
     "output_type": "execute_result"
    }
   ],
   "source": [
    "scatter(tt)"
   ]
  },
  {
   "cell_type": "code",
   "execution_count": 91,
   "metadata": {
    "collapsed": false
   },
   "outputs": [
    {
     "data": {
      "text/html": [
       "<img src=\"data:image/png;base64,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\" />"
      ]
     },
     "execution_count": 91,
     "metadata": {},
     "output_type": "execute_result"
    }
   ],
   "source": [
    "plot(x->Ict(x,10,10,10),crange)"
   ]
  },
  {
   "cell_type": "code",
   "execution_count": null,
   "metadata": {
    "collapsed": true
   },
   "outputs": [],
   "source": []
  }
 ],
 "metadata": {
  "anaconda-cloud": {},
  "kernelspec": {
   "display_name": "Julia 0.5.0",
   "language": "julia",
   "name": "julia-0.5"
  },
  "language_info": {
   "file_extension": ".jl",
   "mimetype": "application/julia",
   "name": "julia",
   "version": "0.5.0"
  }
 },
 "nbformat": 4,
 "nbformat_minor": 0
}
