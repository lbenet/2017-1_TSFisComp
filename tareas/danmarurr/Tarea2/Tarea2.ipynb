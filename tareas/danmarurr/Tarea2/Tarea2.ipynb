{
 "cells": [
  {
   "cell_type": "markdown",
   "metadata": {},
   "source": [
    "# Tarea 2\n",
    "\n",
    "* Sofía Cruz T. (**@cutsof**)\n",
    "* Daniel Martínez U. (**@danmarurr**)"
   ]
  },
  {
   "cell_type": "markdown",
   "metadata": {},
   "source": [
    "**Envío del PR inicial:** lunes 5 de septiembre\n",
    "\n",
    "**Aceptación del PR:** lunes 19 de septiembre"
   ]
  },
  {
   "cell_type": "markdown",
   "metadata": {
    "collapsed": true
   },
   "source": [
    "**NOTA** El máximo número de colaboradores es 2, cuyos nombres deben ser incluidos con claridad a la hora de hacer el PR, por ejemplo, mandándo copia a los coautores. Si usan ideas de cualquier fuente, favor de incluir la referencia apropiada. (En otras palabras, sí está permitido usar otras fuentes, pero incluyan las referencias.)"
   ]
  },
  {
   "cell_type": "markdown",
   "metadata": {},
   "source": [
    "---"
   ]
  },
  {
   "cell_type": "markdown",
   "metadata": {},
   "source": [
    "1) Consideren la función\n",
    "\n",
    "\\begin{equation}\n",
    "z_{n+1} = z_n^2 + c, \n",
    "\\end{equation}\n",
    "\n",
    "con `c = 0.12256484161600012 - 0.74486407104im`. Definan una malla de valores iniciales $z_0$ en el intervalo $[-1,1]\\times [-1,1]$ (parte real $\\times$ parte imaginaria).\n",
    "\n",
    "- ¿Cuantos valores finitos distintos (en el intervalo $[-1,1]\\times [-1,1]$) se pueden obtener después de un gran número de iteraciones?\n",
    "\n",
    "- Usando un color distinto para cada uno, grafiquen en el plano $\\textrm{Re}(z) - \\textrm{Im}(z)$ el conjunto obtenido."
   ]
  },
  {
   "cell_type": "markdown",
   "metadata": {},
   "source": [
    "# Problema 1\n",
    "\n",
    "Para resolver este problema implementaremos tres funciones: `mapeo1` para calcular el mapeo, `crea_malla` para crear la malla en $[-1,1]\\times[-1,1]$ y finalmente `conteo1` para contar los valores finitos distintos."
   ]
  },
  {
   "cell_type": "code",
   "execution_count": 19,
   "metadata": {
    "collapsed": false
   },
   "outputs": [],
   "source": [
    "using PyPlot"
   ]
  },
  {
   "cell_type": "code",
   "execution_count": 20,
   "metadata": {
    "collapsed": false
   },
   "outputs": [
    {
     "data": {
      "text/plain": [
       "0.6623614490371831 - 0.5622791544727911im"
      ]
     },
     "execution_count": 20,
     "metadata": {},
     "output_type": "execute_result"
    }
   ],
   "source": [
    "sqrt(0.12256484161600012 - 0.74486407104im)"
   ]
  },
  {
   "cell_type": "code",
   "execution_count": 21,
   "metadata": {
    "collapsed": false
   },
   "outputs": [
    {
     "ename": "LoadError",
     "evalue": "LoadError: UndefVarError: f not defined\nwhile loading In[21], in expression starting on line 1",
     "output_type": "error",
     "traceback": [
      "LoadError: UndefVarError: f not defined\nwhile loading In[21], in expression starting on line 1",
      ""
     ]
    }
   ],
   "source": [
    "f(0.0 + 0*im)"
   ]
  },
  {
   "cell_type": "code",
   "execution_count": 22,
   "metadata": {
    "collapsed": false
   },
   "outputs": [
    {
     "data": {
      "text/plain": [
       "problema1 (generic function with 5 methods)"
      ]
     },
     "execution_count": 22,
     "metadata": {},
     "output_type": "execute_result"
    }
   ],
   "source": [
    "\"\"\"\n",
    "`mapeo1` calcula el término `n` de la función z_{n+1} = z_n^2 + c, donde \n",
    "c = 0.12256484161600012 - 0.74486407104im y `z0` es un valor definido por el usuario.\n",
    "\"\"\"\n",
    "function mapeo1(n::Int64, z0)\n",
    "    @assert n≥1 \"n tiene que ser mayor o igual a 0\"\n",
    "    c = complex(0.12256484161600012,-0.74486407104)\n",
    "   \n",
    "    for j in 1:n\n",
    "        z0 = copy(z0)^2 - c\n",
    "    end\n",
    "    return z0\n",
    "end\n",
    "\n",
    "\"\"\"\n",
    "`crea_malla` crea una malla en `domRe`x`domIm` usando separaciones Δx = Δ[1] y Δy = Δ[2]. Se regresa una matriz \n",
    "con entradas del tipo `Complex{Float64}` con dicha malla.\n",
    "\n",
    "***Notas:***\n",
    "\n",
    "- El valor predeterminado para Δ es [0.025, 0.025].\n",
    "\n",
    "- `domRe` y `domIm` deben ser arreglos de `Float64` con la siguiente información:\n",
    "\n",
    "`domRe` = [`x_min`, `x_max`], `domIm` = [`y_min`, `y_max`]\n",
    "\"\"\"\n",
    "function crea_malla(domRe::Array{Float64}, domIm::Array{Float64}, Δ = [0.0025, 0.0025])\n",
    "    @assert length(domRe) == 2 && length(domIm) == 2 && length(Δ) == 2 \"Uno o varios de los argumentos tienen información faltante o sobrante\"\n",
    "    @assert Δ[1] > 0 && Δ[2]> 0 \"El valor de separación debe ser positivo\"\n",
    "    @assert Δ[1] < abs(domRe[1] - domRe[2]) && Δ[2] < abs(domIm[1] - domIm[2]) \"El valor de separación debe ser menor al tamaño de los intervalos\"\n",
    "    δx = collect(domRe[1]:Δ[1]:domRe[2])\n",
    "    δy = collect(domIm[1]:Δ[2]:domIm[2])\n",
    "    n = length(δx)\n",
    "    m = length(δy)\n",
    "    malla = zeros(Complex{Float64}, n, m)\n",
    "    #Llenamos la malla\n",
    "    for j in 1:m\n",
    "        for i in 1:n\n",
    "            malla[i, j] = δx[j] + im*δy[m + 1 - i]\n",
    "        end\n",
    "    end\n",
    "    return malla\n",
    "end\n",
    "\n",
    "\"\"\"\n",
    "`complexmap` mapea la función compleja `f` en la malla de números complejos `malla`\n",
    "\"\"\"\n",
    "function complexmap(f::Function, malla::Array{Complex{Float64},2})\n",
    "    fz = zeros(malla)\n",
    "    for j in 1:length(malla)\n",
    "        fz[j] = f(malla[j])\n",
    "    end\n",
    "    return fz\n",
    "end\n",
    "\n",
    "\"\"\"\n",
    "`problema1` realiza el mapeo de la función considerada en el problema 1 en el dominio considerado (por defecto), usando\n",
    "`n` iteraciones.\n",
    "\"\"\"\n",
    "function problema1(n::Int, domRe = [-1.0,1.0], domIm = [-1.0,1.0], Δ = [0.0025, 0.0025], f = mapeo1)\n",
    "    @assert n ≥ 0 \"n debe ser mayor o igual a 0\"\n",
    "    @assert length(domRe) == 2 && length(domIm) == 2 && length(Δ) == 2 \"Uno o varios de los argumentos tienen información faltante o sobrante\"\n",
    "    @assert Δ[1] > 0 && Δ[2]> 0 \"El valor de separación debe ser positivo\"\n",
    "    @assert Δ[1] < abs(domRe[1] - domRe[2]) && Δ[2] < abs(domIm[1] - domIm[2]) \"El valor de separación debe ser menor al tamaño de los intervalos\"\n",
    "    malla1 = crea_malla(domRe, domIm, Δ)\n",
    "    f(x) = mapeo1(n, x)\n",
    "    fm = complexmap(f, malla1)\n",
    "    \n",
    "    zm1 = zeros(fm)\n",
    "    for j in 1:length(fm)\n",
    "        if abs(fm[j].re) < 1 && abs(fm[j].im) < 1\n",
    "            zm1[j] = fm[j]\n",
    "        end\n",
    "    end\n",
    "    return zm1\n",
    "end"
   ]
  },
  {
   "cell_type": "code",
   "execution_count": 23,
   "metadata": {
    "collapsed": false
   },
   "outputs": [],
   "source": [
    "ab = problema1(1000);"
   ]
  },
  {
   "cell_type": "code",
   "execution_count": 24,
   "metadata": {
    "collapsed": false
   },
   "outputs": [
    {
     "ename": "LoadError",
     "evalue": "LoadError: PyError (:PyObject_Call) <type 'exceptions.UnicodeDecodeError'>\nUnicodeDecodeError('ascii', 'Parte imaginaria de iteraci\\xc3\\xb3n $n=1000$', 27, 28, 'ordinal not in range(128)')\n  File \"/home/sof9409/anaconda/lib/python2.7/site-packages/matplotlib/pyplot.py\", line 1349, in title\n    l =  gca().set_title(s, *args, **kwargs)\n  File \"/home/sof9409/anaconda/lib/python2.7/site-packages/matplotlib/axes/_axes.py\", line 142, in set_title\n    title.set_text(label)\n  File \"/home/sof9409/anaconda/lib/python2.7/site-packages/matplotlib/text.py\", line 1028, in set_text\n    self._text = '%s' % (s,)\n\nwhile loading In[24], in expression starting on line 6",
     "output_type": "error",
     "traceback": [
      "LoadError: PyError (:PyObject_Call) <type 'exceptions.UnicodeDecodeError'>\nUnicodeDecodeError('ascii', 'Parte imaginaria de iteraci\\xc3\\xb3n $n=1000$', 27, 28, 'ordinal not in range(128)')\n  File \"/home/sof9409/anaconda/lib/python2.7/site-packages/matplotlib/pyplot.py\", line 1349, in title\n    l =  gca().set_title(s, *args, **kwargs)\n  File \"/home/sof9409/anaconda/lib/python2.7/site-packages/matplotlib/axes/_axes.py\", line 142, in set_title\n    title.set_text(label)\n  File \"/home/sof9409/anaconda/lib/python2.7/site-packages/matplotlib/text.py\", line 1028, in set_text\n    self._text = '%s' % (s,)\n\nwhile loading In[24], in expression starting on line 6",
      "",
      " in getindex at /home/sof9409/.julia/v0.4/PyCall/src/PyCall.jl:240",
      " in pysequence_query at /home/sof9409/.julia/v0.4/PyCall/src/conversions.jl:781",
      " [inlined code] from /home/sof9409/.julia/v0.4/PyCall/src/conversions.jl:797",
      " in pytype_query at /home/sof9409/.julia/v0.4/PyCall/src/conversions.jl:826",
      " in convert at /home/sof9409/.julia/v0.4/PyCall/src/conversions.jl:846",
      " in pycall at /home/sof9409/.julia/v0.4/PyCall/src/PyCall.jl:399",
      " in call at /home/sof9409/.julia/v0.4/PyCall/src/PyCall.jl:407",
      " in close_queued_figs at /home/sof9409/.julia/v0.4/PyPlot/src/PyPlot.jl:401"
     ]
    }
   ],
   "source": [
    "imshow(imag(ab),cmap = \"Blues\", extent =[-1.0, 1.0, -1.0, 1.0],aspect=\"auto\")\n",
    "\n",
    "xlabel(L\"\\Re(z)\")\n",
    "ylabel(L\"\\Im(z)\")\n",
    "colorbar()\n",
    "title(L\"Parte imaginaria de iteración $n=1000$\")"
   ]
  },
  {
   "cell_type": "code",
   "execution_count": 11,
   "metadata": {
    "collapsed": false
   },
   "outputs": [
    {
     "ename": "LoadError",
     "evalue": "LoadError: PyError (:PyObject_Call) <type 'exceptions.UnicodeDecodeError'>\nUnicodeDecodeError('ascii', 'Parte real de iteraci\\xc3\\xb3n $n=1000$', 21, 22, 'ordinal not in range(128)')\n  File \"/home/sof9409/anaconda/lib/python2.7/site-packages/matplotlib/pyplot.py\", line 1349, in title\n    l =  gca().set_title(s, *args, **kwargs)\n  File \"/home/sof9409/anaconda/lib/python2.7/site-packages/matplotlib/axes/_axes.py\", line 142, in set_title\n    title.set_text(label)\n  File \"/home/sof9409/anaconda/lib/python2.7/site-packages/matplotlib/text.py\", line 1028, in set_text\n    self._text = '%s' % (s,)\n\nwhile loading In[11], in expression starting on line 6",
     "output_type": "error",
     "traceback": [
      "LoadError: PyError (:PyObject_Call) <type 'exceptions.UnicodeDecodeError'>\nUnicodeDecodeError('ascii', 'Parte real de iteraci\\xc3\\xb3n $n=1000$', 21, 22, 'ordinal not in range(128)')\n  File \"/home/sof9409/anaconda/lib/python2.7/site-packages/matplotlib/pyplot.py\", line 1349, in title\n    l =  gca().set_title(s, *args, **kwargs)\n  File \"/home/sof9409/anaconda/lib/python2.7/site-packages/matplotlib/axes/_axes.py\", line 142, in set_title\n    title.set_text(label)\n  File \"/home/sof9409/anaconda/lib/python2.7/site-packages/matplotlib/text.py\", line 1028, in set_text\n    self._text = '%s' % (s,)\n\nwhile loading In[11], in expression starting on line 6",
      "",
      " in getindex at /home/sof9409/.julia/v0.4/PyCall/src/PyCall.jl:240",
      " in pysequence_query at /home/sof9409/.julia/v0.4/PyCall/src/conversions.jl:781",
      " [inlined code] from /home/sof9409/.julia/v0.4/PyCall/src/conversions.jl:797",
      " in pytype_query at /home/sof9409/.julia/v0.4/PyCall/src/conversions.jl:826",
      " in convert at /home/sof9409/.julia/v0.4/PyCall/src/conversions.jl:846",
      " in pycall at /home/sof9409/.julia/v0.4/PyCall/src/PyCall.jl:399",
      " in call at /home/sof9409/.julia/v0.4/PyCall/src/PyCall.jl:407",
      " in close_queued_figs at /home/sof9409/.julia/v0.4/PyPlot/src/PyPlot.jl:401"
     ]
    }
   ],
   "source": [
    "imshow(real(ab),cmap = \"Blues\", extent =[-1.0, 1.0, -1.0, 1.0],aspect=\"auto\")\n",
    "\n",
    "xlabel(L\"\\Re(z)\")\n",
    "ylabel(L\"\\Im(z)\")\n",
    "colorbar()\n",
    "title(L\"Parte real de iteración $n=1000$\")"
   ]
  },
  {
   "cell_type": "code",
   "execution_count": 12,
   "metadata": {
    "collapsed": false
   },
   "outputs": [
    {
     "data": {
      "text/plain": [
       "0.7000000000000002"
      ]
     },
     "execution_count": 12,
     "metadata": {},
     "output_type": "execute_result"
    }
   ],
   "source": [
    "mod(2.7,1)"
   ]
  },
  {
   "cell_type": "code",
   "execution_count": 13,
   "metadata": {
    "collapsed": false
   },
   "outputs": [
    {
     "ename": "LoadError",
     "evalue": "LoadError: UndefVarError: zm1 not defined\nwhile loading In[13], in expression starting on line 1",
     "output_type": "error",
     "traceback": [
      "LoadError: UndefVarError: zm1 not defined\nwhile loading In[13], in expression starting on line 1",
      ""
     ]
    }
   ],
   "source": [
    "length(zm1)"
   ]
  },
  {
   "cell_type": "markdown",
   "metadata": {},
   "source": [
    "2) Usando la función `compute_roots` vista en clase, o en alguna variación propuesta por ustedes, definan (en Julia) el mapeo\n",
    "\n",
    "\\begin{equation}\n",
    "x_{n+1} = B(x_{n}) = 2x_n \\mod 1.\n",
    "\\end{equation}\n",
    "\n",
    "- Obtengas los puntos fijos de este mapeo numéricamente. Los puntos fijos del mapeo son aquéllos que se mapean en si mismos, es decir, $x_{n} = B(x_{x_n})$. Este cálculo se puede hacer a mano, lo que debe usarse para comprobar que la implementación numérica funciona bien.\n",
    "\n",
    "- Pensando en que la estabilidad de un punto fijo es el comportamiento que se observa de los iterados (a priori un número infinito) al considerar pequeñas desviaciones del punto fijo, ¿cuál es la estabilidad de los puntos fijos que se obtiene *numéricamente*, digamos, después de 100 iteraciones? ¿Pueden encontrar una explicación analítica de la observación numérica?\n",
    "\n",
    "*Hint: Sean imaginos y no se conformen*"
   ]
  },
  {
   "cell_type": "code",
   "execution_count": 160,
   "metadata": {
    "collapsed": true
   },
   "outputs": [],
   "source": [
    "workspace()"
   ]
  },
  {
   "cell_type": "markdown",
   "metadata": {},
   "source": [
    "Definimos un tipo que nos va a mostrar el nuestra semilla x_0 , al lado del valor al que llegó después de la iteración"
   ]
  },
  {
   "cell_type": "code",
   "execution_count": 161,
   "metadata": {
    "collapsed": false
   },
   "outputs": [],
   "source": [
    "type Binter{T<:Real} <: Real\n",
    "    seed :: T\n",
    "    iter :: T\n",
    "end"
   ]
  },
  {
   "cell_type": "code",
   "execution_count": 162,
   "metadata": {
    "collapsed": false
   },
   "outputs": [
    {
     "data": {
      "text/plain": [
       "iteracion (generic function with 1 method)"
      ]
     },
     "execution_count": 162,
     "metadata": {},
     "output_type": "execute_result"
    }
   ],
   "source": [
    "\"\"\"\n",
    "`iteracion` calcula el término `n` de la función x_{n+1} = B(x_{n}) = 2x_n \\mod 1, donde \n",
    "se comienza co un x_0 como valor definido por el usuario. \n",
    "\"\"\"\n",
    "\n",
    "function iteracion(n::Int, x::Binter)\n",
    "     k = x.seed\n",
    "    for j in 1:n\n",
    "        k = mod(2k,1)\n",
    "    end\n",
    "    return Binter(x.seed,k)\n",
    "end"
   ]
  },
  {
   "cell_type": "code",
   "execution_count": 168,
   "metadata": {
    "collapsed": false
   },
   "outputs": [
    {
     "data": {
      "text/plain": [
       "mapeo2 (generic function with 1 method)"
      ]
     },
     "execution_count": 168,
     "metadata": {},
     "output_type": "execute_result"
    }
   ],
   "source": [
    "\"\"\"\n",
    "`mapeo2` calcula `iteracion` en un rango. El rango decide el tipo de las componentes de Binter.\n",
    "\"\"\"\n",
    "\n",
    "function mapeo2(start,intervalo,final)\n",
    "    y=Binter[iteracion(100, Binter(start,start))]\n",
    "    for i in start+intervalo:intervalo:final\n",
    "        push!(y,iteracion(100, Binter(i,i))) \n",
    "    end\n",
    "    return y\n",
    "end"
   ]
  },
  {
   "cell_type": "markdown",
   "metadata": {},
   "source": [
    "Encontramos que cualquier irracional pega a cero porque Float64 arrastra errores"
   ]
  },
  {
   "cell_type": "code",
   "execution_count": 173,
   "metadata": {
    "collapsed": false
   },
   "outputs": [
    {
     "data": {
      "text/plain": [
       "1000-element Array{Binter{T<:Real},1}:\n",
       " Binter{Float64}(0.0,0.0)                 \n",
       " Binter{Float64}(0.031415926535897934,0.0)\n",
       " Binter{Float64}(0.06283185307179587,0.0) \n",
       " Binter{Float64}(0.0942477796076938,0.0)  \n",
       " Binter{Float64}(0.12566370614359174,0.0) \n",
       " Binter{Float64}(0.15707963267948966,0.0) \n",
       " Binter{Float64}(0.18849555921538758,0.0) \n",
       " Binter{Float64}(0.21991148575128555,0.0) \n",
       " Binter{Float64}(0.25132741228718347,0.0) \n",
       " Binter{Float64}(0.2827433388230814,0.0)  \n",
       " Binter{Float64}(0.3141592653589793,0.0)  \n",
       " Binter{Float64}(0.34557519189487723,0.0) \n",
       " Binter{Float64}(0.3769911184307752,0.0)  \n",
       "    ⋮                                     \n",
       " Binter{Float64}(31.03893541746716,0.0)   \n",
       " Binter{Float64}(31.070351344003058,0.0)  \n",
       " Binter{Float64}(31.101767270538957,0.0)  \n",
       " Binter{Float64}(31.133183197074853,0.0)  \n",
       " Binter{Float64}(31.164599123610753,0.0)  \n",
       " Binter{Float64}(31.19601505014665,0.0)   \n",
       " Binter{Float64}(31.227430976682548,0.0)  \n",
       " Binter{Float64}(31.258846903218444,0.0)  \n",
       " Binter{Float64}(31.290262829754344,0.0)  \n",
       " Binter{Float64}(31.321678756290243,0.0)  \n",
       " Binter{Float64}(31.35309468282614,0.0)   \n",
       " Binter{Float64}(31.38451060936204,0.0)   "
      ]
     },
     "execution_count": 173,
     "metadata": {},
     "output_type": "execute_result"
    }
   ],
   "source": [
    "mapeo2(0.0,π/100,10*π)"
   ]
  },
  {
   "cell_type": "markdown",
   "metadata": {},
   "source": [
    "En cambio si trabajamos con racionales encontramos que podemos observar la periodicidad que todos tienene , excepto aquellos de la forma $\\frac{1}{2^n}$"
   ]
  },
  {
   "cell_type": "code",
   "execution_count": 180,
   "metadata": {
    "collapsed": false
   },
   "outputs": [
    {
     "data": {
      "text/plain": [
       "64-element Array{Binter{T<:Real},1}:\n",
       " Binter{Rational{Int64}}(0//1,0//1)    \n",
       " Binter{Rational{Int64}}(1//63,16//63) \n",
       " Binter{Rational{Int64}}(2//63,32//63) \n",
       " Binter{Rational{Int64}}(1//21,16//21) \n",
       " Binter{Rational{Int64}}(4//63,1//63)  \n",
       " Binter{Rational{Int64}}(5//63,17//63) \n",
       " Binter{Rational{Int64}}(2//21,11//21) \n",
       " Binter{Rational{Int64}}(1//9,7//9)    \n",
       " Binter{Rational{Int64}}(8//63,2//63)  \n",
       " Binter{Rational{Int64}}(1//7,2//7)    \n",
       " Binter{Rational{Int64}}(10//63,34//63)\n",
       " Binter{Rational{Int64}}(11//63,50//63)\n",
       " Binter{Rational{Int64}}(4//21,1//21)  \n",
       "    ⋮                                  \n",
       " Binter{Rational{Int64}}(52//63,13//63)\n",
       " Binter{Rational{Int64}}(53//63,29//63)\n",
       " Binter{Rational{Int64}}(6//7,5//7)    \n",
       " Binter{Rational{Int64}}(55//63,61//63)\n",
       " Binter{Rational{Int64}}(8//9,2//9)    \n",
       " Binter{Rational{Int64}}(19//21,10//21)\n",
       " Binter{Rational{Int64}}(58//63,46//63)\n",
       " Binter{Rational{Int64}}(59//63,62//63)\n",
       " Binter{Rational{Int64}}(20//21,5//21) \n",
       " Binter{Rational{Int64}}(61//63,31//63)\n",
       " Binter{Rational{Int64}}(62//63,47//63)\n",
       " Binter{Rational{Int64}}(1//1,0//1)    "
      ]
     },
     "execution_count": 180,
     "metadata": {},
     "output_type": "execute_result"
    }
   ],
   "source": [
    "mapeo2(0//1,1//(2^6-1),1//1)"
   ]
  },
  {
   "cell_type": "code",
   "execution_count": 179,
   "metadata": {
    "collapsed": false
   },
   "outputs": [
    {
     "data": {
      "text/plain": [
       "65-element Array{Binter{T<:Real},1}:\n",
       " Binter{Rational{Int64}}(0//1,0//1)  \n",
       " Binter{Rational{Int64}}(1//64,0//1) \n",
       " Binter{Rational{Int64}}(1//32,0//1) \n",
       " Binter{Rational{Int64}}(3//64,0//1) \n",
       " Binter{Rational{Int64}}(1//16,0//1) \n",
       " Binter{Rational{Int64}}(5//64,0//1) \n",
       " Binter{Rational{Int64}}(3//32,0//1) \n",
       " Binter{Rational{Int64}}(7//64,0//1) \n",
       " Binter{Rational{Int64}}(1//8,0//1)  \n",
       " Binter{Rational{Int64}}(9//64,0//1) \n",
       " Binter{Rational{Int64}}(5//32,0//1) \n",
       " Binter{Rational{Int64}}(11//64,0//1)\n",
       " Binter{Rational{Int64}}(3//16,0//1) \n",
       "    ⋮                                \n",
       " Binter{Rational{Int64}}(53//64,0//1)\n",
       " Binter{Rational{Int64}}(27//32,0//1)\n",
       " Binter{Rational{Int64}}(55//64,0//1)\n",
       " Binter{Rational{Int64}}(7//8,0//1)  \n",
       " Binter{Rational{Int64}}(57//64,0//1)\n",
       " Binter{Rational{Int64}}(29//32,0//1)\n",
       " Binter{Rational{Int64}}(59//64,0//1)\n",
       " Binter{Rational{Int64}}(15//16,0//1)\n",
       " Binter{Rational{Int64}}(61//64,0//1)\n",
       " Binter{Rational{Int64}}(31//32,0//1)\n",
       " Binter{Rational{Int64}}(63//64,0//1)\n",
       " Binter{Rational{Int64}}(1//1,0//1)  "
      ]
     },
     "execution_count": 179,
     "metadata": {},
     "output_type": "execute_result"
    }
   ],
   "source": [
    "mapeo2(0//1,1//(2^6),1//1)"
   ]
  },
  {
   "cell_type": "code",
   "execution_count": 125,
   "metadata": {
    "collapsed": false
   },
   "outputs": [
    {
     "data": {
      "text/plain": [
       "pfijos (generic function with 2 methods)"
      ]
     },
     "execution_count": 125,
     "metadata": {},
     "output_type": "execute_result"
    }
   ],
   "source": [
    "function pfijos(f, dom = collect(-1:0.025:1))\n",
    "    it = zeros(dom)\n",
    "    for j in 1:length(dom)\n",
    "        it[j] = f(dom[j])\n",
    "    end\n",
    "    return it, abs(it - dom)\n",
    "end"
   ]
  },
  {
   "cell_type": "code",
   "execution_count": 128,
   "metadata": {
    "collapsed": false
   },
   "outputs": [
    {
     "data": {
      "text/plain": [
       "3100-element Array{Rational{Int64},1}:\n",
       "   40//123 \n",
       " 1363//3813\n",
       " 1486//3813\n",
       " 1609//3813\n",
       " 1732//3813\n",
       " 1855//3813\n",
       " 1978//3813\n",
       " 2101//3813\n",
       " 2224//3813\n",
       " 2347//3813\n",
       " 2470//3813\n",
       " 2593//3813\n",
       " 2716//3813\n",
       "     ⋮     \n",
       " 3577//3813\n",
       " 3700//3813\n",
       "   10//3813\n",
       "  133//3813\n",
       "  256//3813\n",
       "  379//3813\n",
       "  502//3813\n",
       "  625//3813\n",
       "  748//3813\n",
       "  871//3813\n",
       "  994//3813\n",
       " 1117//3813"
      ]
     },
     "execution_count": 128,
     "metadata": {},
     "output_type": "execute_result"
    }
   ],
   "source": [
    "y = [h(k)for k in 1//123:1//(2^5-1):100//1]"
   ]
  },
  {
   "cell_type": "code",
   "execution_count": 103,
   "metadata": {
    "collapsed": false
   },
   "outputs": [
    {
     "data": {
      "text/plain": [
       "0.0"
      ]
     },
     "execution_count": 103,
     "metadata": {},
     "output_type": "execute_result"
    }
   ],
   "source": [
    "mapeo2(100,1.0)"
   ]
  },
  {
   "cell_type": "code",
   "execution_count": 31,
   "metadata": {
    "collapsed": false
   },
   "outputs": [
    {
     "name": "stdout",
     "output_type": "stream",
     "text": [
      "search: "
     ]
    },
    {
     "data": {
      "text/latex": [
       "No documentation found.\n",
       "\\texttt{mapeo2} is a generic \\texttt{Function}.\n",
       "\\begin{verbatim}\n",
       "# 1 method for generic function \"mapeo2\":\n",
       "mapeo2(n::Int64, x::Float64) at In[27]:2\n",
       "\\end{verbatim}\n"
      ],
      "text/markdown": [
       "No documentation found.\n",
       "\n",
       "`mapeo2` is a generic `Function`.\n",
       "\n",
       "```julia\n",
       "# 1 method for generic function \"mapeo2\":\n",
       "mapeo2(n::Int64, x::Float64) at In[27]:2\n",
       "```\n"
      ],
      "text/plain": [
       "No documentation found.\n",
       "\n",
       "`mapeo2` is a generic `Function`.\n",
       "\n",
       "```julia\n",
       "# 1 method for generic function \"mapeo2\":\n",
       "mapeo2(n::Int64, x::Float64) at In[27]:2\n",
       "```\n"
      ]
     },
     "execution_count": 31,
     "metadata": {},
     "output_type": "execute_result"
    },
    {
     "name": "stdout",
     "output_type": "stream",
     "text": [
      "mapeo2 mapeo1\n",
      "\n"
     ]
    }
   ],
   "source": [
    "?mapeo2"
   ]
  },
  {
   "cell_type": "code",
   "execution_count": null,
   "metadata": {
    "collapsed": true
   },
   "outputs": [],
   "source": []
  }
 ],
 "metadata": {
  "kernelspec": {
   "display_name": "Julia 0.4.0",
   "language": "julia",
   "name": "julia-0.4"
  },
  "language_info": {
   "file_extension": ".jl",
   "mimetype": "application/julia",
   "name": "julia",
   "version": "0.4.0"
  }
 },
 "nbformat": 4,
 "nbformat_minor": 0
}
