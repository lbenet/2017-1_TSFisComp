{
 "cells": [
  {
   "cell_type": "markdown",
   "metadata": {},
   "source": [
    "# Tarea 2"
   ]
  },
  {
   "cell_type": "markdown",
   "metadata": {},
   "source": [
    "**Envío del PR inicial:** lunes 5 de septiembre\n",
    "\n",
    "**Aceptación del PR:** lunes 19 de septiembre"
   ]
  },
  {
   "cell_type": "markdown",
   "metadata": {
    "collapsed": true
   },
   "source": [
    "**NOTA** El máximo número de colaboradores es 2, cuyos nombres deben ser incluidos con claridad a la hora de hacer el PR, por ejemplo, mandándo copia a los coautores. Si usan ideas de cualquier fuente, favor de incluir la referencia apropiada. (En otras palabras, sí está permitido usar otras fuentes, pero incluyan las referencias.)"
   ]
  },
  {
   "cell_type": "markdown",
   "metadata": {},
   "source": [
    "---"
   ]
  },
  {
   "cell_type": "markdown",
   "metadata": {},
   "source": [
    "1) Consideren la función\n",
    "\n",
    "\\begin{equation}\n",
    "z_{n+1} = z_n^2 + c, \n",
    "\\end{equation}\n",
    "\n",
    "con `c = 0.12256484161600012 - 0.74486407104im`. Definan una malla de valores iniciales $z_0$ en el intervalo $[-1,1]\\times [-1,1]$ (parte real $\\times$ parte imaginaria).\n",
    "\n",
    "- ¿Cuantos valores finitos distintos (en el intervalo $[-1,1]\\times [-1,1]$) se pueden obtener después de un gran número de iteraciones?\n",
    "\n",
    "- Usando un color distinto para cada uno, grafiquen en el plano $\\textrm{Re}(z) - \\textrm{Im}(z)$ el conjunto obtenido."
   ]
  },
  {
   "cell_type": "markdown",
   "metadata": {},
   "source": [
    "# Problema 1\n",
    "\n",
    "Para resolver este problema implementaremos tres funciones: `mapeo1` para calcular el mapeo, `crea_malla` para crear la malla en $[-1,1]\\times[-1,1]$ y finalmente `conteo1` para contar los valores finitos distintos."
   ]
  },
  {
   "cell_type": "code",
   "execution_count": 37,
   "metadata": {
    "collapsed": false
   },
   "outputs": [
    {
     "data": {
      "text/plain": [
       "f (generic function with 1 method)"
      ]
     },
     "execution_count": 37,
     "metadata": {},
     "output_type": "execute_result"
    }
   ],
   "source": [
    "f(z) = mapeo1(1000, z)"
   ]
  },
  {
   "cell_type": "code",
   "execution_count": 43,
   "metadata": {
    "collapsed": false
   },
   "outputs": [
    {
     "data": {
      "text/plain": [
       "NaN + NaN*im"
      ]
     },
     "execution_count": 43,
     "metadata": {},
     "output_type": "execute_result"
    }
   ],
   "source": [
    "f(0.0 + 0*im)"
   ]
  },
  {
   "cell_type": "code",
   "execution_count": 49,
   "metadata": {
    "collapsed": false
   },
   "outputs": [
    {
     "data": {
      "text/plain": [
       "problema1 (generic function with 5 methods)"
      ]
     },
     "execution_count": 49,
     "metadata": {},
     "output_type": "execute_result"
    }
   ],
   "source": [
    "\"\"\"\n",
    "`mapeo1` calcula el término `n` de la función z_{n+1} = z_n^2 + c, donde \n",
    "c = 0.12256484161600012 - 0.74486407104im y `z0` es un valor definido por el usuario.\n",
    "\"\"\"\n",
    "function mapeo1(n::Int64, z0::Complex{Float64})\n",
    "    @assert n≥0 \"n tiene que ser mayor o igual a 0\"\n",
    "    c = 0.12256484161600012 - 0.74486407104im\n",
    "    if n == 0\n",
    "        z_new = z0\n",
    "    else\n",
    "        z_new = (mapeo1(n - 1, z0))^2 + c #El cálculo se realiza mediante el uso de recursividad\n",
    "    end\n",
    "    return z_new\n",
    "end\n",
    "\n",
    "\"\"\"\n",
    "`crea_malla` crea una malla en `domRe`x`domIm` usando separaciones Δx = Δ[1] y Δy = Δ[2]. Se regresa una matriz \n",
    "con entradas del tipo `Complex{Float64}` con dicha malla.\n",
    "\n",
    "***Notas:***\n",
    "\n",
    "- El valor predeterminado para Δ es [0.025, 0.025].\n",
    "\n",
    "- `domRe` y `domIm` deben ser arreglos de `Float64` con la siguiente información:\n",
    "\n",
    "`domRe` = [`x_min`, `x_max`], `domIm` = [`y_min`, `y_max`]\n",
    "\"\"\"\n",
    "function crea_malla(domRe::Array{Float64}, domIm::Array{Float64}, Δ = [0.0025, 0.0025])\n",
    "    @assert length(domRe) == 2 && length(domIm) == 2 && length(Δ) == 2 \"Uno o varios de los argumentos tienen información faltante o sobrante\"\n",
    "    @assert Δ[1] > 0 && Δ[2]> 0 \"El valor de separación debe ser positivo\"\n",
    "    @assert Δ[1] < abs(domRe[1] - domRe[2]) && Δ[2] < abs(domIm[1] - domIm[2]) \"El valor de separación debe ser menor al tamaño de los intervalos\"\n",
    "    δx = collect(domRe[1]:Δ[1]:domRe[2])\n",
    "    δy = collect(domIm[1]:Δ[2]:domIm[2])\n",
    "    n = length(δx)\n",
    "    m = length(δy)\n",
    "    malla = zeros(Complex{Float64}, n, m)\n",
    "    #Llenamos la malla\n",
    "    for j in 1:m\n",
    "        for i in 1:n\n",
    "            malla[i, j] = δx[j] + im*δy[m + 1 - i]\n",
    "        end\n",
    "    end\n",
    "    return malla\n",
    "end\n",
    "\n",
    "\"\"\"\n",
    "`complexmap` mapea la función compleja `f` en la malla de números complejos `malla`\n",
    "\"\"\"\n",
    "function complexmap(f::Function, malla::Array{Complex{Float64},2})\n",
    "    fz = zeros(malla)\n",
    "    for j in 1:length(malla)\n",
    "        fz[j] = f(malla[j])\n",
    "    end\n",
    "    return fz\n",
    "end\n",
    "\n",
    "\"\"\"\n",
    "`problema1` realiza el mapeo de la función considerada en el problema 1 en el dominio considerado (por defecto), usando\n",
    "`n` iteraciones.\n",
    "\"\"\"\n",
    "function problema1(n::Int, domRe = [-1.0,1.0], domIm = [-1.0,1.0], Δ = [0.0025, 0.0025], f = mapeo1)\n",
    "    @assert n ≥ 0 \"n debe ser mayor o igual a 0\"\n",
    "    @assert length(domRe) == 2 && length(domIm) == 2 && length(Δ) == 2 \"Uno o varios de los argumentos tienen información faltante o sobrante\"\n",
    "    @assert Δ[1] > 0 && Δ[2]> 0 \"El valor de separación debe ser positivo\"\n",
    "    @assert Δ[1] < abs(domRe[1] - domRe[2]) && Δ[2] < abs(domIm[1] - domIm[2]) \"El valor de separación debe ser menor al tamaño de los intervalos\"\n",
    "    \n",
    "    malla1 = crea_malla(domRe, domIm, Δ)\n",
    "    \n",
    "    fm = complexmap(x -> mapeo1(n, x), malla1)\n",
    "    return fm\n",
    "end"
   ]
  },
  {
   "cell_type": "code",
   "execution_count": 71,
   "metadata": {
    "collapsed": false
   },
   "outputs": [],
   "source": [
    "iteracion1 = problema1(10);"
   ]
  },
  {
   "cell_type": "code",
   "execution_count": 72,
   "metadata": {
    "collapsed": false
   },
   "outputs": [
    {
     "name": "stdout",
     "output_type": "stream",
     "text": [
      "Hallé algo\n"
     ]
    },
    {
     "data": {
      "text/plain": [
       "1"
      ]
     },
     "execution_count": 72,
     "metadata": {},
     "output_type": "execute_result"
    }
   ],
   "source": [
    "nfin = 0\n",
    "for j in 1:length(iteracion1)\n",
    "    if isnan(iteracion1[j]) == false\n",
    "        println(\"Hallé algo\")\n",
    "        nfin += 1\n",
    "    end\n",
    "    return nfin\n",
    "end\n",
    "nfin"
   ]
  },
  {
   "cell_type": "markdown",
   "metadata": {},
   "source": [
    "2) Usando la función `compute_roots` vista en clase, o en alguna variación propuesta por ustedes, definan (en Julia) el mapeo\n",
    "\n",
    "\\begin{equation}\n",
    "x_{n+1} = B(x_{n}) = 2x_n \\mod 1.\n",
    "\\end{equation}\n",
    "\n",
    "- Obtengas los puntos fijos de este mapeo numéricamente. Los puntos fijos del mapeo son aquéllos que se mapean en si mismos, es decir, $x_{n} = B(x_{x_n})$. Este cálculo se puede hacer a mano, lo que debe usarse para comprobar que la implementación numérica funciona bien.\n",
    "\n",
    "- Pensando en que la estabilidad de un punto fijo es el comportamiento que se observa de los iterados (a priori un número infinito) al considerar pequeñas desviaciones del punto fijo, ¿cuál es la estabilidad de los puntos fijos que se obtiene *numéricamente*, digamos, después de 100 iteraciones? ¿Pueden encontrar una explicación analítica de la observación numérica?\n",
    "\n",
    "*Hint: Sean imaginos y no se conformen*"
   ]
  },
  {
   "cell_type": "code",
   "execution_count": null,
   "metadata": {
    "collapsed": true
   },
   "outputs": [],
   "source": []
  }
 ],
 "metadata": {
  "kernelspec": {
   "display_name": "Julia 0.4.6",
   "language": "julia",
   "name": "julia-0.4"
  },
  "language_info": {
   "file_extension": ".jl",
   "mimetype": "application/julia",
   "name": "julia",
   "version": "0.4.6"
  }
 },
 "nbformat": 4,
 "nbformat_minor": 0
}
