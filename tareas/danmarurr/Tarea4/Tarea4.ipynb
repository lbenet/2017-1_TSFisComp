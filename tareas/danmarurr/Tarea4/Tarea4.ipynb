{
 "cells": [
  {
   "cell_type": "markdown",
   "metadata": {},
   "source": [
    "# Tarea 4\n",
    "\n",
    "* Sofía Cruz T. (**@cutsof**)\n",
    "* Daniel Martínez U. (**@danmarurr**)"
   ]
  },
  {
   "cell_type": "markdown",
   "metadata": {},
   "source": [
    "**Envío del PR inicial:** lunes 26 de septiembre\n",
    "\n",
    "**Aceptación del PR:** lunes 10 de octubre"
   ]
  },
  {
   "cell_type": "code",
   "execution_count": 8,
   "metadata": {
    "collapsed": false,
    "scrolled": true
   },
   "outputs": [
    {
     "name": "stderr",
     "output_type": "stream",
     "text": [
      "WARNING: replacing module AD\n",
      "WARNING: ignoring conflicting import of AD.Dual into Main\n",
      "WARNING: ignoring conflicting import of AD.xdual into Main\n"
     ]
    }
   ],
   "source": [
    "#Primero: cargamos toda la paquetería que usaremos\n",
    "# Usaremos PyPlot ya que al parecer Julia 0.5 tiene problemas con Plots\n",
    "using PyPlot, LsqFit, Roots,Polynomials\n",
    "include(\"AutomDiff_V2.jl\")\n",
    "import AD: Dual, xdual\n"
   ]
  },
  {
   "cell_type": "markdown",
   "metadata": {},
   "source": [
    "**Ejercicio 0:** Velocidad de convergencia\n",
    "\n",
    "El objetivo de este ejercicio es relacionar, la velocidad de convergencia con que un punto fijo (o una órbita periódica, en el caso de los dos últimos incisos) atraen a puntos suficientemente cercanos, con la derivada del mapeo en el punto fijo (o ciclo periódico). La idea es, entonces, calcular primero el punto fijo y, después, medir cómo la distancia de los iterados sucesivos (de una condición inicial $x_0$) al punto fijo se comporta en el tiempo, para los siguientes mapeos:\n",
    "\n",
    "- $F(x) = x^2+0.25$\n",
    "\n",
    "- $F(x) = 3x(1-x)$\n",
    "\n",
    "- $F(x) = \\exp(x-1)$\n",
    "\n",
    "- $F(x) = x^2 - 1.25$\n",
    "\n",
    "- $F(x) = \\exp(x+1)$\n",
    "\n",
    "  Deberán resolver algunas cosas intermedias. Por ejemplo, ¿qué tanto deben acercarse al punto fijo, a fin de evitar ruido numérico? ¿Qué hay que hacer en el caso en que el punto sea neutral (ni atractivo ni repulsivo)?\n",
    "\n",
    "  En los dos últimos incisos, el interés es en los ciclos de periodo 2."
   ]
  },
  {
   "cell_type": "markdown",
   "metadata": {},
   "source": [
    "### Solución\n",
    "\n",
    "Para cada $F(x)$ encontraremos los puntos fijos correspondientes usando la paquetería `roots`, posteriormente averiguaremos que tanto debemos que tanto debemos acercarnos al punto fijo"
   ]
  },
  {
   "cell_type": "code",
   "execution_count": 22,
   "metadata": {
    "collapsed": false
   },
   "outputs": [
    {
     "name": "stderr",
     "output_type": "stream",
     "text": [
      "WARNING: Method definition F1(Any) in module Main at In[8]:2 overwritten at In[22]:2.\n",
      "WARNING: Method definition F2(Any) in module Main at In[8]:3 overwritten at In[22]:3.\n",
      "WARNING: Method definition F3(Any) in module Main at In[8]:4 overwritten at In[22]:4.\n",
      "WARNING: Method definition F4(Any) in module Main at In[8]:5 overwritten at In[22]:5.\n",
      "WARNING: Method definition F5(Any) in module Main at In[8]:6 overwritten at In[22]:6.\n",
      "WARNING: Method definition puntofijo(Function, Any) in module Main at In[8]:11 overwritten at In[22]:11.\n",
      "WARNING: Method definition newton1D(Function, #T<:Real) in module Main at In[8]:18 overwritten at In[22]:18.\n",
      "WARNING: Method definition newton1D(Function, #T<:Real, Any) in module Main at In[8]:18 overwritten at In[22]:18.\n",
      "WARNING: Method definition quadratic(#T<:Real, #T<:Real, #T<:Real) in module Main at In[8]:40 overwritten at In[22]:40.\n",
      "WARNING: Method definition resuelve_cuad(Any, Any, Any, Any) in module Main at In[8]:47 overwritten at In[22]:47.\n"
     ]
    },
    {
     "data": {
      "text/plain": [
       "resuelve_cuad (generic function with 1 method)"
      ]
     },
     "execution_count": 22,
     "metadata": {},
     "output_type": "execute_result"
    }
   ],
   "source": [
    "#Definimos las funciones que emplearemos\n",
    "F1(x) = x^2 + 0.25\n",
    "F2(x) = 3x*(1 - x)\n",
    "F3(x) = exp(x - 1)\n",
    "F4(x) = x^2 - 0.25\n",
    "F5(x) = exp(x + 1)\n",
    "\n",
    "#Ahora implementareos una función que calcule los puntos fijos de una determinada F(x)\n",
    "\n",
    "function puntofijo(F::Function, ran)\n",
    "    rf = fzero(x -> (F(x) - x) , ran)\n",
    "    return rf\n",
    "end\n",
    "\n",
    "#Implementamos el método de Newton para buscar los ceros\n",
    "\n",
    "function newton1D{T<:Real}(f::Function, adiv::T, tol = 1e-10)\n",
    "    x0 = xdual(adiv)\n",
    "    fx = f(x0)\n",
    "    count = 0\n",
    "    while abs(fx.fun) > tol\n",
    "        count += 1\n",
    "        it = x0.fun - fx.fun/fx.der\n",
    "        x0 = xdual(it)\n",
    "        fx = f(x0)\n",
    "        if count == 1000\n",
    "            break\n",
    "        end\n",
    "    end\n",
    "    return x0.fun\n",
    "end\n",
    "\n",
    "\"\"\"\n",
    "`quadratic(a, b, c)` es una función `type-stable` que resuelve una ecuación de segundo grado con coeficientes \n",
    "reales: donde `a`es el coeficiente cuadrático, `b` el coeficiente lineal y `c` el coeficiente independiente, dado\n",
    "a que el algoritmo emplea la función `sqrt` (que en general devuelve un valor del tipo `Float64` si el argumento de \n",
    "dicha función es un número `Real` se requiere que los argumentos `a`, `b` y `c` sean del tipo `Float64`\n",
    "\"\"\"\n",
    "function quadratic{T<:Real}(a::T, b::T, c::T)\n",
    "    disc = b^2 - 4*a*c #Calculamos el valor del discriminante\n",
    "    @assert a != 0 \"Tu ecuación no es de segundo grado, revisa los argumentos.\", disc < 0 \n",
    "    \"La ecuación tiene soluciones complejas, no es posible resolver la ecuación.\"\n",
    "    resuelve_cuad(a,b,c, disc)\n",
    "end\n",
    "\n",
    "function resuelve_cuad(a, b, c, disc) #El algoritmo para encontrar las raíces\n",
    "    sq = sqrt(disc)\n",
    "    x1 = (-b+sq)/(2a)\n",
    "    x2 = (-b-sq)/(2a)\n",
    "    if x1 == x2\n",
    "        raices = Float64[x1]\n",
    "    else\n",
    "        raices = typeof(x1)[x1,x2]\n",
    "    end\n",
    "    return raices\n",
    "end"
   ]
  },
  {
   "cell_type": "markdown",
   "metadata": {},
   "source": [
    "Para las funciones $F_1$ y $F_2$ podemos calcular los puntos fijos de forma sencilla usando la fórmula general, pues son polinomios de segundo grado:"
   ]
  },
  {
   "cell_type": "code",
   "execution_count": null,
   "metadata": {
    "collapsed": false
   },
   "outputs": [],
   "source": [
    "r1 = quadratic(1.0, -1.0, 0.25)"
   ]
  },
  {
   "cell_type": "code",
   "execution_count": null,
   "metadata": {
    "collapsed": false
   },
   "outputs": [],
   "source": [
    "r2 = quadratic(-3.0, 2.0, 0.0)"
   ]
  },
  {
   "cell_type": "markdown",
   "metadata": {},
   "source": [
    "Para $F_3$ es claro que el único punto fijo es $x_3 = 1$. Ahora, para $F_4$ sabemos que los puntos fijos de orden también lo son de orden 2, entonces de $F4^2(x) -x$, descartaremos las raíces que se obtengan de $F4(x) -x$"
   ]
  },
  {
   "cell_type": "code",
   "execution_count": null,
   "metadata": {
    "collapsed": false
   },
   "outputs": [],
   "source": [
    "#Punto fijo de F3\n",
    "r3 = puntofijo(F3, Float64[-1, 1])"
   ]
  },
  {
   "cell_type": "code",
   "execution_count": null,
   "metadata": {
    "collapsed": false
   },
   "outputs": [],
   "source": [
    "figure(figsize =(5,5))\n",
    "ran1 = -2:1/128:2\n",
    "m1 = map(x -> F4(F4(x)), ran1)\n",
    "plot(ran1, m1)\n",
    "plot(ran1, ran1)\n",
    "\n",
    "show()"
   ]
  },
  {
   "cell_type": "markdown",
   "metadata": {},
   "source": [
    "Pero $F4^2(x) -x$ sólo tiene dos raíces reales (según la gráfica, por lo que las otras dos deben ser complejas), entonces nos quedamos con éstos valores"
   ]
  },
  {
   "cell_type": "code",
   "execution_count": null,
   "metadata": {
    "collapsed": false
   },
   "outputs": [],
   "source": [
    "r4 = quadratic(1.0, -1.0, -0.25)"
   ]
  },
  {
   "cell_type": "code",
   "execution_count": null,
   "metadata": {
    "collapsed": false
   },
   "outputs": [],
   "source": [
    "#Ahora definamos una función que dado un x0 calcule la distancia entre las iteraciones y los puntos fijos\n",
    "function sensibility{T<:Real}(F::Function, x0::T, pfijos::Array{Float64,1}, n = 1000)\n",
    "    ℓ = length(pfijos)\n",
    "    distancia = zeros(Float64, n, ℓ)\n",
    "    for j in 1:ℓ\n",
    "        pf = pfijos[j]\n",
    "        it = copy(x0)\n",
    "        for i in 1:n\n",
    "            it = F(it)\n",
    "            #@show it\n",
    "            distancia[i, j] = abs(it - pf)\n",
    "        end\n",
    "    end\n",
    "    return distancia\n",
    "end\n",
    "    "
   ]
  },
  {
   "cell_type": "markdown",
   "metadata": {},
   "source": [
    "### Para $F_1$\n",
    "\n",
    "Dado a que $F'_1(0.5) = 1$ tenemos que el punto fijo no es atractor ni repulsor, pero intuitivamente podríamos probar con valores $x_0$ tales que $F'_1(x_0) < 1$, con $x_0$ cercano a 0.5 para observar un comportamiento atractor:"
   ]
  },
  {
   "cell_type": "code",
   "execution_count": null,
   "metadata": {
    "collapsed": false
   },
   "outputs": [],
   "source": [
    "pf1 = xdual(0.5)\n",
    "F1(pf1)"
   ]
  },
  {
   "cell_type": "code",
   "execution_count": null,
   "metadata": {
    "collapsed": false
   },
   "outputs": [],
   "source": [
    "#Probemos primero con un punto x0 < 0.5\n",
    "figure(figsize = (5, 5))\n",
    "gr1 = sensibility(F1, 0.1, r1, 1000000);\n",
    "d1 = reshape(gr1, 1000000)\n",
    "loglog(d1)\n",
    "title(L\"Velocidad de convergencia de $x_0 = 0.1$\")\n",
    "xlabel(L\"Iteración $n$\")\n",
    "ylabel(L\"|F_1^n(x_0) - 0.5|\")\n",
    "show()"
   ]
  },
  {
   "cell_type": "markdown",
   "metadata": {},
   "source": [
    "Para calcular la velocidad de convergencia, podemos hacer una regresión lineal con los logarítmos de los datos que tenemos:"
   ]
  },
  {
   "cell_type": "code",
   "execution_count": null,
   "metadata": {
    "collapsed": false
   },
   "outputs": [],
   "source": [
    "figure(figsize = (5,5))\n",
    "dom1 = collect(1:1000000)\n",
    "a1, b1 = linreg(log(dom1), log(d1))\n",
    "ran1 = Float64[exp(a1)*x^b1 for x in dom1]\n",
    "loglog(d1, \".\", label = \"Datos\")\n",
    "loglog(dom1, ran1, label = \"d(n) = $(exp(a1))*n^$b1\")\n",
    "legend(fontsize = 8, loc = \"auto\")\n",
    "title(L\"Velocidad de convergencia de $x_0 = 0.1$\")\n",
    "xlabel(L\"Iteración $n$\")\n",
    "ylabel(L\"|F_1^n(x_0) - 0.5|\")\n",
    "show()"
   ]
  },
  {
   "cell_type": "code",
   "execution_count": null,
   "metadata": {
    "collapsed": false
   },
   "outputs": [],
   "source": [
    "#Probemos ahora con un punto x0 > 0.5, para corroborar que para este valor, el punto fijo tiene comportamiento\n",
    "#repulsor\n",
    "figure(figsize = (5, 5))\n",
    "gr1 = sensibility(F1, 0.6, r1, 100);\n",
    "loglog(reshape(gr1, 100))\n",
    "title(L\"Velocidad de divergencia de $x_0 = 0.6$\")\n",
    "xlabel(L\"Iteración $n$\")\n",
    "ylabel(L\"|F_1^n(x_0) - 0.5|\")\n",
    "show()"
   ]
  },
  {
   "cell_type": "markdown",
   "metadata": {},
   "source": [
    "### Para $F_2$"
   ]
  },
  {
   "cell_type": "code",
   "execution_count": null,
   "metadata": {
    "collapsed": false
   },
   "outputs": [],
   "source": [
    "der2 = Float64[]\n",
    "\n",
    "for j in r2\n",
    "    x0 = xdual(j)\n",
    "    push!(der2, F2(x0).der)\n",
    "end\n",
    "der2, r2"
   ]
  },
  {
   "cell_type": "markdown",
   "metadata": {},
   "source": [
    "Para $F2$ tenemos que uno de los puntos fijos es repulsor y el otro atractor, tratemos con dos valores cercanos a $-1$ por la derecha y por la izquierda"
   ]
  },
  {
   "cell_type": "code",
   "execution_count": null,
   "metadata": {
    "collapsed": false
   },
   "outputs": [],
   "source": [
    "figure(figsize = (5, 5))\n",
    "gr1 = sensibility(F2, 0.9, r2, 1000000)\n",
    "d2 = reshape(gr1[:,2],1000000)\n",
    "dom2 = collect(1:1000000)\n",
    "loglog(dom2, d2)\n",
    "\n",
    "\n",
    "title(L\"Velocidad de convergencia de $x_0 = 0.9$\")\n",
    "xlabel(L\"Iteración $n$\")\n",
    "ylabel(L\"|F_2^n(x_0) - 2/3|\")\n",
    "show()"
   ]
  },
  {
   "cell_type": "code",
   "execution_count": null,
   "metadata": {
    "collapsed": false
   },
   "outputs": [],
   "source": [
    "exp(a2)*dom2[end]^b2"
   ]
  },
  {
   "cell_type": "code",
   "execution_count": null,
   "metadata": {
    "collapsed": false
   },
   "outputs": [],
   "source": [
    "d2[end]"
   ]
  },
  {
   "cell_type": "code",
   "execution_count": null,
   "metadata": {
    "collapsed": false
   },
   "outputs": [],
   "source": [
    "#Modelo para el ajuste de datos\n",
    "model1(x, p) = p[1]*x + p[2]"
   ]
  },
  {
   "cell_type": "code",
   "execution_count": null,
   "metadata": {
    "collapsed": false
   },
   "outputs": [],
   "source": [
    "fit = curve_fit(model1, log(dom2), log(d2), [5.0, 5.0])\n",
    "b2, a2 = fit.param\n",
    "ran2 = Float64[exp(a2)*x^b2 for x in dom2]\n",
    "loglog(d2, \".\", label = \"Datos\")\n",
    "loglog(dom2, ran2, label = \"d(n) = $(exp(a2))*n^$b2\")\n",
    "legend(fontsize = 8, loc = \"auto\")\n",
    "title(L\"Velocidad de convergencia de $x_0 = 0.9$\")\n",
    "xlabel(L\"Iteración $n$\")\n",
    "ylabel(L\"|F_2^n(x_0) - 0.5|\")\n",
    "show()"
   ]
  },
  {
   "cell_type": "markdown",
   "metadata": {},
   "source": [
    "### Para $F_3$\n",
    "\n",
    "Dado a que $F'_3(1) = 1$ tendremos que proceder de la misma forma que en $F_1$:"
   ]
  },
  {
   "cell_type": "code",
   "execution_count": null,
   "metadata": {
    "collapsed": false
   },
   "outputs": [],
   "source": [
    "figure(figsize = (5, 5))\n",
    "gr1 = sensibility(F3, 0.9, r3, 1000000)\n",
    "d2 = reshape(gr1[:,1],1000000)\n",
    "dom2 = collect(1:1000000)\n",
    "loglog(dom2, d2)\n",
    "\n",
    "\n",
    "title(L\"Velocidad de convergencia de $x_0 = 0.9$\")\n",
    "xlabel(L\"Iteración $n$\")\n",
    "ylabel(L\"|F_3^n(x_0) - 1|\")\n",
    "show()"
   ]
  },
  {
   "cell_type": "code",
   "execution_count": null,
   "metadata": {
    "collapsed": false
   },
   "outputs": [],
   "source": [
    "fit = curve_fit(model1, log(dom2), log(d2), [5.0, 5.0])\n",
    "b2, a2 = fit.param\n",
    "ran2 = Float64[exp(a2)*x^b2 for x in dom2]\n",
    "loglog(d2, \".\", label = \"Datos\")\n",
    "loglog(dom2, ran2, label = \"d(n) = $(exp(a2))*n^$b2\")\n",
    "legend(fontsize = 8, loc = \"auto\")\n",
    "title(L\"Velocidad de convergencia de $x_0 = 0.9$\")\n",
    "xlabel(L\"Iteración $n$\")\n",
    "ylabel(L\"|F_3^n(x_0) - 1|\")\n",
    "show()"
   ]
  },
  {
   "cell_type": "markdown",
   "metadata": {},
   "source": [
    "**Ejercicio 1:**\n",
    "\n",
    "Llamemos $c_n$ el valor del parámetro $c$ donde ocurre la bifurcación de doblamiento de periodo para el mapeo $Q_c(x)$, donde la órbita de periodo $2^n$ nace. Es decir, tenemos que $c_0=1/4$ marca la aparición del atractor de periodo $2^0=1$, $c_1=-1/4$ corresponde a la aparición del atractor de periodo $2^1=2$, $c_2=-3/4$ a la aparición del atractor de periodo $2^2=4$, etc. \n",
    "\n",
    "A partir de estos valores y otros que calcularán (al menos deben encontrar $c_6$), definimos la secuencia: $\\{f_0, f_1, f_2, \\dots\\}$, donde\n",
    "\n",
    "\\begin{equation}\n",
    "f_n = \\frac{c_n-c_{n+1}}{c_{n+1}-c_{n+2}} .\n",
    "\\end{equation}\n",
    "\n",
    "La pregunta es, ¿a qué valor converge esta secuencia?, es decir, dar una estimación de $f_\\infty$.\n",
    "\n",
    "\n",
    "\n",
    "*Hint:* Para realizar este ejercicio deben calcular el atractor para varias valores de $c$, de tal manera que puedan aislar las órbitas de periodo $2^p$ y de ahí determinar varios valores $c_n$. Sin embargo, van a requerir suficiente cuidado para obtener una buena aproximación de $c_n$. \n",
    "\n",
    "Una opción, que tiene ciertos inconvenientes numéricos que también ciertas ventajas se basa en recordar/usar que las bifurcaciones de doblamiento de periodo ocurren cuando los puntos de la órbita de periodo $p$ se tornan en repulsores, es decir, $(Q_c^p)'(x)=-1$. Esta opción, entonces, involucra obtener los valores $c_n$ usando los polinomios $Q_c^p(x)$ y diferenciación automática."
   ]
  },
  {
   "cell_type": "code",
   "execution_count": 9,
   "metadata": {
    "collapsed": false
   },
   "outputs": [
    {
     "name": "stderr",
     "output_type": "stream",
     "text": [
      "WARNING: Method definition iterado(Any, Float64, Any) in module Main at In[1]:2 overwritten at In[9]:2.\n"
     ]
    },
    {
     "data": {
      "text/plain": [
       "iterado (generic function with 1 method)"
      ]
     },
     "execution_count": 9,
     "metadata": {},
     "output_type": "execute_result"
    }
   ],
   "source": [
    "function iterado(F,x0::Float64,n)\n",
    "    y = [x0]\n",
    "    x = x0\n",
    "    for i in 1:n\n",
    "        x=F(x)\n",
    "        push!(y,x)\n",
    "    end\n",
    "    y\n",
    "end"
   ]
  },
  {
   "cell_type": "code",
   "execution_count": 11,
   "metadata": {
    "collapsed": false
   },
   "outputs": [
    {
     "name": "stderr",
     "output_type": "stream",
     "text": [
      "WARNING: Method definition Liaponov(Any, Any) in module Main at In[3]:2 overwritten at In[11]:2.\n"
     ]
    },
    {
     "data": {
      "text/plain": [
       "Liaponov (generic function with 1 method)"
      ]
     },
     "execution_count": 11,
     "metadata": {},
     "output_type": "execute_result"
    }
   ],
   "source": [
    "function Liaponov(y, F)\n",
    "    n = length(y)\n",
    "    l = 0\n",
    "   # logval = Float64[]\n",
    "    for i in 1:n\n",
    "        x = abs((F(xdual(y[i]))).der)\n",
    "        l = l + log(x)\n",
    "       # push!(logval,x)\n",
    "    end\n",
    "    l/n#,logval\n",
    "end"
   ]
  },
  {
   "cell_type": "code",
   "execution_count": 12,
   "metadata": {
    "collapsed": false
   },
   "outputs": [
    {
     "name": "stderr",
     "output_type": "stream",
     "text": [
      "WARNING: Method definition mapeo_liap(Any, Any, Float64, Int64) in module Main at In[4]:2 overwritten at In[12]:2.\n"
     ]
    },
    {
     "data": {
      "text/plain": [
       "mapeo_liap (generic function with 1 method)"
      ]
     },
     "execution_count": 12,
     "metadata": {},
     "output_type": "execute_result"
    }
   ],
   "source": [
    "function mapeo_liap(crange,Qc,x0::Float64,n::Int)\n",
    "    map=Float64[]\n",
    "    cmap = Float64[]\n",
    "    for i in crange\n",
    "        Qci(x) = Qc(x,i) \n",
    "        y = iterado(Qci,x0,n)\n",
    "        l = Liaponov(y, Qci)\n",
    "        if l <= 0   \n",
    "          if abs(l)<Inf\n",
    "           push!(map,l)      \n",
    "          else\n",
    "           push!(map,-10)       \n",
    "          end\n",
    "        else\n",
    "          break\n",
    "        end\n",
    "    end\n",
    "    \n",
    "    for i in 1:length(map)\n",
    "        push!(cmap,crange[i])\n",
    "    end\n",
    "    map,cmap\n",
    "end"
   ]
  },
  {
   "cell_type": "code",
   "execution_count": 10,
   "metadata": {
    "collapsed": false
   },
   "outputs": [
    {
     "name": "stderr",
     "output_type": "stream",
     "text": [
      "WARNING: Method definition Qc(Any, Any) in module Main at In[2]:1 overwritten at In[10]:1.\n",
      "WARNING: Method definition Qc1(Any) in module Main at In[2]:2 overwritten at In[10]:2.\n"
     ]
    }
   ],
   "source": [
    "Qc(x,c)=x^2+c\n",
    "Qc1(x) = Qc(x,-1.23)\n",
    "y=iterado(Qc1,1.0,10);\n"
   ]
  },
  {
   "cell_type": "code",
   "execution_count": 47,
   "metadata": {
    "collapsed": false
   },
   "outputs": [],
   "source": [
    "crange = -(0.75-1/2^16):-1/2^16:-1.405\n",
    "map,c = mapeo_liap(crange,Qc,1.0,10000);"
   ]
  },
  {
   "cell_type": "code",
   "execution_count": 48,
   "metadata": {
    "collapsed": false
   },
   "outputs": [
    {
     "data": {
      "image/png": "[encoded data removed]",
      "text/plain": [
       "PyPlot.Figure(PyObject <matplotlib.figure.Figure object at 0x7f1651967e10>)"
      ]
     },
     "metadata": {},
     "output_type": "display_data"
    },
    {
     "data": {
      "text/plain": [
       "1-element Array{Any,1}:\n",
       " PyObject <matplotlib.lines.Line2D object at 0x7f16518feed0>"
      ]
     },
     "execution_count": 48,
     "metadata": {},
     "output_type": "execute_result"
    }
   ],
   "source": [
    "p = plot(c, map)"
   ]
  },
  {
   "cell_type": "code",
   "execution_count": 55,
   "metadata": {
    "collapsed": false
   },
   "outputs": [
    {
     "name": "stderr",
     "output_type": "stream",
     "text": [
      "WARNING: Method definition mins(Any, Any) in module Main at In[53]:2 overwritten at In[55]:2.\n"
     ]
    },
    {
     "data": {
      "text/plain": [
       "mins (generic function with 1 method)"
      ]
     },
     "execution_count": 55,
     "metadata": {},
     "output_type": "execute_result"
    }
   ],
   "source": [
    "function mins(map,crange)\n",
    "    n = length(map)\n",
    "    c = Float64[]\n",
    "    for i in 2:n-1\n",
    "       \n",
    "       \n",
    "        if (abs(map[i+1]) > abs(map[i]) < abs(map[i-1])) \n",
    "            push!(c,(crange[i]))\n",
    "        end\n",
    "        \n",
    "    end\n",
    "    c\n",
    "end"
   ]
  },
  {
   "cell_type": "code",
   "execution_count": 62,
   "metadata": {
    "collapsed": false
   },
   "outputs": [
    {
     "data": {
      "text/plain": [
       "7-element Array{Float64,1}:\n",
       " -1.24995\n",
       " -1.36807\n",
       " -1.39404\n",
       " -1.39963\n",
       " -1.40083\n",
       " -1.40108\n",
       " -1.40114"
      ]
     },
     "execution_count": 62,
     "metadata": {},
     "output_type": "execute_result"
    }
   ],
   "source": [
    "cs = (mins(map,c))\n",
    "cs = deleteat!(cs,4 )"
   ]
  },
  {
   "cell_type": "code",
   "execution_count": 19,
   "metadata": {
    "collapsed": false
   },
   "outputs": [
    {
     "data": {
      "text/plain": [
       "feigen (generic function with 1 method)"
      ]
     },
     "execution_count": 19,
     "metadata": {},
     "output_type": "execute_result"
    }
   ],
   "source": [
    "function feigen(cs)\n",
    "    f = Float64[]\n",
    "    for i in 3:length(cs)\n",
    "        fei=((cs[i-2])-(cs[i-1]))/((cs[i-1])-(cs[i]))\n",
    "        push!(f,fei)\n",
    "        end\n",
    "    f\n",
    "end\n"
   ]
  },
  {
   "cell_type": "code",
   "execution_count": 63,
   "metadata": {
    "collapsed": false
   },
   "outputs": [
    {
     "data": {
      "text/plain": [
       "5-element Array{Float64,1}:\n",
       " 4.54818\n",
       " 4.65027\n",
       " 4.63291\n",
       " 4.9375 \n",
       " 4.0    "
      ]
     },
     "execution_count": 63,
     "metadata": {},
     "output_type": "execute_result"
    }
   ],
   "source": [
    "feigen(cs)"
   ]
  },
  {
   "cell_type": "markdown",
   "metadata": {},
   "source": [
    "**Ejercicio 2:**\n",
    "\n",
    "Repitan el ejercicio anterior para el mapeo $S_c(x) = c \\sin(x)$. ¿Cómo se comparan los valores obtenidos de $f_n$?"
   ]
  },
  {
   "cell_type": "code",
   "execution_count": 27,
   "metadata": {
    "collapsed": false
   },
   "outputs": [
    {
     "name": "stderr",
     "output_type": "stream",
     "text": [
      "WARNING: Method definition Sc(Any, Any) in module Main at In[26]:1 overwritten at In[27]:1.\n",
      "WARNING: Method definition Sc1(Any) in module Main at In[26]:2 overwritten at In[27]:2.\n"
     ]
    }
   ],
   "source": [
    "Sc(x,c)=c*sin(x)\n"
   ]
  },
  {
   "cell_type": "code",
   "execution_count": 39,
   "metadata": {
    "collapsed": true
   },
   "outputs": [],
   "source": [
    "crange = -0.0:-1/2^12:-3.0\n",
    "map,c = mapeo_liap(crange,Sc,1.0,10000);"
   ]
  },
  {
   "cell_type": "code",
   "execution_count": 40,
   "metadata": {
    "collapsed": false
   },
   "outputs": [
    {
     "data": {
      "image/png": "[encoded data removed]",
      "text/plain": [
       "PyPlot.Figure(PyObject <matplotlib.figure.Figure object at 0x7f1651aa9350>)"
      ]
     },
     "metadata": {},
     "output_type": "display_data"
    },
    {
     "data": {
      "text/plain": [
       "1-element Array{Any,1}:\n",
       " PyObject <matplotlib.lines.Line2D object at 0x7f1651a10dd0>"
      ]
     },
     "execution_count": 40,
     "metadata": {},
     "output_type": "execute_result"
    }
   ],
   "source": [
    "p = plot(c, map)"
   ]
  },
  {
   "cell_type": "code",
   "execution_count": 41,
   "metadata": {
    "collapsed": false
   },
   "outputs": [
    {
     "data": {
      "text/plain": [
       "6-element Array{Float64,1}:\n",
       " -1.0    \n",
       " -2.26172\n",
       " -2.61768\n",
       " -2.69727\n",
       " -2.7146 \n",
       " -2.71826"
      ]
     },
     "execution_count": 41,
     "metadata": {},
     "output_type": "execute_result"
    }
   ],
   "source": [
    "sc = mins(map,c)"
   ]
  },
  {
   "cell_type": "code",
   "execution_count": 42,
   "metadata": {
    "collapsed": false
   },
   "outputs": [
    {
     "data": {
      "text/plain": [
       "4-element Array{Float64,1}:\n",
       " 3.54458\n",
       " 4.47239\n",
       " 4.59155\n",
       " 4.73333"
      ]
     },
     "execution_count": 42,
     "metadata": {},
     "output_type": "execute_result"
    }
   ],
   "source": [
    "feigen(sc)"
   ]
  },
  {
   "cell_type": "markdown",
   "metadata": {},
   "source": [
    "**Ejercicio 3:**\n",
    "\n",
    "Como se ve en la Fig. 1 (de [este](https://github.com/lbenet/2017-1_TSFisComp/blob/master/notas_clase/08_Mapeos1d-3.ipynb) notebook), $x=0$ pertenece a un ciclo de periodo $2^n$ para ciertos valores $C_n$ del parámetro. Dichos valores son *especiales*, ya que $x=0$ esté en el ciclo de periodo $2^n$ marca los llamados *ciclos superestable*, donde tenemos $(Q^{2^p}_{C_n})'(0)=0$.\n",
    "\n",
    "¿A qué converge la secuencia $f_n$, definida ahora con los valores $C_n$.\n",
    "\n",
    "De los $2^p$ puntos del ciclo de periodo $2^p$, es decir, $\\{0, p_1, \\dots p_{2^{n-1}}\\,\\}$ hay uno (distinto del 0) cuya distancia a 0 es menor; a ese punto lo identificamos como $d_n$. Calcular numéricamente a dónde converge la secuencia $d_n/d_{n+1}$."
   ]
  },
  {
   "cell_type": "code",
   "execution_count": 64,
   "metadata": {
    "collapsed": false
   },
   "outputs": [
    {
     "data": {
      "text/plain": [
       "maxs (generic function with 1 method)"
      ]
     },
     "execution_count": 64,
     "metadata": {},
     "output_type": "execute_result"
    }
   ],
   "source": [
    "function maxs(map,crange)\n",
    "    n = length(map)\n",
    "    c = Float64[]\n",
    "    for i in 2:n-1\n",
    "        if (abs(map[i+1]) < abs(map[i]) > abs(map[i-1])) \n",
    "            push!(c,(crange[i]))\n",
    "        end\n",
    "    end\n",
    "    c\n",
    "end"
   ]
  },
  {
   "cell_type": "code",
   "execution_count": 65,
   "metadata": {
    "collapsed": false
   },
   "outputs": [
    {
     "data": {
      "text/plain": [
       "8-element Array{Float64,1}:\n",
       " -1.0    \n",
       " -1.3107 \n",
       " -1.38155\n",
       " -1.39694\n",
       " -1.39926\n",
       " -1.40025\n",
       " -1.40096\n",
       " -1.40111"
      ]
     },
     "execution_count": 65,
     "metadata": {},
     "output_type": "execute_result"
    }
   ],
   "source": [
    "cs1 = (maxs(map,c))"
   ]
  },
  {
   "cell_type": "code",
   "execution_count": 66,
   "metadata": {
    "collapsed": false
   },
   "outputs": [
    {
     "data": {
      "text/plain": [
       "6-element Array{Float64,1}:\n",
       " 4.38553\n",
       " 4.60159\n",
       " 6.63816\n",
       " 2.33846\n",
       " 1.41304\n",
       " 4.6    "
      ]
     },
     "execution_count": 66,
     "metadata": {},
     "output_type": "execute_result"
    }
   ],
   "source": [
    "feigen(cs1)"
   ]
  }
 ],
 "metadata": {
  "kernelspec": {
   "display_name": "Julia 0.5.0",
   "language": "julia",
   "name": "julia-0.5"
  },
  "language_info": {
   "file_extension": ".jl",
   "mimetype": "application/julia",
   "name": "julia",
   "version": "0.5.0"
  }
 },
 "nbformat": 4,
 "nbformat_minor": 1
}
