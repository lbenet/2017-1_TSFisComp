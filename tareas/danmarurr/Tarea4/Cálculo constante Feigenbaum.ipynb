{
 "cells": [
  {
   "cell_type": "markdown",
   "metadata": {},
   "source": [
    "Quizá hay mejores formas de obtener esto para cualquier tipo de mapeo $f$, pero por lo pronto, esto debería servir. \n",
    "\n",
    "Para obtener el periodo en un lugar, se utiliza \"fuerza bruta\", es decir, se itera el mapeo muchas veces inicialmente y con ello se obtiene un valor $x_n$ que se encuente dentro de una órbita periódica. Después se itera nuevamente el mapeo hasta obtener el valor $x_n$ con un error menor que una $\\delta$ dada previamente. \n",
    "\n",
    "Si se conoce el periodo de un mapeo para un parámetro dado, entonces se puede aplicar el algoritmo de la bisección para encontrar para qué valor se obtiene la bifurcación: \n",
    "\n",
    "1. Se dan 2 adivinanzas $a_1$ y $a_2$ con diferentes periodos cada una. \n",
    "- Se calcula el promedio de ambas adivinanzas $a_p$. Este debe tener un periodo ya sea intermedio al periodo de $a_1$ y el de $a_2$ o igual a uno de los periódos de las dos adivinanzas. \n",
    "- Si es igual al periodo de alguna de las adivinanzas (digamos $a_1$), esta se recorre al valor del promedio (por ejemplo $a_1 = a_p$. Si es el periodo del promedio es un valor intermedio entre ambas adivinanzas, entonces, la segunda adivinanza se recorre al valore del promedio, es decir $a_2 = a_p$.\n",
    "- Se repiten los pasos 2 y 3 tantas veces como se requiera precisión (por ejemplo, 100 veces). \n",
    "\n",
    "El valor de $a_p$ tiende a ser el valor de la bifurcación más cercana a $a_1$. "
   ]
  },
  {
   "cell_type": "code",
   "execution_count": 7,
   "metadata": {
    "collapsed": false
   },
   "outputs": [
    {
     "data": {
      "text/plain": [
       "bifurcacion (generic function with 2 methods)"
      ]
     },
     "execution_count": 7,
     "metadata": {},
     "output_type": "execute_result"
    }
   ],
   "source": [
    "function periodo(f::Function, a,x,δ = 0.0001) #Mide el periodo\n",
    "    for i in 1:1000000 #entre más grande sea este valor, más preciso será el resultado. \n",
    "        x = f(x,a)\n",
    "    end\n",
    "    p = 0\n",
    "    test = 1\n",
    "    x1 = copy(x)\n",
    "    while  test >0\n",
    "        x = f(x,a)\n",
    "        if abs(x1-x)<δ\n",
    "            test = 0\n",
    "        end\n",
    "        p +=1\n",
    "        if p>1050 # si se quiere ir más lejos en las bifurcaciones, esto se tiene que incrementar\n",
    "            break\n",
    "        end\n",
    "    end\n",
    "    return p\n",
    "end\n",
    "\n",
    "function bifurcacion(f::Function, a1,a2,x,δ=0.0000001) \n",
    "    n1 = periodo(f,a1,x,δ)\n",
    "    n2 = periodo(f,a2,x,δ)\n",
    "    if n1 == n2\n",
    "        return a2, 0\n",
    "    end\n",
    "    contador = 0\n",
    "    a = 0\n",
    "    n = n2\n",
    "    for i in 1:100\n",
    "        a = (a1+a2)/2\n",
    "        n = periodo(f,a,x,δ)\n",
    "        if n == n1\n",
    "            a1 = a\n",
    "        else \n",
    "            a2 = a\n",
    "        end\n",
    "    end\n",
    "    return a, [n1,n]\n",
    "end\n"
   ]
  },
  {
   "cell_type": "code",
   "execution_count": 8,
   "metadata": {
    "collapsed": false
   },
   "outputs": [
    {
     "name": "stdout",
     "output_type": "stream",
     "text": [
      "δ =0.4999719510738441 a=-1.249994728309757 periodo = 2 \n",
      "δ =4.233678435647997 a=-1.3680967152440755 periodo = 4 \n",
      "δ =4.5513926017847535 a=-1.3940452539150763 periodo = 8 \n",
      "δ =4.645594652210783 a=-1.3996308765562278 periodo = 16 \n",
      "δ =4.6635407965202225 a=-1.400828597962529 periodo = 32 \n",
      "δ =4.6673650049976905 a=-1.4010852141485395 periodo = 64 \n",
      "δ =4.667609870289701 a=-1.4011401922193598 periodo = 128 \n",
      "δ =4.6661635198291025 a=-1.4011519745048684 periodo = 256 \n",
      "δ =4.666482908689172 a=-1.4011544993797558 periodo = 512 \n",
      "δ =4.66204020166244 a=-1.4011550409612905 periodo = 1024 \n"
     ]
    }
   ],
   "source": [
    "#Ejemplo\n",
    "f(x,a) = x^2 +a\n",
    "\n",
    "a = -0.5\n",
    "bif = []\n",
    "δ = -1e-15 #este valor es lo que se recorrerá el punto de bifurcación, para que al aplicar el algoritmo, \n",
    "# no encuentre simplemente el mismo punto de bifurcación, sino el siguiente. \n",
    "x = 1\n",
    "x0 = BigFloat(0.1)  # Es necesario este BigFloat para llegar lejos en los cálculos. \n",
    "for i in 1:11\n",
    "    x1 = copy(x)\n",
    "    a0 = copy(a)\n",
    "    a,test=bifurcacion(f,a+δ,-2,x0)\n",
    "    push!(bif,a)\n",
    "    x = a0-a\n",
    "    if i>1\n",
    "        println(\"δ =\",x1/x, \" a=$a \", \"periodo = $(test[1]) \" )\n",
    "    end\n",
    "end"
   ]
  },
  {
   "cell_type": "code",
   "execution_count": null,
   "metadata": {
    "collapsed": false
   },
   "outputs": [],
   "source": []
  }
 ],
 "metadata": {
  "kernelspec": {
   "display_name": "Julia 0.5.0",
   "language": "julia",
   "name": "julia-0.5"
  },
  "language_info": {
   "file_extension": ".jl",
   "mimetype": "application/julia",
   "name": "julia",
   "version": "0.5.0"
  },
  "latex_envs": {
   "bibliofile": "biblio.bib",
   "cite_by": "apalike",
   "current_citInitial": 1,
   "eqLabelWithNumbers": true,
   "eqNumInitial": 0
  }
 },
 "nbformat": 4,
 "nbformat_minor": 0
}
