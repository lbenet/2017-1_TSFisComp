{
 "cells": [
  {
   "cell_type": "markdown",
   "metadata": {},
   "source": [
    "#Tarea 1"
   ]
  },
  {
   "cell_type": "markdown",
   "metadata": {},
   "source": [
    "##Resolviendo el tutorial de  http://pcottle.github.io/learnGitBranching"
   ]
  },
  {
   "cell_type": "markdown",
   "metadata": {},
   "source": [
    "*Sección 1 \"Introduction sequence\", ejercicios 3 y 4*\n",
    "\n"
   ]
  },
  {
   "cell_type": "markdown",
   "metadata": {},
   "source": [
    "- El ejercicio 3 consiste en aprender a realizar un \"merge\" de dos ramas de trabajo en el repositorio en git. \n",
    "El ejercicio consiste en crear una rama distinta a la master, lalamda \"bugFix\" hacer algunos commits en la rama bugFix y después hacer el merge con la rama master.\n",
    "Los comandos que utilice fueron \n",
    "\n",
    "$ git checkout -b bugFix\n",
    "\n",
    "$ git commit\n",
    "\n",
    "$ git checkout master\n",
    "\n",
    "$ git commit\n",
    "\n",
    "$ git merge bugFix\n",
    "\n",
    "![screenshot 1](http://localhost:8888/files/Desktop/Captura%20de%20pantalla%202016-08-29%20a%20las%2023.33.54.png)\n",
    "![screenshot2](http://localhost:8888/files/Desktop/Captura%20de%20pantalla%202016-08-29%20a%20las%2023.35.49.png)\n",
    "\n",
    "- El ejercicio 4 consiste en aprender a usar \"rebasing\"\n",
    "\n",
    "Los comandos que utilice fueron los siguientes\n",
    "\n",
    "$ git checkout -b bugFix\n",
    "\n",
    "$ git commit\n",
    "\n",
    "$ git checkout master\n",
    "\n",
    "$ git commit\n",
    "\n",
    "$ git checkout bugFix\n",
    "\n",
    "$ git rebase master\n",
    "\n",
    "\n",
    "![screenshot 3](http://localhost:8888/files/Desktop/Captura%20de%20pantalla%202016-08-29%20a%20las%2023.40.54.png)"
   ]
  },
  {
   "cell_type": "code",
   "execution_count": null,
   "metadata": {
    "collapsed": true
   },
   "outputs": [],
   "source": []
  }
 ],
 "metadata": {
  "kernelspec": {
   "display_name": "Julia 0.3.11",
   "language": "julia",
   "name": "julia-0.3"
  },
  "language_info": {
   "file_extension": ".jl",
   "mimetype": "application/julia",
   "name": "julia",
   "version": "0.3.11"
  }
 },
 "nbformat": 4,
 "nbformat_minor": 0
}
