{
 "cells": [
  {
   "cell_type": "markdown",
   "metadata": {},
   "source": [
    "Yo Miguel Raz he completado el tutorial de Learning Branching y estoy entregando mi Tarea1."
   ]
  },
  {
   "cell_type": "code",
   "execution_count": 7,
   "metadata": {
    "collapsed": false
   },
   "outputs": [
    {
     "ename": "LoadError",
     "evalue": "LoadError: unknown package Image\n in error at ./error.jl:21\n [inlined code] from pkg/entry.jl:49\n in anonymous at task.jl:447\nwhile loading In[7], in expression starting on line 1",
     "output_type": "error",
     "traceback": [
      "LoadError: unknown package Image\n in error at ./error.jl:21\n [inlined code] from pkg/entry.jl:49\n in anonymous at task.jl:447\nwhile loading In[7], in expression starting on line 1",
      "",
      " in sync_end at ./task.jl:413",
      " [inlined code] from task.jl:422",
      " in add at pkg/entry.jl:64",
      " in add at pkg/entry.jl:73",
      " in anonymous at pkg/dir.jl:31",
      " in cd at file.jl:22",
      " in cd at pkg/dir.jl:31",
      " in add at pkg.jl:23"
     ]
    }
   ],
   "source": [
    "Pkg.add(\"Image\")"
   ]
  },
  {
   "cell_type": "markdown",
   "metadata": {},
   "source": [
    "1. Aprender nbextensions\n",
    "2. agregar imagenes en notebook\n",
    "3. checar tarea1\n",
    "4. https://github.com/ipython-contrib/jupyter_contrib_nbextensions"
   ]
  },
  {
   "cell_type": "code",
   "execution_count": 2,
   "metadata": {
    "collapsed": false
   },
   "outputs": [
    {
     "name": "stdout",
     "output_type": "stream",
     "text": [
      "tarea1_miguel_razguzman_learningbranching.ipynb\n"
     ]
    }
   ],
   "source": [
    ";ls\n"
   ]
  },
  {
   "cell_type": "code",
   "execution_count": 3,
   "metadata": {
    "collapsed": false
   },
   "outputs": [
    {
     "name": "stdout",
     "output_type": "stream",
     "text": [
      "/home/mrg/8vo/2017-1_TSFisComp/tareas/miguelrg/tareas\n"
     ]
    }
   ],
   "source": [
    ";pwd"
   ]
  },
  {
   "cell_type": "code",
   "execution_count": 5,
   "metadata": {
    "collapsed": false
   },
   "outputs": [
    {
     "name": "stdout",
     "output_type": "stream",
     "text": [
      "/home/mrg/8vo/2017-1_TSFisComp/tareas/miguelrg/archivos\n"
     ]
    }
   ],
   "source": [
    ";cd ../archivos"
   ]
  },
  {
   "cell_type": "code",
   "execution_count": 7,
   "metadata": {
    "collapsed": false
   },
   "outputs": [
    {
     "name": "stdout",
     "output_type": "stream",
     "text": [
      "LearningBranchingMain.png\n",
      "LearningBranchingRemote.png\n"
     ]
    }
   ],
   "source": [
    ";ls"
   ]
  },
  {
   "cell_type": "markdown",
   "metadata": {
    "collapsed": false
   },
   "source": [
    "![](LearningBranchingRemote.png)"
   ]
  },
  {
   "cell_type": "code",
   "execution_count": 18,
   "metadata": {
    "collapsed": false
   },
   "outputs": [
    {
     "name": "stdout",
     "output_type": "stream",
     "text": [
      "search: linspace LinSpace InlineDisplay\n",
      "\n"
     ]
    },
    {
     "data": {
      "text/markdown": [
       "```\n",
       "linspace(start, stop, n=100)\n",
       "```\n",
       "\n",
       "Construct a range of `n` linearly spaced elements from `start` to `stop`.\n"
      ],
      "text/plain": [
       "```\n",
       "linspace(start, stop, n=100)\n",
       "```\n",
       "\n",
       "Construct a range of `n` linearly spaced elements from `start` to `stop`.\n"
      ]
     },
     "execution_count": 18,
     "metadata": {},
     "output_type": "execute_result"
    }
   ],
   "source": [
    "?l"
   ]
  },
  {
   "cell_type": "code",
   "execution_count": null,
   "metadata": {
    "collapsed": true
   },
   "outputs": [],
   "source": []
  }
 ],
 "metadata": {
  "kernelspec": {
   "display_name": "Julia 0.4.6",
   "language": "julia",
   "name": "julia-0.4"
  },
  "language_info": {
   "file_extension": ".jl",
   "mimetype": "application/julia",
   "name": "julia",
   "version": "0.4.6"
  }
 },
 "nbformat": 4,
 "nbformat_minor": 0
}
