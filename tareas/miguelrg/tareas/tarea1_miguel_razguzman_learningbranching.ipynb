{
 "cells": [
  {
   "cell_type": "markdown",
   "metadata": {},
   "source": [
    "Yo Miguel Raz he completado el tutorial de Learning Branching y estoy entregando mi Tarea1."
   ]
  },
  {
   "cell_type": "markdown",
   "metadata": {},
   "source": [
    "1. Aprender nbextensions\n",
    "2. agregar imagenes en notebook\n",
    "3. checar tarea1\n",
    "4. https://github.com/ipython-contrib/jupyter_contrib_nbextensions"
   ]
  },
  {
   "cell_type": "code",
   "execution_count": 2,
   "metadata": {
    "collapsed": false
   },
   "outputs": [
    {
     "name": "stdout",
     "output_type": "stream",
     "text": [
      "tarea1_miguel_razguzman_learningbranching.ipynb\n"
     ]
    }
   ],
   "source": [
    ";ls\n"
   ]
  },
  {
   "cell_type": "code",
   "execution_count": 3,
   "metadata": {
    "collapsed": false
   },
   "outputs": [
    {
     "name": "stdout",
     "output_type": "stream",
     "text": [
      "/home/mrg/8vo/2017-1_TSFisComp/tareas/miguelrg/tareas\n"
     ]
    }
   ],
   "source": [
    ";pwd"
   ]
  },
  {
   "cell_type": "code",
   "execution_count": 5,
   "metadata": {
    "collapsed": false
   },
   "outputs": [
    {
     "name": "stdout",
     "output_type": "stream",
     "text": [
      "/home/mrg/8vo/2017-1_TSFisComp/tareas/miguelrg/archivos\n"
     ]
    }
   ],
   "source": [
    ";cd ../archivos"
   ]
  },
  {
   "cell_type": "code",
   "execution_count": 7,
   "metadata": {
    "collapsed": false
   },
   "outputs": [
    {
     "name": "stdout",
     "output_type": "stream",
     "text": [
      "LearningBranchingMain.png\n",
      "LearningBranchingRemote.png\n"
     ]
    }
   ],
   "source": [
    ";ls"
   ]
  },
  {
   "cell_type": "code",
   "execution_count": 23,
   "metadata": {
    "collapsed": false
   },
   "outputs": [
    {
     "ename": "LoadError",
     "evalue": "LoadError: syntax: \"/\" is not a unary operator\nwhile loading In[23], in expression starting on line 1",
     "output_type": "error",
     "traceback": [
      "LoadError: syntax: \"/\" is not a unary operator\nwhile loading In[23], in expression starting on line 1",
      ""
     ]
    }
   ],
   "source": [
    "[!](/home/mrg/8vo/2017-1_TSFisComp/tareas/miguelrg/archivos/LearningBranchingMain.png)"
   ]
  },
  {
   "cell_type": "code",
   "execution_count": 18,
   "metadata": {
    "collapsed": false
   },
   "outputs": [],
   "source": [
    "?[!]"
   ]
  }
 ],
 "metadata": {
  "kernelspec": {
   "display_name": "Julia 0.4.6",
   "language": "julia",
   "name": "julia-0.4"
  },
  "language_info": {
   "file_extension": ".jl",
   "mimetype": "application/julia",
   "name": "julia",
   "version": "0.4.6"
  }
 },
 "nbformat": 4,
 "nbformat_minor": 0
}
