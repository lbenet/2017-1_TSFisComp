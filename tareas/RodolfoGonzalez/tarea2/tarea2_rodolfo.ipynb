{
 "cells": [
  {
   "cell_type": "markdown",
   "metadata": {},
   "source": [
    "# Tarea 2: \n",
    "\n",
    "_Rodolfo Arturo González Trillo_\n"
   ]
  },
  {
   "cell_type": "markdown",
   "metadata": {},
   "source": [
    "---\n",
    "\n",
    "Se inicia cargando los paquetes que se usaran. `Interact` es un paquete de macros que, como su nombre lo dice, permite _interactividad_, y es justo por eso que se usa, para generar gráficos interactivos."
   ]
  },
  {
   "cell_type": "code",
   "execution_count": 3,
   "metadata": {
    "collapsed": false
   },
   "outputs": [
    {
     "name": "stderr",
     "output_type": "stream",
     "text": [
      "INFO: Recompiling stale cache file C:\\Users\\Rodolfo\\.julia\\lib\\v0.4\\Reactive.ji for module Reactive.\n"
     ]
    },
    {
     "data": {
      "text/html": [
       "<div id=\"interact-js-shim\">\n",
       "    <script charset=\"utf-8\">\n",
       "(function (IPython, $, _, MathJax) {\n",
       "    $.event.special.destroyed = {\n",
       "\tremove: function(o) {\n",
       "\t    if (o.handler) {\n",
       "\t\to.handler.apply(this, arguments)\n",
       "\t    }\n",
       "\t}\n",
       "    }\n",
       "\n",
       "    var OutputArea = IPython.version >= \"4.0.0\" ? require(\"notebook/js/outputarea\").OutputArea : IPython.OutputArea;\n",
       "\n",
       "    var redrawValue = function (container, type, val) {\n",
       "\tvar selector = $(\"<div/>\");\n",
       "\tvar oa = new OutputArea(_.extend(selector, {\n",
       "\t    selector: selector,\n",
       "\t    prompt_area: true,\n",
       "\t    events: IPython.events,\n",
       "\t    keyboard_manager: IPython.keyboard_manager\n",
       "\t})); // Hack to work with IPython 2.1.0\n",
       "\n",
       "\tswitch (type) {\n",
       "\tcase \"image/png\":\n",
       "            var _src = 'data:' + type + ';base64,' + val;\n",
       "\t    $(container).find(\"img\").attr('src', _src);\n",
       "\t    break;\n",
       "\tdefault:\n",
       "\t    var toinsert = OutputArea.append_map[type].apply(\n",
       "\t\toa, [val, {}, selector]\n",
       "\t    );\n",
       "\t    $(container).empty().append(toinsert.contents());\n",
       "\t    selector.remove();\n",
       "\t}\n",
       "\tif (type === \"text/latex\" && MathJax) {\n",
       "\t    MathJax.Hub.Queue([\"Typeset\", MathJax.Hub, toinsert.get(0)]);\n",
       "\t}\n",
       "    }\n",
       "\n",
       "\n",
       "    $(document).ready(function() {\n",
       "\tfunction initComm(evt, data) {\n",
       "\t    var comm_manager = data.kernel.comm_manager;\n",
       "        //_.extend(comm_manager.targets, require(\"widgets/js/widget\"))\n",
       "\t    comm_manager.register_target(\"Signal\", function (comm) {\n",
       "            comm.on_msg(function (msg) {\n",
       "                //Widgets.log(\"message received\", msg);\n",
       "                var val = msg.content.data.value;\n",
       "                $(\".signal-\" + comm.comm_id).each(function() {\n",
       "                var type = $(this).data(\"type\");\n",
       "                if (val[type]) {\n",
       "                    redrawValue(this, type, val[type], type);\n",
       "                }\n",
       "                });\n",
       "                delete val;\n",
       "                delete msg.content.data.value;\n",
       "            });\n",
       "\t    });\n",
       "\n",
       "\t    // coordingate with Comm and redraw Signals\n",
       "\t    // XXX: Test using Reactive here to improve performance\n",
       "\t    $([IPython.events]).on(\n",
       "\t\t'output_appended.OutputArea', function (event, type, value, md, toinsert) {\n",
       "\t\t    if (md && md.reactive) {\n",
       "                // console.log(md.comm_id);\n",
       "                toinsert.addClass(\"signal-\" + md.comm_id);\n",
       "                toinsert.data(\"type\", type);\n",
       "                // Signal back indicating the mimetype required\n",
       "                var comm_manager = IPython.notebook.kernel.comm_manager;\n",
       "                var comm = comm_manager.comms[md.comm_id];\n",
       "                comm.then(function (c) {\n",
       "                    c.send({action: \"subscribe_mime\",\n",
       "                       mime: type});\n",
       "                    toinsert.bind(\"destroyed\", function() {\n",
       "                        c.send({action: \"unsubscribe_mime\",\n",
       "                               mime: type});\n",
       "                    });\n",
       "                })\n",
       "\t\t    }\n",
       "\t    });\n",
       "\t}\n",
       "\n",
       "\ttry {\n",
       "\t    // try to initialize right away. otherwise, wait on the status_started event.\n",
       "\t    initComm(undefined, IPython.notebook);\n",
       "\t} catch (e) {\n",
       "\t    $([IPython.events]).on('kernel_created.Kernel kernel_created.Session', initComm);\n",
       "\t}\n",
       "    });\n",
       "})(IPython, jQuery, _, MathJax);\n",
       "</script>\n",
       "    <script>\n",
       "        window.interactLoadedFlag = true\n",
       "       $(\"#interact-js-shim\").bind(\"destroyed\", function () {\n",
       "           if (window.interactLoadedFlag) {\n",
       "               console.warn(\"JavaScript required by Interact will be removed if you remove this cell or run using Interact more than once.\")\n",
       "           }\n",
       "       })\n",
       "       $([IPython.events]).on(\"kernel_starting.Kernel kernel_restarting.Kernel\", function () { window.interactLoadedFlag = false })\n",
       "   </script>\n",
       "</div>"
      ]
     },
     "metadata": {},
     "output_type": "display_data"
    }
   ],
   "source": [
    "#Pkg.update()\n",
    "#Pkg.add(\"Interact\")\n",
    "\n",
    "using PyPlot\n",
    "using Interact"
   ]
  },
  {
   "cell_type": "markdown",
   "metadata": {},
   "source": [
    "\n",
    "> 1) Consideren la función $ z_{n+1} = z_n^2 + c $ con `c = 0.12256484161600012 - 0.74486407104im`. Definan una malla de valores iniciales $z_0$ en el intervalo $[-1,1]\\times [-1,1]$ (parte real $\\times$ parte imaginaria).\n"
   ]
  },
  {
   "cell_type": "markdown",
   "metadata": {},
   "source": [
    "Definimos la función _mapeo1D_, que hace a una función recursiva:"
   ]
  },
  {
   "cell_type": "code",
   "execution_count": 4,
   "metadata": {
    "collapsed": false
   },
   "outputs": [
    {
     "data": {
      "text/plain": [
       "mapeo1D (generic function with 1 method)"
      ]
     },
     "execution_count": 4,
     "metadata": {},
     "output_type": "execute_result"
    }
   ],
   "source": [
    "\"\"\"\n",
    "    mapeo1D(F, x_0, N)\n",
    "\n",
    "Hace ´N´ iterados de una función recursiva de la forma x_{n+1}=F(x_n), para un valor inicial ´x_0´.\n",
    "\n",
    "\"\"\"\n",
    "\n",
    "function mapeo1D(F, x_0, N)\n",
    "    @assert N ≥ 1\n",
    "    \n",
    "    x = x_0\n",
    "    for i in 1:N-1\n",
    "        x = F(x)\n",
    "    end\n",
    "    \n",
    "    x\n",
    "\n",
    "end"
   ]
  },
  {
   "cell_type": "markdown",
   "metadata": {},
   "source": [
    "\n",
    "Usando como referencia la estructura para generar matrices de la función `compute_complex_roots` del notebook 04, pero se cambia la parte del metodo de Newton, se define la función `complex_matrix`:"
   ]
  },
  {
   "cell_type": "code",
   "execution_count": 5,
   "metadata": {
    "collapsed": false
   },
   "outputs": [
    {
     "data": {
      "text/plain": [
       "complex_matrix (generic function with 1 method)"
      ]
     },
     "execution_count": 5,
     "metadata": {},
     "output_type": "execute_result"
    }
   ],
   "source": [
    "\"\"\"\n",
    "complex_matrix(f, range)\n",
    "\n",
    "Está función genera una matriz con los valores z en el rango de una función \n",
    "en una matriz cuadrada compleja.\n",
    "\n",
    "\"\"\"\n",
    "\n",
    "function complex_matrix(f::Function, range::Range)\n",
    "    \n",
    "    L = length(range)\n",
    "    \n",
    "    # Se define una matriz cuadrada con todos los elementos cero, que más tarde \n",
    "    # será llenada conlos valores del cálculo que realizaremos.\n",
    "    matriz = zeros(Complex{Float64},L,L)\n",
    "    \n",
    "        for (j, x) in enumerate(range)\n",
    "        for (i, y) in enumerate(range)\n",
    "            \n",
    "            z = x + y*im\n",
    "            \n",
    "            matriz[i,j] = f(z)\n",
    "            \n",
    "        end\n",
    "    end\n",
    "    \n",
    "    matriz\n",
    "end"
   ]
  },
  {
   "cell_type": "markdown",
   "metadata": {},
   "source": [
    "Ahora, se define la función recursiva $ F(z)= z^2 + c $, con la $c$ dada en el cuerpo del problema:"
   ]
  },
  {
   "cell_type": "code",
   "execution_count": 6,
   "metadata": {
    "collapsed": false
   },
   "outputs": [
    {
     "data": {
      "text/plain": [
       "F (generic function with 1 method)"
      ]
     },
     "execution_count": 6,
     "metadata": {},
     "output_type": "execute_result"
    }
   ],
   "source": [
    "F(z)=z^2+0.12256484161600012- 0.74486407104im"
   ]
  },
  {
   "cell_type": "markdown",
   "metadata": {},
   "source": [
    "> - ¿Cuantos valores finitos distintos (en el intervalo $[-1,1]\\times [-1,1]$) se pueden obtener después de un gran número de iteraciones?\n",
    "\n",
    "Ésto se puede verificar con las dos funciones previamente definidas, insertando un valor alto de `N`, el número de iteraciones:"
   ]
  },
  {
   "cell_type": "code",
   "execution_count": 7,
   "metadata": {
    "collapsed": false
   },
   "outputs": [
    {
     "data": {
      "text/plain": [
       "201x201 Array{Complex{Float64},2}:\n",
       "          NaN+NaN*im         …          NaN+NaN*im       \n",
       "          NaN-Inf*im                    NaN+NaN*im       \n",
       "          NaN+Inf*im                    NaN+NaN*im       \n",
       "          NaN+Inf*im                    NaN+NaN*im       \n",
       "          NaN-Inf*im                    NaN+NaN*im       \n",
       "          NaN-Inf*im         …          NaN+NaN*im       \n",
       "          NaN-Inf*im                    NaN+NaN*im       \n",
       "          NaN+Inf*im                    NaN+NaN*im       \n",
       "          NaN-Inf*im                    NaN+NaN*im       \n",
       "          NaN-Inf*im                    NaN+NaN*im       \n",
       "          NaN+Inf*im         …          NaN+NaN*im       \n",
       "  3.91258e282-3.86561e283im             NaN+NaN*im       \n",
       " -9.58706e256+5.04152e257im             NaN+NaN*im       \n",
       "             ⋮               ⋱             ⋮             \n",
       "          NaN+NaN*im            3.91258e282-3.86561e283im\n",
       "          NaN+NaN*im         …          NaN+Inf*im       \n",
       "          NaN+NaN*im                    NaN-Inf*im       \n",
       "          NaN+NaN*im                    NaN-Inf*im       \n",
       "          NaN+NaN*im                    NaN+Inf*im       \n",
       "          NaN+NaN*im                    NaN-Inf*im       \n",
       "          NaN+NaN*im         …          NaN-Inf*im       \n",
       "          NaN+NaN*im                    NaN-Inf*im       \n",
       "          NaN+NaN*im                    NaN+Inf*im       \n",
       "          NaN+NaN*im                    NaN+Inf*im       \n",
       "          NaN+NaN*im                    NaN-Inf*im       \n",
       "          NaN+NaN*im         …          NaN+NaN*im       "
      ]
     },
     "execution_count": 7,
     "metadata": {},
     "output_type": "execute_result"
    }
   ],
   "source": [
    "m_valores = complex_matrix( z -> mapeo1D(F, z, 15), -1:0.01:1 )"
   ]
  },
  {
   "cell_type": "markdown",
   "metadata": {},
   "source": [
    "> - Usando un color distinto para cada uno, grafiquen en el plano $\\textrm{Re}(z) - \\textrm{Im}(z)$ el conjunto obtenido."
   ]
  },
  {
   "cell_type": "code",
   "execution_count": 8,
   "metadata": {
    "collapsed": false
   },
   "outputs": [
    {
     "data": {
      "text/html": [],
      "text/plain": [
       "Interact.Slider{Int64}(Signal{Int64}(5, nactions=0),\"n\",5,1:10,true)"
      ]
     },
     "metadata": {},
     "output_type": "display_data"
    },
    {
     "data": {
      "image/png": "[encoded data removed]",
      "text/plain": [
       "PyPlot.Figure(PyObject <matplotlib.figure.Figure object at 0x0000000016FFB3C8>)"
      ]
     },
     "execution_count": 8,
     "metadata": {
      "comm_id": "230f11b2-c5b6-4a7b-a16a-b9e37e4cb195",
      "reactive": true
     },
     "output_type": "execute_result"
    }
   ],
   "source": [
    "fig = figure()\n",
    "\n",
    "@manipulate for n in 1:10\n",
    "    m_valores = complex_matrix( z -> mapeo1D(F, z, n), -1//1: 1//100 :1//1 )\n",
    "    withfig(fig) do\n",
    "        imshow(real(m_valores)-imag(m_valores))\n",
    "    end\n",
    "end"
   ]
  },
  {
   "cell_type": "markdown",
   "metadata": {},
   "source": [
    "Se observa que hay zonas con valores menores que otras bien definidas, y se difuminan en una zona con NaN."
   ]
  },
  {
   "cell_type": "markdown",
   "metadata": {},
   "source": [
    "2) Usando la función `compute_roots` vista en clase, o en alguna variación propuesta por ustedes, definan (en Julia) el mapeo\n",
    "\n",
    "\\begin{equation}\n",
    "x_{n+1} = B(x_{n}) = 2x_n \\mod 1.\n",
    "\\end{equation}\n",
    "\n",
    "*Hint: Sean imaginos y no se conformen*"
   ]
  },
  {
   "cell_type": "markdown",
   "metadata": {},
   "source": [
    "- Obtengas los puntos fijos de este mapeo numéricamente. Los puntos fijos del mapeo son aquéllos que se mapean en si mismos, es decir, $x_{n} = B(x_{n})$. Este cálculo se puede hacer a mano, lo que debe usarse para comprobar que la implementación numérica funciona bien."
   ]
  },
  {
   "cell_type": "markdown",
   "metadata": {},
   "source": [
    "La función `compute_roots`, del Notebook 4 aplica el método de Newton que requiere la función y su derivada."
   ]
  },
  {
   "cell_type": "code",
   "execution_count": 9,
   "metadata": {
    "collapsed": false
   },
   "outputs": [
    {
     "data": {
      "text/plain": [
       "compute_roots (generic function with 1 method)"
      ]
     },
     "execution_count": 9,
     "metadata": {},
     "output_type": "execute_result"
    }
   ],
   "source": [
    "\"\"\"\n",
    "    compute_roots(f, f´,initial_conditions)\n",
    "\n",
    "Calcula las raíces mediante método de newton de una función `f` y su derivada `f'`, dadas unas\n",
    "condiciones iniciales `initial_conditions` de tipo `Range`.\n",
    "\"\"\"\n",
    "\n",
    "function compute_roots(f, f´, initial_conditions)\n",
    "    roots = similar(initial_conditions)\n",
    "\n",
    "    for (j, x_0) in enumerate(initial_conditions)\n",
    "        x = x_0\n",
    "\n",
    "        # 500 iterations of Newton's method\n",
    "        for i in 1:500\n",
    "            x = x - f(x) / f´(x)\n",
    "        end\n",
    "\n",
    "        roots[j] = x\n",
    "    end\n",
    "    \n",
    "    roots\n",
    "end"
   ]
  },
  {
   "cell_type": "markdown",
   "metadata": {},
   "source": [
    "Definimos $B(x_{n}) = 2x_n \\mod 1.$"
   ]
  },
  {
   "cell_type": "code",
   "execution_count": 10,
   "metadata": {
    "collapsed": false
   },
   "outputs": [
    {
     "data": {
      "text/plain": [
       "B (generic function with 1 method)"
      ]
     },
     "execution_count": 10,
     "metadata": {},
     "output_type": "execute_result"
    }
   ],
   "source": [
    "B(x)=mod((2*x),1)"
   ]
  },
  {
   "cell_type": "markdown",
   "metadata": {},
   "source": [
    "Graficamos la función para observar su comportamiento, junto con la función identidad para identificar los puntos que cumplen con la condición $x=B(x)$"
   ]
  },
  {
   "cell_type": "code",
   "execution_count": 11,
   "metadata": {
    "collapsed": false
   },
   "outputs": [
    {
     "data": {
      "text/html": [],
      "text/plain": [
       "Interact.Slider{Int64}(Signal{Int64}(10, nactions=0),\"n\",10,1:20,true)"
      ]
     },
     "metadata": {},
     "output_type": "display_data"
    },
    {
     "data": {
      "image/png": "[encoded data removed]",
      "text/plain": [
       "PyPlot.Figure(PyObject <matplotlib.figure.Figure object at 0x000000001753BF98>)"
      ]
     },
     "execution_count": 11,
     "metadata": {
      "comm_id": "14e1ade9-1381-4644-9984-950eac99a533",
      "reactive": true
     },
     "output_type": "execute_result"
    }
   ],
   "source": [
    "fig = figure()\n",
    "\n",
    "@manipulate for n in 1:20\n",
    "\n",
    "    xs = 0:0.001:1\n",
    "    gs = zeros(length(xs))\n",
    "\n",
    "    for (j,x) in enumerate(xs)\n",
    "        gs[j] = mapeo1D(B,x,n)\n",
    "    end\n",
    "\n",
    "    withfig(fig) do\n",
    "        plot(collect(xs),gs,\"r.-\", label=\"g(x)\")\n",
    "        plot(collect(xs),collect(xs),label=\"Función identidad\")\n",
    "\n",
    "        title(\"Gráfico 1: de la función B^{N=$n}(x)\")\n",
    "        xlabel(L\"$x$\")\n",
    "        ylabel(L\"$g(x)$\")\n",
    "        legend()\n",
    "        \n",
    "    end\n",
    "end"
   ]
  },
  {
   "cell_type": "markdown",
   "metadata": {},
   "source": [
    "Ahora, graficamos al revés, para ver si el a cierto valor de $N$, la solución converge:"
   ]
  },
  {
   "cell_type": "markdown",
   "metadata": {},
   "source": [
    "Se utiliza la derivada númerica, de la forma:\n",
    "\n",
    "$$ f'(x)\\approx \\frac{f(x+h)-f(x-h)}{2h}$$\n",
    "\n",
    "Debido a que la derivación de la función módulo no es trivial, aunque mantiene la pendiente, produce funciones delta cada cierto intervalo."
   ]
  },
  {
   "cell_type": "code",
   "execution_count": 12,
   "metadata": {
    "collapsed": false
   },
   "outputs": [
    {
     "data": {
      "text/plain": [
       "numder (generic function with 1 method)"
      ]
     },
     "execution_count": 12,
     "metadata": {},
     "output_type": "execute_result"
    }
   ],
   "source": [
    "\"\"\"\n",
    "    numder(f,x)\n",
    "\n",
    "Calcula la derivida númerica de una función `f` en un punto `x`, con la defini-\n",
    "ción de derivada, con `h=0.5e-07`.\n",
    "\"\"\"\n",
    "\n",
    "function numder(f,x)\n",
    "    h = 1e-07\n",
    "    \n",
    "    (f(x+h)-f(x-h))/(2*h)\n",
    "    \n",
    "end\n"
   ]
  },
  {
   "cell_type": "markdown",
   "metadata": {},
   "source": [
    "Para poder encontrar los puntos fijos numericamente, con la función ´compute_roots´ se usa la función.\n",
    "\n",
    "$$B_{roots}(x)=B^n(x)-x$$\n",
    "\n",
    "y su derivada númerica $B_{roots}'$"
   ]
  },
  {
   "cell_type": "code",
   "execution_count": 13,
   "metadata": {
    "collapsed": false
   },
   "outputs": [
    {
     "data": {
      "text/plain": [
       "Broots´ (generic function with 1 method)"
      ]
     },
     "execution_count": 13,
     "metadata": {},
     "output_type": "execute_result"
    }
   ],
   "source": [
    "n=14           #Valor de N.\n",
    "\n",
    "Broots(x) = mapeo1D(B,x,n) - x\n",
    "Broots´(x) = numder(Broots,x)\n"
   ]
  },
  {
   "cell_type": "markdown",
   "metadata": {},
   "source": [
    "Se calculan las raíces con la función, y obtenemos los posibles puntos fijos.  Es conveniente dividir el intervalo en $2^{n-1}$ partes, debido a que es el número de raíces. Esta conclusión se obtiene de ver el gráfico 2 y cambiar el valor de n."
   ]
  },
  {
   "cell_type": "code",
   "execution_count": 22,
   "metadata": {
    "collapsed": false
   },
   "outputs": [
    {
     "data": {
      "text/plain": [
       "5-element Array{Float64,1}:\n",
       " 0.0     \n",
       " 0.333333\n",
       " 0.333333\n",
       " 0.666667\n",
       " 1.0     "
      ]
     },
     "execution_count": 22,
     "metadata": {},
     "output_type": "execute_result"
    }
   ],
   "source": [
    "n=3\n",
    "compute_roots(Broots, Broots´, 0:1/2^(n-1):1)"
   ]
  },
  {
   "cell_type": "code",
   "execution_count": 23,
   "metadata": {
    "collapsed": false
   },
   "outputs": [
    {
     "data": {
      "text/plain": [
       "65-element Array{Float64,1}:\n",
       " 0.0      \n",
       " 0.015873 \n",
       " 0.031746 \n",
       " 0.047619 \n",
       " 0.0634921\n",
       " 0.0793651\n",
       " 0.0952381\n",
       " 0.111111 \n",
       " 0.126984 \n",
       " 0.142857 \n",
       " 0.15873  \n",
       " 0.174603 \n",
       " 0.190476 \n",
       " ⋮        \n",
       " 0.825397 \n",
       " 0.84127  \n",
       " 0.857143 \n",
       " 0.873016 \n",
       " 0.888889 \n",
       " 0.904762 \n",
       " 0.920635 \n",
       " 0.936508 \n",
       " 0.952381 \n",
       " 0.968254 \n",
       " 0.984127 \n",
       " 1.0      "
      ]
     },
     "execution_count": 23,
     "metadata": {},
     "output_type": "execute_result"
    }
   ],
   "source": [
    "n=7\n",
    "compute_roots(Broots, Broots´, 0:1/2^(n-1):1)"
   ]
  },
  {
   "cell_type": "markdown",
   "metadata": {},
   "source": [
    "Observamos que sin importar el valor de $n$, el 0 y el 1 son los únicos puntos que permanecen en la intersección con la función identidad. El análisis del 0 se realiza en la siguiente sección. Para el 1:"
   ]
  },
  {
   "cell_type": "code",
   "execution_count": 26,
   "metadata": {
    "collapsed": false
   },
   "outputs": [
    {
     "data": {
      "text/plain": [
       "10-element Array{Any,1}:\n",
       " 1.0\n",
       " 0.0\n",
       " 0.0\n",
       " 0.0\n",
       " 0.0\n",
       " 0.0\n",
       " 0.0\n",
       " 0.0\n",
       " 0.0\n",
       " 0.0"
      ]
     },
     "execution_count": 26,
     "metadata": {},
     "output_type": "execute_result"
    }
   ],
   "source": [
    "[mapeo1D(B, 1.0, n) for n in 1:10]"
   ]
  },
  {
   "cell_type": "markdown",
   "metadata": {},
   "source": [
    "Obsevamos que el punto no es estable, por lo que no es punto fijo."
   ]
  },
  {
   "cell_type": "markdown",
   "metadata": {},
   "source": [
    "- Pensando en que la estabilidad de un punto fijo es el comportamiento que se observa de los iterados (a priori un número infinito) al considerar pequeñas desviaciones del punto fijo, ¿cuál es la estabilidad de los puntos fijos que se obtiene *numéricamente*, digamos, después de 100 iteraciones? ¿Pueden encontrar una explicación analítica de la observación numérica?"
   ]
  },
  {
   "cell_type": "markdown",
   "metadata": {},
   "source": [
    "Primero, evaluamos en 0, para distintas N's."
   ]
  },
  {
   "cell_type": "code",
   "execution_count": 15,
   "metadata": {
    "collapsed": false
   },
   "outputs": [
    {
     "data": {
      "text/plain": [
       "10-element Array{Any,1}:\n",
       " 0\n",
       " 0\n",
       " 0\n",
       " 0\n",
       " 0\n",
       " 0\n",
       " 0\n",
       " 0\n",
       " 0\n",
       " 0"
      ]
     },
     "execution_count": 15,
     "metadata": {},
     "output_type": "execute_result"
    }
   ],
   "source": [
    "[mapeo1D(B, 0, n) for n in 1:10]"
   ]
  },
  {
   "cell_type": "markdown",
   "metadata": {},
   "source": [
    "Evaluemos cerca del 0."
   ]
  },
  {
   "cell_type": "code",
   "execution_count": 16,
   "metadata": {
    "collapsed": false
   },
   "outputs": [
    {
     "data": {
      "text/plain": [
       "10-element Array{Any,1}:\n",
       " 0.1\n",
       " 0.2\n",
       " 0.4\n",
       " 0.8\n",
       " 0.6\n",
       " 0.2\n",
       " 0.4\n",
       " 0.8\n",
       " 0.6\n",
       " 0.2"
      ]
     },
     "execution_count": 16,
     "metadata": {},
     "output_type": "execute_result"
    }
   ],
   "source": [
    "[mapeo1D(B, 0.1, n) for n in 1:10]"
   ]
  },
  {
   "cell_type": "code",
   "execution_count": 17,
   "metadata": {
    "collapsed": false
   },
   "outputs": [
    {
     "data": {
      "text/plain": [
       "10-element Array{Any,1}:\n",
       " 0.001\n",
       " 0.002\n",
       " 0.004\n",
       " 0.008\n",
       " 0.016\n",
       " 0.032\n",
       " 0.064\n",
       " 0.128\n",
       " 0.256\n",
       " 0.512"
      ]
     },
     "execution_count": 17,
     "metadata": {},
     "output_type": "execute_result"
    }
   ],
   "source": [
    "[mapeo1D(B, 0.001, n) for n in 1:10]"
   ]
  },
  {
   "cell_type": "markdown",
   "metadata": {},
   "source": [
    "Observamos que la solución nunca se acerca a cero, entonces es un punto inestable. Sin embargo, para $N=100$"
   ]
  },
  {
   "cell_type": "code",
   "execution_count": 18,
   "metadata": {
    "collapsed": false
   },
   "outputs": [
    {
     "data": {
      "text/plain": [
       "100-element Array{Any,1}:\n",
       " 0.001\n",
       " 0.002\n",
       " 0.004\n",
       " 0.008\n",
       " 0.016\n",
       " 0.032\n",
       " 0.064\n",
       " 0.128\n",
       " 0.256\n",
       " 0.512\n",
       " 0.024\n",
       " 0.048\n",
       " 0.096\n",
       " ⋮    \n",
       " 0.0  \n",
       " 0.0  \n",
       " 0.0  \n",
       " 0.0  \n",
       " 0.0  \n",
       " 0.0  \n",
       " 0.0  \n",
       " 0.0  \n",
       " 0.0  \n",
       " 0.0  \n",
       " 0.0  \n",
       " 0.0  "
      ]
     },
     "execution_count": 18,
     "metadata": {},
     "output_type": "execute_result"
    }
   ],
   "source": [
    "[mapeo1D(B, 0.001, n) for n in 1:100]"
   ]
  },
  {
   "cell_type": "markdown",
   "metadata": {},
   "source": [
    "¡De algún modo la solución se va a 0.0 después de mostrar inestabilidad!"
   ]
  },
  {
   "cell_type": "markdown",
   "metadata": {},
   "source": [
    "Graficamos ahora fijando la x y cambiando la n:"
   ]
  },
  {
   "cell_type": "code",
   "execution_count": 19,
   "metadata": {
    "collapsed": false
   },
   "outputs": [
    {
     "data": {
      "text/html": [],
      "text/plain": [
       "Interact.Slider{Float64}(Signal{Float64}(0.5, nactions=0),\"x\",0.5,0.0:0.05:1.0,true)"
      ]
     },
     "metadata": {},
     "output_type": "display_data"
    },
    {
     "data": {
      "image/png": "[encoded data removed]",
      "text/plain": [
       "PyPlot.Figure(PyObject <matplotlib.figure.Figure object at 0x00000000176BA7B8>)"
      ]
     },
     "execution_count": 19,
     "metadata": {
      "comm_id": "d241c0e4-9186-4582-b71c-f2ed9c045e0a",
      "reactive": true
     },
     "output_type": "execute_result"
    }
   ],
   "source": [
    "fig = figure()\n",
    "@manipulate for x in 0:0.05:1        \n",
    "    Ns = 1:1:100\n",
    "    gs = zeros(length(Ns))\n",
    "\n",
    "    for (j,n) in enumerate(Ns)\n",
    "\n",
    "        gs[j] = mapeo1D(B,x,n)\n",
    "    end\n",
    "\n",
    "    withfig(fig) do\n",
    "        plot(collect(Ns),gs,\"ro-\")\n",
    "\n",
    "        title(\"Gráfico 2: de la función B^{n=$n}(x=$x )\")\n",
    "        xlabel(L\"$N$\")\n",
    "        ylabel(\"g(x=$x,N)\")\n",
    "        ylim(0,1)\n",
    "        legend()\n",
    "    end\n",
    "    \n",
    "end"
   ]
  },
  {
   "cell_type": "markdown",
   "metadata": {},
   "source": [
    "Observamos que en el intervalo, para $N$ grande, el valor de todos los puntos tiende a 0. Entonces no es un problema de estabilidad del punto fijo, es un problema del cálculo. Esto se debe a como la computadora realiza el cálculo de multiplicación por 2, recorriendo solo el punto hasta que finalmente la memoria se queda vacía. Si hacemos la función en racionales, observamos que esto no ocurre."
   ]
  },
  {
   "cell_type": "code",
   "execution_count": 20,
   "metadata": {
    "collapsed": false
   },
   "outputs": [
    {
     "data": {
      "text/plain": [
       "100-element Array{Any,1}:\n",
       "  1//100\n",
       "  1//50 \n",
       "  1//25 \n",
       "  2//25 \n",
       "  4//25 \n",
       "  8//25 \n",
       " 16//25 \n",
       "  7//25 \n",
       " 14//25 \n",
       "  3//25 \n",
       "  6//25 \n",
       " 12//25 \n",
       " 24//25 \n",
       "   ⋮    \n",
       " 14//25 \n",
       "  3//25 \n",
       "  6//25 \n",
       " 12//25 \n",
       " 24//25 \n",
       " 23//25 \n",
       " 21//25 \n",
       " 17//25 \n",
       "  9//25 \n",
       " 18//25 \n",
       " 11//25 \n",
       " 22//25 "
      ]
     },
     "execution_count": 20,
     "metadata": {},
     "output_type": "execute_result"
    }
   ],
   "source": [
    "[mapeo1D(B, 1//100, n) for n in 1:100]"
   ]
  },
  {
   "cell_type": "code",
   "execution_count": 21,
   "metadata": {
    "collapsed": false
   },
   "outputs": [
    {
     "data": {
      "text/html": [],
      "text/plain": [
       "Interact.Slider{Int64}(Signal{Int64}(50, nactions=0),\"num\",50,1:1:100,true)"
      ]
     },
     "metadata": {},
     "output_type": "display_data"
    },
    {
     "data": {
      "image/png": "[encoded data removed]",
      "text/plain": [
       "PyPlot.Figure(PyObject <matplotlib.figure.Figure object at 0x000000001781DB38>)"
      ]
     },
     "execution_count": 21,
     "metadata": {
      "comm_id": "e4baced7-84d7-4ef4-b8ff-cd58a5c32c08",
      "reactive": true
     },
     "output_type": "execute_result"
    }
   ],
   "source": [
    "fig = figure()\n",
    "@manipulate for num in 1:1:100        \n",
    "    Ns = 1:1:100\n",
    "    gs = zeros(length(Ns))\n",
    "    \n",
    "    x=num//100\n",
    "\n",
    "    for (j,n) in enumerate(Ns)\n",
    "        \n",
    "        gs[j] = mapeo1D(B,x,n)\n",
    "    end\n",
    "\n",
    "    withfig(fig) do\n",
    "        plot(collect(Ns),gs,\"ro-\")\n",
    "\n",
    "        title(\"Gráfico 3: de la función B^{n=$n}(x=$x)\")\n",
    "        xlabel(L\"$N$\")\n",
    "        ylim(0,1)\n",
    "        ylabel(\"g(x=$x,N)\")\n",
    "        legend()\n",
    "    end\n",
    "    \n",
    "end"
   ]
  },
  {
   "cell_type": "code",
   "execution_count": null,
   "metadata": {
    "collapsed": true
   },
   "outputs": [],
   "source": []
  }
 ],
 "metadata": {
  "kernelspec": {
   "display_name": "Julia 0.4.6",
   "language": "julia",
   "name": "julia-0.4"
  },
  "language_info": {
   "file_extension": ".jl",
   "mimetype": "application/julia",
   "name": "julia",
   "version": "0.4.6"
  }
 },
 "nbformat": 4,
 "nbformat_minor": 0
}
