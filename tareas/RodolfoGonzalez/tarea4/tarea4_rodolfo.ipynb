{
 "cells": [
  {
   "cell_type": "markdown",
   "metadata": {},
   "source": [
    "# Tarea 4:  La ruta al caos de doblamiento de periodo.\n",
    "\n",
    "## Rodoflo Arturo González Trillo"
   ]
  },
  {
   "cell_type": "markdown",
   "metadata": {},
   "source": [
    "**Ejercicio 1:**\n",
    "\n",
    "Llamemos $c_n$ el valor del parámetro $c$ donde ocurre la bifurcación de doblamiento de periodo para el mapeo $Q_c(x)$, donde la órbita de periodo $2^n$ nace. Es decir, tenemos que $c_0=1/4$ marca la aparición del atractor de periodo $2^0=1$, $c_1=-1/4$ corresponde a la aparición del atractor de periodo $2^1=2$, $c_2=-3/4$ a la aparición del atractor de periodo $2^2=4$, etc. \n",
    "\n",
    "A partir de estos valores y otros que calcularán (al menos deben encontrar $c_6$), definimos la secuencia: $\\{f_0, f_1, f_2, \\dots\\}$, donde\n",
    "\n",
    "\\begin{equation}\n",
    "f_n = \\frac{c_n-c_{n+1}}{c_{n+1}-c_{n+2}} .\n",
    "\\end{equation}\n",
    "\n",
    "La pregunta es, ¿a qué valor converge esta secuencia?, es decir, dar una estimación de $f_\\infty$.\n",
    "\n",
    "*Hint:* Para realizar este ejercicio deben calcular el atractor para varias valores de $c$, de tal manera que puedan aislar las órbitas de periodo $2^p$ y de ahí determinar varios valores $c_n$. Sin embargo, van a requerir suficiente cuidado para obtener una buena aproximación de $c_n$. \n",
    "\n",
    "Una opción, que tiene ciertos inconvenientes numéricos que también ciertas ventajas se basa en recordar/usar que las bifurcaciones de doblamiento de periodo ocurren cuando los puntos de la órbita de periodo $p$ se tornan en repulsores, es decir, $(Q_c^p)'(x)=-1$. Esta opción, entonces, involucra obtener los valores $c_n$ usando los polinomios $Q_c^p(x)$ y diferenciación automática."
   ]
  },
  {
   "cell_type": "markdown",
   "metadata": {},
   "source": [
    "$f_n = \\frac{c_n-c_{n+1}}{c_{n+1}-c_{n+2}}$"
   ]
  },
  {
   "cell_type": "markdown",
   "metadata": {},
   "source": [
    "Las siguientes funciones nos permiten desarrollar nuestro algoritmo:"
   ]
  },
  {
   "cell_type": "code",
   "execution_count": 1,
   "metadata": {
    "collapsed": false
   },
   "outputs": [
    {
     "data": {
      "text/plain": [
       "ciclosestables! (generic function with 1 method)"
      ]
     },
     "execution_count": 1,
     "metadata": {},
     "output_type": "execute_result"
    }
   ],
   "source": [
    "#Función desarrollada por el profesor para encontrar los ciclos estables:\n",
    "\n",
    "function ciclosestables!(xx, f, nit, nout, cc)\n",
    "    @assert nit > 0 && nout > 0\n",
    "    \n",
    "    # Primeros nit iterados\n",
    "    x0 = 0.0\n",
    "    for it = 1:nit\n",
    "        x0 = f(x0, cc)\n",
    "    end\n",
    "    \n",
    "    # Se guardan los siguientes nout iterados\n",
    "    for it = 1:nout\n",
    "        x0 = f(x0, cc)\n",
    "        @inbounds xx[it] = x0    #No verifica si it está dentro del vector.\n",
    "    end\n",
    "    \n",
    "    return nothing\n",
    "end"
   ]
  },
  {
   "cell_type": "code",
   "execution_count": 2,
   "metadata": {
    "collapsed": false
   },
   "outputs": [
    {
     "data": {
      "text/plain": [
       "diagbifurc (generic function with 1 method)"
      ]
     },
     "execution_count": 2,
     "metadata": {},
     "output_type": "execute_result"
    }
   ],
   "source": [
    "#Función del profesor para graficar.\n",
    "\n",
    "\"\"\"\n",
    "    diagbifurc(f, nit, nout, crange)\n",
    "\n",
    "Itera el mapeo `f` `nit+nout` veces y regresa una matriz\n",
    "cuya columna `i` tiene los últimos `nout` iterados del mapeo\n",
    "para el valor del parámetro del mapeo `crange[i]`.\n",
    "\n",
    "La función `f` debe ser definida de tal manera que `f(x0, c)` \n",
    "tenga sentido.\n",
    "\"\"\"\n",
    "\n",
    "function diagbifurc(f, nit, nout, crange)\n",
    "    xx = Vector{Float64}(nout)\n",
    "    ff = Array{Float64,2}(nout, length(crange))\n",
    "    \n",
    "    for ic in eachindex(crange)\n",
    "        c = crange[ic]\n",
    "        ciclosestables!(xx, f, nit, nout, c)\n",
    "        ff[:,ic] = xx\n",
    "        #Agregar una instrucción para que diga cuantos valores de bifurcación hay.\n",
    "    end\n",
    "    \n",
    "    return ff\n",
    "end"
   ]
  },
  {
   "cell_type": "code",
   "execution_count": 3,
   "metadata": {
    "collapsed": false
   },
   "outputs": [
    {
     "data": {
      "text/plain": [
       "eliminar_valrep_ordenar! (generic function with 1 method)"
      ]
     },
     "execution_count": 3,
     "metadata": {},
     "output_type": "execute_result"
    }
   ],
   "source": [
    "\n",
    "\"\"\"\n",
    "    eliminar_valrep_ordenar!(vector)\n",
    "\n",
    "Esta función toma una variable de tipo ´Array´, la ordena y\n",
    "quita los elementos repetidos, considerando un margen de \n",
    "error.\n",
    "\n",
    "\"\"\"\n",
    "\n",
    "function eliminar_valrep_ordenar!(vector)\n",
    "    \n",
    "    N=length(vector)\n",
    "    \n",
    "    sort!(vector)  #función para ordenar.\n",
    "    \n",
    "    k = 1\n",
    "    ϵ = 1e-04 #margen de error\n",
    "    \n",
    "    for i in 2:N\n",
    "        if abs(vector[k]-vector[k+1]) <= ϵ  #Obseva si los valores difieren más allá de epsilón.\n",
    "            deleteat!(vector,k)             #Elimina el valor repetido.\n",
    "        else\n",
    "            k=k+1\n",
    "        end     \n",
    "    end\n",
    "    \n",
    "    vector\n",
    "    \n",
    "end"
   ]
  },
  {
   "cell_type": "code",
   "execution_count": 4,
   "metadata": {
    "collapsed": true
   },
   "outputs": [],
   "source": [
    "Qc(x,c) = x^2 + c\n",
    "\n",
    "crange = 0.25:-1/2^10:-2.0\n",
    "\n",
    "ff = diagbifurc(Qc, 1000, 256, crange); \n",
    "cc = ones(size(ff)[1])*crange';"
   ]
  },
  {
   "cell_type": "markdown",
   "metadata": {},
   "source": [
    "Queremos el valor inicial $f_0$ y $c_0$:"
   ]
  },
  {
   "cell_type": "code",
   "execution_count": 5,
   "metadata": {
    "collapsed": false
   },
   "outputs": [
    {
     "data": {
      "text/plain": [
       "0.4992094301416824"
      ]
     },
     "execution_count": 5,
     "metadata": {},
     "output_type": "execute_result"
    }
   ],
   "source": [
    "nout = 256\n",
    "nit = 1000\n",
    "f0 = Vector{Float64}(256)\n",
    "c0=0.25\n",
    "\n",
    "ciclosestables!(f0, Qc, nit, nout, c0)\n",
    "eliminar_valrep_ordenar!(f0)\n",
    "\n",
    "f0=f0[1]"
   ]
  },
  {
   "cell_type": "markdown",
   "metadata": {},
   "source": [
    "Ahora encontramos el valor de la bifurcación con:"
   ]
  },
  {
   "cell_type": "code",
   "execution_count": 6,
   "metadata": {
    "collapsed": false
   },
   "outputs": [
    {
     "data": {
      "text/plain": [
       "primera_bifurcacion (generic function with 1 method)"
      ]
     },
     "execution_count": 6,
     "metadata": {},
     "output_type": "execute_result"
    }
   ],
   "source": [
    "\n",
    "\"\"\"\n",
    "    primera_bifurcacion(f, nit, nout, crange)\n",
    "\n",
    "Dando una función de la forma `f(x,c)`, después de\n",
    "itera el mapeo `nit+nout`, evaluando sólo las úl-\n",
    "timo valores `nout`, arrojando los dos primeros\n",
    "puntos donde la función se bifurca en un rango \n",
    "`crange.`\n",
    "\n",
    "\"\"\"\n",
    "\n",
    "\n",
    "function primera_bifurcacion(f, nit, nout, crange)\n",
    "    \n",
    "    #Variables para almacenar el resultado.\n",
    "    rc=Float64[]\n",
    "    rf=Float64[]\n",
    "    \n",
    "    #Vectores vacíos para la función ciclosestables!\n",
    "    xx1 = Vector{Float64}(nout)\n",
    "    xx2 = Vector{Float64}(nout)\n",
    "    \n",
    "    #vector inicial    \n",
    "    ciclosestables!(xx1, f, nit, nout, first(crange))\n",
    "    eliminar_valrep_ordenar!(xx1)\n",
    "    \n",
    "    #Esta variable sirve como condición para detener la función.\n",
    "    j=0\n",
    "    \n",
    "    #Se define con un ciclo for para usar todo el rango.\n",
    "    for ic in 2:length(crange)\n",
    "        c = crange[ic]\n",
    "        \n",
    "        #Uso de las funciones antes definidas.\n",
    "        #Define otro vector para comparar.\n",
    "        ciclosestables!(xx2, f, nit, nout, c)\n",
    "        eliminar_valrep_ordenar!(xx2)\n",
    "        \n",
    "        #lo único que hace es comparar la diferencia en longitud de\n",
    "        #los vectores.\n",
    "        #Si uno es más largo que el otro, registra en que _c_ pasa y \n",
    "        #el promedio del valor de f en ambos vectores.\n",
    "        if length(xx1)!= length(xx2)\n",
    "            push!(rc, c)\n",
    "            push!(rf,(first(xx1)+first(xx2))/2)\n",
    "            \n",
    "            #Esta zona es para detener la función después de obtener los\n",
    "            #primeros 2 puntos de bifurcación el el intervalo.\n",
    "            \n",
    "            j=j+1\n",
    "            if j==2\n",
    "                break\n",
    "            end\n",
    "            \n",
    "            \n",
    "        end\n",
    "        \n",
    "        #Intercambio de valores, y regreso de xx2 a un estado en que la función\n",
    "        #ciclos_estables! pueda trabajar.\n",
    "        xx1 = xx2\n",
    "        xx2 = Vector{Float64}(nout)\n",
    "    \n",
    "    end\n",
    "    #Resultados.\n",
    "    return  rc,rf\n",
    "end\n"
   ]
  },
  {
   "cell_type": "markdown",
   "metadata": {},
   "source": [
    "Estos valores son las primeras dos bifuracaciones encontradas:"
   ]
  },
  {
   "cell_type": "code",
   "execution_count": 7,
   "metadata": {
    "collapsed": false
   },
   "outputs": [
    {
     "data": {
      "text/plain": [
       "([-0.7431640625,-1.2470703125],[-0.49635449586843317,-1.2046592154446776])"
      ]
     },
     "execution_count": 7,
     "metadata": {},
     "output_type": "execute_result"
    }
   ],
   "source": [
    "c12,f12=primera_bifurcacion(Qc, 1000, 5, crange)"
   ]
  },
  {
   "cell_type": "markdown",
   "metadata": {},
   "source": [
    "Graficamos:"
   ]
  },
  {
   "cell_type": "code",
   "execution_count": 8,
   "metadata": {
    "collapsed": false
   },
   "outputs": [
    {
     "ename": "LoadError",
     "evalue": "LoadError: UndefVarError: figure not defined\nwhile loading In[8], in expression starting on line 1",
     "output_type": "error",
     "traceback": [
      "LoadError: UndefVarError: figure not defined\nwhile loading In[8], in expression starting on line 1",
      ""
     ]
    }
   ],
   "source": [
    "figure(figsize=(6,4))\n",
    "plot(cc, ff, \"b,\")\n",
    "\n",
    "plot(c0,f0,\"go\",label=L\"f_0\")\n",
    "\n",
    "plot(c12,f12,\"ro\",label=L\"f_1 y f_2\")\n",
    "\n",
    "plot([c0,c12[2],c12[2],c0,c0],[f0,f0,f12[2],f12[2],f0],\"y-\")\n",
    "\n",
    "\n",
    "\n",
    "plot()\n",
    "xlabel(L\"c\")\n",
    "ylabel(L\"x_\\infty\")\n",
    "legend()\n",
    "title(\"Fig. 2\")"
   ]
  },
  {
   "cell_type": "markdown",
   "metadata": {},
   "source": [
    "El recuadro amarillo lo hemos trazado con los puntos $0$ y $2$, servirá como referencia para acotar los límites de la función, bajo la suposición de que se trata de una gráfica autosimilar y hacer el algoritmo más eficiente. Sólo seguirmos los puntos más inferiores de Figura 2."
   ]
  },
  {
   "cell_type": "markdown",
   "metadata": {},
   "source": [
    "Se observa en la línea roja horizontal, que arriba de $f_max$ queda una rama y abajo la otra. Lo mismo pasa a la izquierda y a la derecha de $c_max$. Ésto es útil porque se puede ir descartando la parte del gráfico que corresponde a la otra rama en cada valor $c$ de bifurcación encontrado.\n",
    "\n",
    "Se pretende hacer un algoritmo recursivo que encuentre el valor de cada bifurcación, acotando como se muestra en figura 2, primero considere primero el área dentro de las líneas verdes para calcular la primera raíz, luego la de las líneas rojas, etc."
   ]
  },
  {
   "cell_type": "markdown",
   "metadata": {},
   "source": [
    "Para tal próposito hacemos un nuevo método de `eliminar_valrep_ordenar!`, que descarte tambien valores fuera de los límites de $f$ deseados:"
   ]
  },
  {
   "cell_type": "code",
   "execution_count": 9,
   "metadata": {
    "collapsed": false
   },
   "outputs": [
    {
     "data": {
      "text/plain": [
       "eliminar_valrep_ordenar! (generic function with 2 methods)"
      ]
     },
     "execution_count": 9,
     "metadata": {},
     "output_type": "execute_result"
    }
   ],
   "source": [
    "\n",
    "\"\"\"\n",
    "    eliminar_valrep_ordenar!(vector,limit,ϵ)\n",
    "\n",
    "Esta función toma una variable de tipo ´Array´, la ordena\n",
    "quita los elementos fuera del intervalo `limit`, y quita los\n",
    "elementos repetidos considerando un margen de error `ϵ`.\n",
    "\n",
    "\"\"\"\n",
    "\n",
    "function eliminar_valrep_ordenar!(vector,limit,ϵ)\n",
    "    \n",
    "    N=length(vector)\n",
    "    \n",
    "    sort!(vector) #Ordena el vector.\n",
    "    sort!(limit)\n",
    "    \n",
    "    k = 1\n",
    "    \n",
    "    for i in 2:N\n",
    "        if vector[k]<limit[1] || vector[k]>limit[2]  #Observa si el valor está dentro de los límites.\n",
    "            deleteat!(vector,k)            \n",
    "        elseif abs(vector[k]-vector[k+1]) <= ϵ  #Obseva si los valores difieren más allá de epsilón.\n",
    "            deleteat!(vector,k)             #Elimina el valor repetido.            \n",
    "        else\n",
    "            k=k+1\n",
    "        end     \n",
    "    end\n",
    "    \n",
    "    vector\n",
    "    \n",
    "end"
   ]
  },
  {
   "cell_type": "markdown",
   "metadata": {},
   "source": [
    "Y otro método también para la función `primera_bifurcación`"
   ]
  },
  {
   "cell_type": "code",
   "execution_count": 10,
   "metadata": {
    "collapsed": false
   },
   "outputs": [
    {
     "data": {
      "text/plain": [
       "primera_bifurcacion (generic function with 2 methods)"
      ]
     },
     "execution_count": 10,
     "metadata": {},
     "output_type": "execute_result"
    }
   ],
   "source": [
    "\n",
    "\"\"\"\n",
    "    primera_bifurcacion(f, nit, nout, crange)\n",
    "\n",
    "Dando una función de la forma `f(x,c)`, después de\n",
    "itera el mapeo `nit+nout`, evaluando sólo las úl-\n",
    "timo valores `nout`, arrojando los dos primeros\n",
    "puntos donde la función se bifurca en un rango \n",
    "`crange`, para valores dentro de `flimit` con una\n",
    "tolerancia `ϵ`.\n",
    "\n",
    "\"\"\"\n",
    "\n",
    "function primera_bifurcacion(f, nit, nout, crange, flimit, ϵ)\n",
    "        \n",
    "    rc=Float64[]\n",
    "    rf=Float64[]\n",
    "    \n",
    "    xx1 = Vector{Float64}(nout)\n",
    "    xx2 = Vector{Float64}(nout)\n",
    "    \n",
    "    #vector inicial    \n",
    "    ciclosestables!(xx1, f, nit, nout, first(crange))\n",
    "    eliminar_valrep_ordenar!(xx1,flimit,ϵ)\n",
    "    \n",
    "    j=0\n",
    "    for ic in 2:length(crange)\n",
    "        c = crange[ic]\n",
    "        ciclosestables!(xx2, f, nit, nout, c)\n",
    "        eliminar_valrep_ordenar!(xx2,flimit,ϵ)\n",
    "        \n",
    "        if length(xx1)!= length(xx2)\n",
    "            push!(rc, c)\n",
    "            push!(rf,(first(xx1)+first(xx2))/2)\n",
    "            j=j+1\n",
    "            if j==2\n",
    "                break\n",
    "            end\n",
    "        end\n",
    "        xx1 = xx2\n",
    "        xx2 = Vector{Float64}(nout)\n",
    "    \n",
    "    end\n",
    "    \n",
    "    return  rc,rf\n",
    "end"
   ]
  },
  {
   "cell_type": "markdown",
   "metadata": {},
   "source": [
    "Ya estamos en condición de trabajar la función final para encontrar las bifurcaciones."
   ]
  },
  {
   "cell_type": "code",
   "execution_count": 11,
   "metadata": {
    "collapsed": false
   },
   "outputs": [
    {
     "data": {
      "text/plain": [
       "encontrar_bifurcaciones (generic function with 1 method)"
      ]
     },
     "execution_count": 11,
     "metadata": {},
     "output_type": "execute_result"
    }
   ],
   "source": [
    "\n",
    "function encontrar_bifurcaciones(f,crange,flimit,N)\n",
    "    \n",
    "    #Vectores vacíos para almacenar los resultados.\n",
    "    Rc=Float64[]\n",
    "    Rf=Float64[]\n",
    "    \n",
    "    ϵ   = 1e-05 #margen de error\n",
    "    nit  = 2000\n",
    "    \n",
    "    #Primer valor:\n",
    "    f0 = Vector{Float64}(256)\n",
    "    \n",
    "    ciclosestables!(f0, f, nit, 2, first(crange))\n",
    "    eliminar_valrep_ordenar!(f0)\n",
    "    f0=f0[1]\n",
    "    \n",
    "    #Primera bifurcación:\n",
    "    c12,f12=primera_bifurcacion(f, nit, 4, crange)\n",
    "    push!(Rc,c12[1])\n",
    "    push!(Rf,f12[1])\n",
    "    \n",
    "    #Factores para encontrar los nuevos crange y flimit.\n",
    "    \n",
    "    Δc = abs(c12[1]-c12[2])\n",
    "    Δf = abs(f12[1]-f12[2])\n",
    "    \n",
    "    αc = abs(Δc/(first(crange)-c12[1]))\n",
    "    αf = abs(Δf/(f0-f12[1]))\n",
    "    \n",
    "    crangen = c12[1]-0.1*Δc : -Δc/1000 : c12[1]-((1+αc)*Δc)\n",
    "    flimitn = [f12[1]-(1+αf)*Δf , f12[1]]\n",
    "    \n",
    "    for i in 2:N\n",
    "        \n",
    "        #Aquí se encuentran las bifurcaciones dentro del los nuevos intervalos.\n",
    "        \n",
    "        c12,f12 = primera_bifurcacion(f, nit, 2^(i+3), crangen, flimitn, ϵ)\n",
    "        push!(Rc,c12[1])\n",
    "        push!(Rf,f12[1])\n",
    "        \n",
    "        #Redefinición de los intervalos.\n",
    "        Δc=αc*Δc\n",
    "        Δf=αf*Δf\n",
    "        \n",
    "        crangen = c12[1]-0.1*Δc : -Δc/1000 : c12[1]-((1+αc)*Δc)\n",
    "        flimitn = [f12[1]-(1+αf)*Δf , f12[1]]\n",
    "        \n",
    "    end\n",
    "    #Resultados.\n",
    "    Rc,Rf    \n",
    "    \n",
    "\n",
    "end\n",
    "    "
   ]
  },
  {
   "cell_type": "markdown",
   "metadata": {},
   "source": [
    "Trabajamos con nuestra función:"
   ]
  },
  {
   "cell_type": "code",
   "execution_count": 12,
   "metadata": {
    "collapsed": false
   },
   "outputs": [],
   "source": [
    "Qc(x,c) = x^2 + c\n",
    "\n",
    "flimit = [-2.0,2.0]\n",
    "crange  = 0.25:-1/2^10:-2.0\n",
    "\n",
    "Rc,Rf=encontrar_bifurcaciones(Qc,crange,flimit,10);"
   ]
  },
  {
   "cell_type": "markdown",
   "metadata": {},
   "source": [
    "Verificamos, los datos mediante una gráfica."
   ]
  },
  {
   "cell_type": "code",
   "execution_count": 13,
   "metadata": {
    "collapsed": false
   },
   "outputs": [
    {
     "ename": "LoadError",
     "evalue": "LoadError: UndefVarError: figure not defined\nwhile loading In[13], in expression starting on line 1",
     "output_type": "error",
     "traceback": [
      "LoadError: UndefVarError: figure not defined\nwhile loading In[13], in expression starting on line 1",
      ""
     ]
    }
   ],
   "source": [
    "figure(figsize=(6,4))\n",
    "plot(cc, ff, \"b,\")\n",
    "\n",
    "plot(c0,f0,\"go\",label=L\"f_0\")\n",
    "\n",
    "plot(Rc,Rf,\"r+\",)\n",
    "\n",
    "\n",
    "\n",
    "\n",
    "plot()\n",
    "xlabel(L\"c\")\n",
    "ylabel(L\"x_\\infty\")\n",
    "legend()\n",
    "title(\"Fig. 3\")"
   ]
  },
  {
   "cell_type": "markdown",
   "metadata": {},
   "source": [
    "Las bifurcaciones encontradas corresponden a:"
   ]
  },
  {
   "cell_type": "code",
   "execution_count": 14,
   "metadata": {
    "collapsed": false
   },
   "outputs": [
    {
     "data": {
      "text/plain": [
       "10-element Array{Float64,1}:\n",
       " -0.74707\n",
       " -1.24852\n",
       " -1.36754\n",
       " -1.39388\n",
       " -1.40086\n",
       " -1.40411\n",
       " -1.40575\n",
       " -1.40658\n",
       " -1.40699\n",
       " -1.4072 "
      ]
     },
     "execution_count": 14,
     "metadata": {},
     "output_type": "execute_result"
    }
   ],
   "source": [
    "Rc"
   ]
  },
  {
   "cell_type": "markdown",
   "metadata": {},
   "source": [
    "Ahora sí, hacemos el ejercicio con $f_n = \\frac{c_n-c_{n+1}}{c_{n+1}-c_{n+2}}$:"
   ]
  },
  {
   "cell_type": "code",
   "execution_count": 15,
   "metadata": {
    "collapsed": false
   },
   "outputs": [
    {
     "data": {
      "text/plain": [
       "8-element Array{Any,1}:\n",
       " 4.21315\n",
       " 4.51974\n",
       " 3.7723 \n",
       " 2.14372\n",
       " 1.98638\n",
       " 1.98638\n",
       " 1.98638\n",
       " 1.98638"
      ]
     },
     "execution_count": 15,
     "metadata": {},
     "output_type": "execute_result"
    }
   ],
   "source": [
    "[(Rc[i]-Rc[i+1])/(Rc[i+1]-Rc[i+2]) for i in 1:length(Rc)-2]"
   ]
  },
  {
   "cell_type": "markdown",
   "metadata": {},
   "source": [
    "Como se puede apreciar, converge a 1.98638"
   ]
  },
  {
   "cell_type": "markdown",
   "metadata": {},
   "source": [
    "**Ejercicio 2:**\n",
    "\n",
    "Repitan el ejercicio anterior para el mapeo $S_c(x) = c \\sin(x)$. ¿Cómo se comparan los valores obtenidos de $f_n$?"
   ]
  },
  {
   "cell_type": "markdown",
   "metadata": {},
   "source": [
    "Primero hacemos:\n",
    "\n",
    "$$S_c(x) = x$$\n",
    "\n",
    "$$ \\sin(x) = \\frac{x}{c} $$"
   ]
  },
  {
   "cell_type": "markdown",
   "metadata": {},
   "source": [
    "Obsevamos que se tienen muchas raíces que dependen del valor de c, sólo en el caso  $c \\leq \\pm 1$ se tiene una sola raíz, $x=0$, sin importar el valor de $c$.\n",
    "\n",
    "Si derivamos el mapeo:\n",
    "\n",
    "$$Sc'=c\\cos(x)$$\n",
    "\n",
    "Para $|Sc'|\\leq 1$, es decir, atractivo, requerimos que:\n",
    "\n",
    "$$-1\\leq c \\leq 1$$\n",
    "\n",
    "Entonces:\n",
    "\n",
    "$$-1 \\leq c \\cos(x) \\leq 1 $$\n",
    "\n",
    "$$-\\frac{1}{c} \\leq  \\cos(x) \\leq \\frac{1}{c} $$\n",
    "\n",
    "$$-\\arccos \\left ( \\frac{1}{c} \\right ) \\leq  x \\leq \\arccos \\left ( \\frac{1}{c} \\right ) $$\n",
    "\n"
   ]
  },
  {
   "cell_type": "markdown",
   "metadata": {},
   "source": [
    "La función `ciclos_estables` está centrada en un valor inicial $x_0=0.0$, para no modificar la sintaxis, usamos $S_c(x) = c \\cos(x)$, sabiendo que $\\sin(x)=\\cos(\\pi/2-x)$"
   ]
  },
  {
   "cell_type": "code",
   "execution_count": 16,
   "metadata": {
    "collapsed": true
   },
   "outputs": [],
   "source": [
    "Sc(x,c) = c*cos(x)\n",
    "\n",
    "crange = -1:-1/2^10:-3\n",
    "ff = diagbifurc(Sc, 1000, 256, crange); \n",
    "cc = ones(size(ff)[1])*crange';"
   ]
  },
  {
   "cell_type": "code",
   "execution_count": 17,
   "metadata": {
    "collapsed": false
   },
   "outputs": [
    {
     "ename": "LoadError",
     "evalue": "LoadError: UndefVarError: figure not defined\nwhile loading In[17], in expression starting on line 1",
     "output_type": "error",
     "traceback": [
      "LoadError: UndefVarError: figure not defined\nwhile loading In[17], in expression starting on line 1",
      ""
     ]
    }
   ],
   "source": [
    "figure(figsize=(6,4))\n",
    "plot(cc, ff, \"b,\")\n",
    "\n",
    "plot()\n",
    "xlabel(L\"c\")\n",
    "ylabel(L\"x_\\infty\")\n",
    "legend()\n",
    "title(\"Fig. 4\")"
   ]
  },
  {
   "cell_type": "code",
   "execution_count": 18,
   "metadata": {
    "collapsed": false
   },
   "outputs": [],
   "source": [
    "Sc(x,c) = c*cos(x)\n",
    "\n",
    "crange = -1:-1/2^10:-3\n",
    "ff = diagbifurc(Sc, 1000, 256, crange); \n",
    "cc = ones(size(ff)[1])*crange';\n",
    "flimi=[-3.0,3.0]\n",
    "\n",
    "\n",
    "Rc,Rf=encontrar_bifurcaciones(Sc,crange,flimit,6);"
   ]
  },
  {
   "cell_type": "code",
   "execution_count": 19,
   "metadata": {
    "collapsed": false
   },
   "outputs": [
    {
     "data": {
      "text/plain": [
       "4-element Array{Any,1}:\n",
       " 4.33181 \n",
       " 0.878798\n",
       " 0.62069 \n",
       " 0.62069 "
      ]
     },
     "execution_count": 19,
     "metadata": {},
     "output_type": "execute_result"
    }
   ],
   "source": [
    "[(Rc[i]-Rc[i+1])/(Rc[i+1]-Rc[i+2]) for i in 1:length(Rc)-2]"
   ]
  },
  {
   "cell_type": "markdown",
   "metadata": {},
   "source": [
    "Observamos un diagrama muy similar, con un convergencia en 0.62069."
   ]
  },
  {
   "cell_type": "markdown",
   "metadata": {},
   "source": [
    "**Ejercicio 3:**\n",
    "\n",
    "Como se ve en la Fig. 1, $x=0$ pertenece a un ciclo de periodo $2^n$ para ciertos valores $C_n$ del parámetro. Dichos valores son *especiales*, ya que $x=0$ esté en el ciclo de periodo $2^n$ marca los llamados *ciclos superestable*, donde tenemos $(Q^{2^p}_{C_n})'(0)=0$.\n",
    "\n",
    "¿A qué converge la secuencia $f_n$, definida ahora con los valores $C_n$.\n",
    "\n",
    "De los $2^p$ puntos del ciclo de periodo $2^p$, es decir, $\\{0, p_1, \\dots p_{2^{n-1}}\\,\\}$ hay uno (distinto del 0) cuya distancia a 0 es menor; a ese punto lo identificamos como $d_n$. Calcular numéricamente a dónde converge la secuencia $d_n/d_{n+1}$."
   ]
  },
  {
   "cell_type": "markdown",
   "metadata": {},
   "source": [
    "Requerimos una función distinta."
   ]
  },
  {
   "cell_type": "code",
   "execution_count": 26,
   "metadata": {
    "collapsed": false
   },
   "outputs": [
    {
     "data": {
      "text/plain": [
       "primera_intersección (generic function with 1 method)"
      ]
     },
     "execution_count": 26,
     "metadata": {},
     "output_type": "execute_result"
    }
   ],
   "source": [
    "\n",
    "\"\"\"\n",
    "    primera_intersección(f, nit, nout, crange,ϵ)\n",
    "\n",
    "Dando una función de la forma `f(x,c)`, después de\n",
    "iterar el mapeo `nit+nout` veces, evaluando sólo las \n",
    "último valores `nout`, devuelve la primera `c`, con\n",
    "valor |c|<=ϵ en `crange` así, como el 2° falor de f\n",
    "mas cercano a 0 con esa `c`.\n",
    "\n",
    "\"\"\"\n",
    "\n",
    "function primera_intersección(f, nit, nout, crange,ϵ)\n",
    "    \n",
    "    #Variables para almacenar el resultado.\n",
    "    rc    = Float64\n",
    "    rf    = Float64\n",
    "    \n",
    "    \n",
    "    for ic in 1:1:length(crange)\n",
    "        c = crange[ic]\n",
    "        \n",
    "        xx1 = Vector{Float64}(nout)\n",
    "        \n",
    "        #Aquí calculamos el valor absoluto...\n",
    "        ciclosestables!(xx1, f, nit, nout, c)\n",
    "        xx1=abs(xx1)\n",
    "        eliminar_valrep_ordenar!(xx1)  #Ordenamos y quitamos valores repetidos.\n",
    "        \n",
    "        if xx1[1] <= ϵ  #Evaluamos sólo el primer valor, puesto que el vector está ordenado.\n",
    "            rc = c\n",
    "            if length(xx1)==1\n",
    "                rf=xx1[1]\n",
    "                break\n",
    "            else\n",
    "                rf = xx1[2]  #Almacenamos el segundo valor, para la última parte del ejercicio.\n",
    "                break\n",
    "            end\n",
    "        end\n",
    "    end\n",
    "    \n",
    "    rc,rf\n",
    "\n",
    "end"
   ]
  },
  {
   "cell_type": "code",
   "execution_count": 21,
   "metadata": {
    "collapsed": false
   },
   "outputs": [
    {
     "data": {
      "text/plain": [
       "(-1.0,1.0)"
      ]
     },
     "execution_count": 21,
     "metadata": {},
     "output_type": "execute_result"
    }
   ],
   "source": [
    "primera_intersección(Qc, 2000, 264, crange, 1e-3)"
   ]
  },
  {
   "cell_type": "code",
   "execution_count": 22,
   "metadata": {
    "collapsed": false
   },
   "outputs": [
    {
     "data": {
      "text/plain": [
       "encontrar_intersecciones (generic function with 1 method)"
      ]
     },
     "execution_count": 22,
     "metadata": {},
     "output_type": "execute_result"
    }
   ],
   "source": [
    "\n",
    "\"\"\"\n",
    "    encontrar_intersecciones(f,crange,N)\n",
    "\n",
    "Dando una función de la forma `f(x,c)`, encuentra las\n",
    "primeras `N ` c's en el rango `crange` dado que `f`=0\n",
    "\n",
    "También devuelve las f's más cercanas a 0.0.\n",
    "\n",
    "\"\"\"\n",
    "\n",
    "function encontrar_intersecciones(f,crange,N)\n",
    "    \n",
    "    #Vectores vacíos para almacenar los resultados.\n",
    "    Rc=Float64[]\n",
    "    Rf=Float64[]\n",
    "    \n",
    "    ϵ   = 1e-04 #margen de error\n",
    "    nit  = 2000\n",
    "    \n",
    "    crangen = crange\n",
    "\n",
    "    for i in 1:N\n",
    "        \n",
    "        #Aquí se encuentran las bifurcaciones dentro del los nuevos intervalos.\n",
    "        \n",
    "        rc,rf = primera_intersección(f, nit, 2^(i+3), crangen,ϵ)\n",
    "        push!(Rc,rc)\n",
    "        push!(Rf,rf)\n",
    "        \n",
    "        #Redefinición de los intervalos.\n",
    "        Δc=abs(rc-last(crange))\n",
    "        \n",
    "        crangen = rc-0.05*Δc : -Δc/3000 : last(crange)\n",
    "        \n",
    "    end\n",
    "    #Resultados.\n",
    "    Rc,Rf    \n",
    "    \n",
    "\n",
    "end"
   ]
  },
  {
   "cell_type": "code",
   "execution_count": 23,
   "metadata": {
    "collapsed": false
   },
   "outputs": [],
   "source": [
    "Qc(x,c) = x^2 + c\n",
    "\n",
    "flimit = [-2.0,2.0]\n",
    "crange  = 0.25:-1/2^10:-2.0\n",
    "\n",
    "Rc,Rf=encontrar_intersecciones(Qc,crange,14);"
   ]
  },
  {
   "cell_type": "markdown",
   "metadata": {},
   "source": [
    "Calculamos:\n",
    "\n",
    "\\begin{equation}\n",
    "f_n = \\frac{c_n-c_{n+1}}{c_{n+1}-c_{n+2}} .\n",
    "\\end{equation}"
   ]
  },
  {
   "cell_type": "code",
   "execution_count": 24,
   "metadata": {
    "collapsed": false
   },
   "outputs": [
    {
     "data": {
      "text/plain": [
       "12-element Array{Any,1}:\n",
       " 3.21888 \n",
       " 3.08683 \n",
       " 2.93075 \n",
       " 0.720313\n",
       " 1.88184 \n",
       " 1.0057  \n",
       " 1.10447 \n",
       " 1.05263 \n",
       " 1.04566 \n",
       " 0.908589\n",
       " 1.23073 \n",
       " 1.01276 "
      ]
     },
     "execution_count": 24,
     "metadata": {},
     "output_type": "execute_result"
    }
   ],
   "source": [
    "[(Rc[i]-Rc[i+1])/(Rc[i+1]-Rc[i+2]) for i in 1:length(Rc)-2]"
   ]
  },
  {
   "cell_type": "markdown",
   "metadata": {},
   "source": [
    "Díficilmente se obseva una convergencia, como era de esperarse en el dibujo."
   ]
  },
  {
   "cell_type": "markdown",
   "metadata": {},
   "source": [
    "Y ahora: \n",
    "$d_n/d_{n+1}$"
   ]
  },
  {
   "cell_type": "code",
   "execution_count": 25,
   "metadata": {
    "collapsed": false
   },
   "outputs": [
    {
     "data": {
      "text/plain": [
       "13-element Array{Any,1}:\n",
       " -0.0     \n",
       "  0.76297 \n",
       "  0.928688\n",
       "  0.976246\n",
       "  0.968075\n",
       "  0.983318\n",
       "  0.983683\n",
       "  0.985442\n",
       "  0.986358\n",
       "  0.987122\n",
       "  0.986025\n",
       "  0.988772\n",
       "  0.989035"
      ]
     },
     "execution_count": 25,
     "metadata": {},
     "output_type": "execute_result"
    }
   ],
   "source": [
    "[Rc[i]/(Rc[i+1]) for i in 1:length(Rc)-1]"
   ]
  },
  {
   "cell_type": "markdown",
   "metadata": {},
   "source": [
    "No se observa una convergencia, pero parece que el valor es asintótico a 1.0"
   ]
  },
  {
   "cell_type": "code",
   "execution_count": null,
   "metadata": {
    "collapsed": true
   },
   "outputs": [],
   "source": []
  }
 ],
 "metadata": {
  "kernelspec": {
   "display_name": "Julia 0.4.6",
   "language": "julia",
   "name": "julia-0.4"
  },
  "language_info": {
   "file_extension": ".jl",
   "mimetype": "application/julia",
   "name": "julia",
   "version": "0.4.6"
  }
 },
 "nbformat": 4,
 "nbformat_minor": 1
}
